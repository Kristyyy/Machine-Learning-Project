{
  "nbformat": 4,
  "nbformat_minor": 0,
  "metadata": {
    "colab": {
      "name": "Kristy - LogisticRegression2 - when customers are going to transact Colab.ipynb",
      "provenance": [],
      "collapsed_sections": [],
      "authorship_tag": "ABX9TyPewWjyH9ngoFPCNWH2VvJv",
      "include_colab_link": true
    },
    "kernelspec": {
      "name": "python3",
      "display_name": "Python 3"
    }
  },
  "cells": [
    {
      "cell_type": "markdown",
      "metadata": {
        "id": "view-in-github",
        "colab_type": "text"
      },
      "source": [
        "<a href=\"https://colab.research.google.com/github/Kristyyy/Machine-Learning-Project/blob/master/Kristy_LogisticRegression2_when_customers_are_going_to_transact_Colab.ipynb\" target=\"_parent\"><img src=\"https://colab.research.google.com/assets/colab-badge.svg\" alt=\"Open In Colab\"/></a>"
      ]
    },
    {
      "cell_type": "markdown",
      "metadata": {
        "id": "yO321L6JW7pu",
        "colab_type": "text"
      },
      "source": [
        "## Author: Fang Jung(Kristy) Lin \n",
        "## Purpose: Logistic Regression Analysis - when customers are going to transact"
      ]
    },
    {
      "cell_type": "markdown",
      "metadata": {
        "id": "N6Zeww66XJfR",
        "colab_type": "text"
      },
      "source": [
        "# Import necessary packages"
      ]
    },
    {
      "cell_type": "code",
      "metadata": {
        "id": "4FFHTVBcWIYt",
        "colab_type": "code",
        "colab": {}
      },
      "source": [
        "import numpy as np\n",
        "import pandas as pd\n",
        "import random\n",
        "import os\n",
        "\n",
        "from matplotlib import pyplot as plt\n",
        "import pylab as pl\n",
        "from matplotlib.ticker import PercentFormatter\n",
        "from pylab import rcParams\n",
        "import seaborn as sns\n",
        "\n",
        "import statsmodels.api as sm\n",
        "from sklearn import datasets\n",
        "from sklearn.preprocessing import LabelEncoder\n",
        "from sklearn.feature_selection import RFE\n",
        "from sklearn.linear_model import LogisticRegression\n",
        "from sklearn.linear_model import LassoCV, LassoLarsCV, LassoLarsIC\n",
        "from sklearn.model_selection import train_test_split\n",
        "from sklearn.linear_model import LinearRegression\n",
        "from sklearn.metrics import mean_squared_error\n",
        "from sklearn import linear_model\n",
        "from sklearn.linear_model import Ridge\n",
        "from sklearn.linear_model import Lasso\n",
        "from sklearn.metrics import mean_squared_error, r2_score"
      ],
      "execution_count": 0,
      "outputs": []
    },
    {
      "cell_type": "markdown",
      "metadata": {
        "id": "zepEndf-iwHC",
        "colab_type": "text"
      },
      "source": [
        "# Purpose for the analysis"
      ]
    },
    {
      "cell_type": "markdown",
      "metadata": {
        "id": "LwxtpLOniyxn",
        "colab_type": "text"
      },
      "source": [
        "* Use logistic regression to predict when customers are going to transact \n",
        "* Determine the causes for a transaction"
      ]
    },
    {
      "cell_type": "markdown",
      "metadata": {
        "id": "4f2NltrAi24I",
        "colab_type": "text"
      },
      "source": [
        "# Part1. Data Acquisition and Exploration"
      ]
    },
    {
      "cell_type": "markdown",
      "metadata": {
        "id": "jjpo0FIYWqu4",
        "colab_type": "text"
      },
      "source": [
        "### Data Acquisition\n",
        "\n",
        "The actual path to downloadable CSV is: https://docs.google.com/spreadsheets/d/e/2PACX-1vRk3BvuLxQIuEf83HB8Xu-GK5EESgREILi4whh7X0ahIZppn4zbPLlYWe96m6W24IWKVMOANzBY3ZXI/pub?gid=1878290979&single=true&output=csv\n",
        "\n",
        "\n",
        "Read data from Google sheet and explore the data frame"
      ]
    },
    {
      "cell_type": "code",
      "metadata": {
        "id": "bp04378qWsAY",
        "colab_type": "code",
        "outputId": "ddde3412-3b6a-415b-d253-f4b3163cb232",
        "colab": {
          "base_uri": "https://localhost:8080/",
          "height": 162
        }
      },
      "source": [
        "data_path = 'https://docs.google.com/spreadsheets/d/e/2PACX-1vRk3BvuLxQIuEf83HB8Xu-GK5EESgREILi4whh7X0ahIZppn4zbPLlYWe96m6W24IWKVMOANzBY3ZXI/pub?gid=1878290979&single=true&output=csv'\n",
        "my_df = pd.read_csv(data_path)\n",
        "\n",
        "my_df.head(3)"
      ],
      "execution_count": 0,
      "outputs": [
        {
          "output_type": "execute_result",
          "data": {
            "text/html": [
              "<div>\n",
              "<style scoped>\n",
              "    .dataframe tbody tr th:only-of-type {\n",
              "        vertical-align: middle;\n",
              "    }\n",
              "\n",
              "    .dataframe tbody tr th {\n",
              "        vertical-align: top;\n",
              "    }\n",
              "\n",
              "    .dataframe thead th {\n",
              "        text-align: right;\n",
              "    }\n",
              "</style>\n",
              "<table border=\"1\" class=\"dataframe\">\n",
              "  <thead>\n",
              "    <tr style=\"text-align: right;\">\n",
              "      <th></th>\n",
              "      <th>row</th>\n",
              "      <th>transaction</th>\n",
              "      <th>salary_usd</th>\n",
              "      <th>is_male</th>\n",
              "      <th>is_married</th>\n",
              "      <th>is_college</th>\n",
              "      <th>is_professional</th>\n",
              "      <th>is_senior</th>\n",
              "      <th>is_employed</th>\n",
              "      <th>is_single_income</th>\n",
              "      <th>children_present</th>\n",
              "      <th>is_renter</th>\n",
              "      <th>lives_in_house</th>\n",
              "      <th>is_english_primary_language</th>\n",
              "      <th>previously_disney_customer</th>\n",
              "      <th>previous_streaming_service_customer</th>\n",
              "    </tr>\n",
              "  </thead>\n",
              "  <tbody>\n",
              "    <tr>\n",
              "      <th>0</th>\n",
              "      <td>653</td>\n",
              "      <td>0</td>\n",
              "      <td>25000</td>\n",
              "      <td>1</td>\n",
              "      <td>0</td>\n",
              "      <td>0</td>\n",
              "      <td>0</td>\n",
              "      <td>0</td>\n",
              "      <td>0</td>\n",
              "      <td>1</td>\n",
              "      <td>0</td>\n",
              "      <td>1</td>\n",
              "      <td>0</td>\n",
              "      <td>1</td>\n",
              "      <td>0</td>\n",
              "      <td>0</td>\n",
              "    </tr>\n",
              "    <tr>\n",
              "      <th>1</th>\n",
              "      <td>546</td>\n",
              "      <td>0</td>\n",
              "      <td>7000</td>\n",
              "      <td>0</td>\n",
              "      <td>0</td>\n",
              "      <td>0</td>\n",
              "      <td>0</td>\n",
              "      <td>0</td>\n",
              "      <td>0</td>\n",
              "      <td>1</td>\n",
              "      <td>1</td>\n",
              "      <td>1</td>\n",
              "      <td>1</td>\n",
              "      <td>1</td>\n",
              "      <td>0</td>\n",
              "      <td>0</td>\n",
              "    </tr>\n",
              "    <tr>\n",
              "      <th>2</th>\n",
              "      <td>463</td>\n",
              "      <td>0</td>\n",
              "      <td>25000</td>\n",
              "      <td>1</td>\n",
              "      <td>0</td>\n",
              "      <td>0</td>\n",
              "      <td>1</td>\n",
              "      <td>0</td>\n",
              "      <td>0</td>\n",
              "      <td>1</td>\n",
              "      <td>1</td>\n",
              "      <td>1</td>\n",
              "      <td>0</td>\n",
              "      <td>1</td>\n",
              "      <td>1</td>\n",
              "      <td>0</td>\n",
              "    </tr>\n",
              "  </tbody>\n",
              "</table>\n",
              "</div>"
            ],
            "text/plain": [
              "   row  ...  previous_streaming_service_customer\n",
              "0  653  ...                                    0\n",
              "1  546  ...                                    0\n",
              "2  463  ...                                    0\n",
              "\n",
              "[3 rows x 16 columns]"
            ]
          },
          "metadata": {
            "tags": []
          },
          "execution_count": 34
        }
      ]
    },
    {
      "cell_type": "markdown",
      "metadata": {
        "id": "I2UWMXfvvzXC",
        "colab_type": "text"
      },
      "source": [
        "### Interpret the data"
      ]
    },
    {
      "cell_type": "code",
      "metadata": {
        "id": "flSH6mrEW3Aw",
        "colab_type": "code",
        "outputId": "602b99ff-5e12-4942-a124-8710859784d6",
        "colab": {
          "base_uri": "https://localhost:8080/",
          "height": 289
        }
      },
      "source": [
        "list(my_df)"
      ],
      "execution_count": 0,
      "outputs": [
        {
          "output_type": "execute_result",
          "data": {
            "text/plain": [
              "['row',\n",
              " 'transaction',\n",
              " 'salary_usd',\n",
              " 'is_male',\n",
              " 'is_married',\n",
              " 'is_college',\n",
              " 'is_professional',\n",
              " 'is_senior',\n",
              " 'is_employed',\n",
              " 'is_single_income',\n",
              " 'children_present',\n",
              " 'is_renter',\n",
              " 'lives_in_house',\n",
              " 'is_english_primary_language',\n",
              " 'previously_disney_customer',\n",
              " 'previous_streaming_service_customer']"
            ]
          },
          "metadata": {
            "tags": []
          },
          "execution_count": 35
        }
      ]
    },
    {
      "cell_type": "markdown",
      "metadata": {
        "id": "C6DIk1NxwdHV",
        "colab_type": "text"
      },
      "source": [
        "Dataset interpretion:\n",
        "\n",
        "*   row: Random number assigned to the customer\n",
        "*   transaction: Whether the customer do the purchase (0,1)\n",
        "*   salary_usd: Salary of the customer\n",
        "*   is_male: Whether the customer is male (0,1)\n",
        "*   is_married: Whether the customer got married (0,1)\n",
        "*   is_college: Whether the customer has college degree (0,1)\n",
        "*   is_professional: Whether the customer is professional (0,1)\n",
        "*   is_senior: Whether the customer is a senior (0,1)\n",
        "*   is_employed: Whether the customer is employed (0,1)\n",
        "*   is_single_income: Whether the customer is single income (0,1)\n",
        "*   children_present: Whether the purchase is the present for children (0,1)\n",
        "*   is_renter: Whether the customer lives in the rent place (0,1)\n",
        "*   lives_in_house: Whether the customer lives in house (0,1)\n",
        "*   is_english_primary_language: Whether English is the primary language of the customer (0,1)\n",
        "*   previously_disney_customer: Whether the customer has purchased behavior in disney before (0,1)\n",
        "*   previous_streaming_service_customer: Whether the customer the streaming service customer before (0,1)\n",
        "\n",
        "\n",
        "\n",
        "\n",
        "\n"
      ]
    },
    {
      "cell_type": "markdown",
      "metadata": {
        "id": "qdj2Mmhx0tGK",
        "colab_type": "text"
      },
      "source": [
        "### Data preprocessing\n",
        "\n",
        "Check both the datatypes and if there are missing values"
      ]
    },
    {
      "cell_type": "code",
      "metadata": {
        "id": "MNh1OMn0v3IM",
        "colab_type": "code",
        "outputId": "fb84a037-e5ae-4c48-db9f-da9cc104e335",
        "colab": {
          "base_uri": "https://localhost:8080/",
          "height": 629
        }
      },
      "source": [
        "print('Datatype:\\n', my_df.dtypes)\n",
        "print('Missing values:\\n', my_df.isnull().any())"
      ],
      "execution_count": 0,
      "outputs": [
        {
          "output_type": "stream",
          "text": [
            "Datatype:\n",
            " row                                    int64\n",
            "transaction                            int64\n",
            "salary_usd                             int64\n",
            "is_male                                int64\n",
            "is_married                             int64\n",
            "is_college                             int64\n",
            "is_professional                        int64\n",
            "is_senior                              int64\n",
            "is_employed                            int64\n",
            "is_single_income                       int64\n",
            "children_present                       int64\n",
            "is_renter                              int64\n",
            "lives_in_house                         int64\n",
            "is_english_primary_language            int64\n",
            "previously_disney_customer             int64\n",
            "previous_streaming_service_customer    int64\n",
            "dtype: object\n",
            "Missing values:\n",
            " row                                    False\n",
            "transaction                            False\n",
            "salary_usd                             False\n",
            "is_male                                False\n",
            "is_married                             False\n",
            "is_college                             False\n",
            "is_professional                        False\n",
            "is_senior                              False\n",
            "is_employed                            False\n",
            "is_single_income                       False\n",
            "children_present                       False\n",
            "is_renter                              False\n",
            "lives_in_house                         False\n",
            "is_english_primary_language            False\n",
            "previously_disney_customer             False\n",
            "previous_streaming_service_customer    False\n",
            "dtype: bool\n"
          ],
          "name": "stdout"
        }
      ]
    },
    {
      "cell_type": "markdown",
      "metadata": {
        "id": "LH3ZuTtK0_Lv",
        "colab_type": "text"
      },
      "source": [
        "Remove unnecessary column"
      ]
    },
    {
      "cell_type": "code",
      "metadata": {
        "id": "vP_AkboW07DF",
        "colab_type": "code",
        "outputId": "7b015b0f-4904-4854-f33b-35914cf0d959",
        "colab": {
          "base_uri": "https://localhost:8080/",
          "height": 100
        }
      },
      "source": [
        "my_df = my_df.drop(columns = ['row'])\n",
        "my_df.head(1)"
      ],
      "execution_count": 0,
      "outputs": [
        {
          "output_type": "execute_result",
          "data": {
            "text/html": [
              "<div>\n",
              "<style scoped>\n",
              "    .dataframe tbody tr th:only-of-type {\n",
              "        vertical-align: middle;\n",
              "    }\n",
              "\n",
              "    .dataframe tbody tr th {\n",
              "        vertical-align: top;\n",
              "    }\n",
              "\n",
              "    .dataframe thead th {\n",
              "        text-align: right;\n",
              "    }\n",
              "</style>\n",
              "<table border=\"1\" class=\"dataframe\">\n",
              "  <thead>\n",
              "    <tr style=\"text-align: right;\">\n",
              "      <th></th>\n",
              "      <th>transaction</th>\n",
              "      <th>salary_usd</th>\n",
              "      <th>is_male</th>\n",
              "      <th>is_married</th>\n",
              "      <th>is_college</th>\n",
              "      <th>is_professional</th>\n",
              "      <th>is_senior</th>\n",
              "      <th>is_employed</th>\n",
              "      <th>is_single_income</th>\n",
              "      <th>children_present</th>\n",
              "      <th>is_renter</th>\n",
              "      <th>lives_in_house</th>\n",
              "      <th>is_english_primary_language</th>\n",
              "      <th>previously_disney_customer</th>\n",
              "      <th>previous_streaming_service_customer</th>\n",
              "    </tr>\n",
              "  </thead>\n",
              "  <tbody>\n",
              "    <tr>\n",
              "      <th>0</th>\n",
              "      <td>0</td>\n",
              "      <td>25000</td>\n",
              "      <td>1</td>\n",
              "      <td>0</td>\n",
              "      <td>0</td>\n",
              "      <td>0</td>\n",
              "      <td>0</td>\n",
              "      <td>0</td>\n",
              "      <td>1</td>\n",
              "      <td>0</td>\n",
              "      <td>1</td>\n",
              "      <td>0</td>\n",
              "      <td>1</td>\n",
              "      <td>0</td>\n",
              "      <td>0</td>\n",
              "    </tr>\n",
              "  </tbody>\n",
              "</table>\n",
              "</div>"
            ],
            "text/plain": [
              "   transaction  ...  previous_streaming_service_customer\n",
              "0            0  ...                                    0\n",
              "\n",
              "[1 rows x 15 columns]"
            ]
          },
          "metadata": {
            "tags": []
          },
          "execution_count": 37
        }
      ]
    },
    {
      "cell_type": "markdown",
      "metadata": {
        "id": "0UKTuMUS2aWB",
        "colab_type": "text"
      },
      "source": [
        "### Explore the relation among transaction and other variables"
      ]
    },
    {
      "cell_type": "code",
      "metadata": {
        "id": "SVW09lUK1NoB",
        "colab_type": "code",
        "outputId": "444d9e26-0f2b-4897-eb57-15a7df6637d2",
        "colab": {
          "base_uri": "https://localhost:8080/",
          "height": 317
        }
      },
      "source": [
        "my_df.describe()"
      ],
      "execution_count": 0,
      "outputs": [
        {
          "output_type": "execute_result",
          "data": {
            "text/html": [
              "<div>\n",
              "<style scoped>\n",
              "    .dataframe tbody tr th:only-of-type {\n",
              "        vertical-align: middle;\n",
              "    }\n",
              "\n",
              "    .dataframe tbody tr th {\n",
              "        vertical-align: top;\n",
              "    }\n",
              "\n",
              "    .dataframe thead th {\n",
              "        text-align: right;\n",
              "    }\n",
              "</style>\n",
              "<table border=\"1\" class=\"dataframe\">\n",
              "  <thead>\n",
              "    <tr style=\"text-align: right;\">\n",
              "      <th></th>\n",
              "      <th>transaction</th>\n",
              "      <th>salary_usd</th>\n",
              "      <th>is_male</th>\n",
              "      <th>is_married</th>\n",
              "      <th>is_college</th>\n",
              "      <th>is_professional</th>\n",
              "      <th>is_senior</th>\n",
              "      <th>is_employed</th>\n",
              "      <th>is_single_income</th>\n",
              "      <th>children_present</th>\n",
              "      <th>is_renter</th>\n",
              "      <th>lives_in_house</th>\n",
              "      <th>is_english_primary_language</th>\n",
              "      <th>previously_disney_customer</th>\n",
              "      <th>previous_streaming_service_customer</th>\n",
              "    </tr>\n",
              "  </thead>\n",
              "  <tbody>\n",
              "    <tr>\n",
              "      <th>count</th>\n",
              "      <td>505.000000</td>\n",
              "      <td>505.000000</td>\n",
              "      <td>505.000000</td>\n",
              "      <td>505.000000</td>\n",
              "      <td>505.000000</td>\n",
              "      <td>505.000000</td>\n",
              "      <td>505.000000</td>\n",
              "      <td>505.000000</td>\n",
              "      <td>505.000000</td>\n",
              "      <td>505.000000</td>\n",
              "      <td>505.000000</td>\n",
              "      <td>505.000000</td>\n",
              "      <td>505.000000</td>\n",
              "      <td>505.000000</td>\n",
              "      <td>505.000000</td>\n",
              "    </tr>\n",
              "    <tr>\n",
              "      <th>mean</th>\n",
              "      <td>0.186139</td>\n",
              "      <td>58223.762376</td>\n",
              "      <td>0.443564</td>\n",
              "      <td>0.366337</td>\n",
              "      <td>0.308911</td>\n",
              "      <td>0.352475</td>\n",
              "      <td>0.063366</td>\n",
              "      <td>0.029703</td>\n",
              "      <td>0.762376</td>\n",
              "      <td>0.364356</td>\n",
              "      <td>0.605941</td>\n",
              "      <td>0.673267</td>\n",
              "      <td>0.900990</td>\n",
              "      <td>0.075248</td>\n",
              "      <td>0.079208</td>\n",
              "    </tr>\n",
              "    <tr>\n",
              "      <th>std</th>\n",
              "      <td>0.389604</td>\n",
              "      <td>39098.058320</td>\n",
              "      <td>0.497297</td>\n",
              "      <td>0.482281</td>\n",
              "      <td>0.462502</td>\n",
              "      <td>0.478215</td>\n",
              "      <td>0.243862</td>\n",
              "      <td>0.169935</td>\n",
              "      <td>0.426049</td>\n",
              "      <td>0.481726</td>\n",
              "      <td>0.489132</td>\n",
              "      <td>0.469484</td>\n",
              "      <td>0.298971</td>\n",
              "      <td>0.264052</td>\n",
              "      <td>0.270331</td>\n",
              "    </tr>\n",
              "    <tr>\n",
              "      <th>min</th>\n",
              "      <td>0.000000</td>\n",
              "      <td>0.000000</td>\n",
              "      <td>0.000000</td>\n",
              "      <td>0.000000</td>\n",
              "      <td>0.000000</td>\n",
              "      <td>0.000000</td>\n",
              "      <td>0.000000</td>\n",
              "      <td>0.000000</td>\n",
              "      <td>0.000000</td>\n",
              "      <td>0.000000</td>\n",
              "      <td>0.000000</td>\n",
              "      <td>0.000000</td>\n",
              "      <td>0.000000</td>\n",
              "      <td>0.000000</td>\n",
              "      <td>0.000000</td>\n",
              "    </tr>\n",
              "    <tr>\n",
              "      <th>25%</th>\n",
              "      <td>0.000000</td>\n",
              "      <td>25000.000000</td>\n",
              "      <td>0.000000</td>\n",
              "      <td>0.000000</td>\n",
              "      <td>0.000000</td>\n",
              "      <td>0.000000</td>\n",
              "      <td>0.000000</td>\n",
              "      <td>0.000000</td>\n",
              "      <td>1.000000</td>\n",
              "      <td>0.000000</td>\n",
              "      <td>0.000000</td>\n",
              "      <td>0.000000</td>\n",
              "      <td>1.000000</td>\n",
              "      <td>0.000000</td>\n",
              "      <td>0.000000</td>\n",
              "    </tr>\n",
              "    <tr>\n",
              "      <th>50%</th>\n",
              "      <td>0.000000</td>\n",
              "      <td>55000.000000</td>\n",
              "      <td>0.000000</td>\n",
              "      <td>0.000000</td>\n",
              "      <td>0.000000</td>\n",
              "      <td>0.000000</td>\n",
              "      <td>0.000000</td>\n",
              "      <td>0.000000</td>\n",
              "      <td>1.000000</td>\n",
              "      <td>0.000000</td>\n",
              "      <td>1.000000</td>\n",
              "      <td>1.000000</td>\n",
              "      <td>1.000000</td>\n",
              "      <td>0.000000</td>\n",
              "      <td>0.000000</td>\n",
              "    </tr>\n",
              "    <tr>\n",
              "      <th>75%</th>\n",
              "      <td>0.000000</td>\n",
              "      <td>86000.000000</td>\n",
              "      <td>1.000000</td>\n",
              "      <td>1.000000</td>\n",
              "      <td>1.000000</td>\n",
              "      <td>1.000000</td>\n",
              "      <td>0.000000</td>\n",
              "      <td>0.000000</td>\n",
              "      <td>1.000000</td>\n",
              "      <td>1.000000</td>\n",
              "      <td>1.000000</td>\n",
              "      <td>1.000000</td>\n",
              "      <td>1.000000</td>\n",
              "      <td>0.000000</td>\n",
              "      <td>0.000000</td>\n",
              "    </tr>\n",
              "    <tr>\n",
              "      <th>max</th>\n",
              "      <td>1.000000</td>\n",
              "      <td>124000.000000</td>\n",
              "      <td>1.000000</td>\n",
              "      <td>1.000000</td>\n",
              "      <td>1.000000</td>\n",
              "      <td>1.000000</td>\n",
              "      <td>1.000000</td>\n",
              "      <td>1.000000</td>\n",
              "      <td>1.000000</td>\n",
              "      <td>1.000000</td>\n",
              "      <td>1.000000</td>\n",
              "      <td>1.000000</td>\n",
              "      <td>1.000000</td>\n",
              "      <td>1.000000</td>\n",
              "      <td>1.000000</td>\n",
              "    </tr>\n",
              "  </tbody>\n",
              "</table>\n",
              "</div>"
            ],
            "text/plain": [
              "       transaction  ...  previous_streaming_service_customer\n",
              "count   505.000000  ...                           505.000000\n",
              "mean      0.186139  ...                             0.079208\n",
              "std       0.389604  ...                             0.270331\n",
              "min       0.000000  ...                             0.000000\n",
              "25%       0.000000  ...                             0.000000\n",
              "50%       0.000000  ...                             0.000000\n",
              "75%       0.000000  ...                             0.000000\n",
              "max       1.000000  ...                             1.000000\n",
              "\n",
              "[8 rows x 15 columns]"
            ]
          },
          "metadata": {
            "tags": []
          },
          "execution_count": 38
        }
      ]
    },
    {
      "cell_type": "markdown",
      "metadata": {
        "id": "TlbUcHo03qgf",
        "colab_type": "text"
      },
      "source": [
        "#### From the table above, we can get some useful information.\n",
        "\n",
        "*   Approximately 19% of the customers have transaction, which is quite small.\n",
        "*   The standard deviation of the salary is quite huge. It may have relation to the low transaction, we need to dig more about it.\n",
        "*   Almost all of customers' primary language is English, it may not be the factor of low transaction."
      ]
    },
    {
      "cell_type": "markdown",
      "metadata": {
        "id": "FbXcgNc56cye",
        "colab_type": "text"
      },
      "source": [
        "### Explore the data for only those who done the transaction"
      ]
    },
    {
      "cell_type": "code",
      "metadata": {
        "id": "U4Gg4znV2osi",
        "colab_type": "code",
        "outputId": "70f7d81a-7d6c-4915-c1e7-842be8425924",
        "colab": {
          "base_uri": "https://localhost:8080/",
          "height": 317
        }
      },
      "source": [
        "tran_df = my_df[my_df['transaction']==1]\n",
        "tran_df.describe()"
      ],
      "execution_count": 0,
      "outputs": [
        {
          "output_type": "execute_result",
          "data": {
            "text/html": [
              "<div>\n",
              "<style scoped>\n",
              "    .dataframe tbody tr th:only-of-type {\n",
              "        vertical-align: middle;\n",
              "    }\n",
              "\n",
              "    .dataframe tbody tr th {\n",
              "        vertical-align: top;\n",
              "    }\n",
              "\n",
              "    .dataframe thead th {\n",
              "        text-align: right;\n",
              "    }\n",
              "</style>\n",
              "<table border=\"1\" class=\"dataframe\">\n",
              "  <thead>\n",
              "    <tr style=\"text-align: right;\">\n",
              "      <th></th>\n",
              "      <th>transaction</th>\n",
              "      <th>salary_usd</th>\n",
              "      <th>is_male</th>\n",
              "      <th>is_married</th>\n",
              "      <th>is_college</th>\n",
              "      <th>is_professional</th>\n",
              "      <th>is_senior</th>\n",
              "      <th>is_employed</th>\n",
              "      <th>is_single_income</th>\n",
              "      <th>children_present</th>\n",
              "      <th>is_renter</th>\n",
              "      <th>lives_in_house</th>\n",
              "      <th>is_english_primary_language</th>\n",
              "      <th>previously_disney_customer</th>\n",
              "      <th>previous_streaming_service_customer</th>\n",
              "    </tr>\n",
              "  </thead>\n",
              "  <tbody>\n",
              "    <tr>\n",
              "      <th>count</th>\n",
              "      <td>94.0</td>\n",
              "      <td>94.000000</td>\n",
              "      <td>94.000000</td>\n",
              "      <td>94.000000</td>\n",
              "      <td>94.000000</td>\n",
              "      <td>94.000000</td>\n",
              "      <td>94.000000</td>\n",
              "      <td>94.0</td>\n",
              "      <td>94.000000</td>\n",
              "      <td>94.000000</td>\n",
              "      <td>94.000000</td>\n",
              "      <td>94.000000</td>\n",
              "      <td>94.000000</td>\n",
              "      <td>94.000000</td>\n",
              "      <td>94.00000</td>\n",
              "    </tr>\n",
              "    <tr>\n",
              "      <th>mean</th>\n",
              "      <td>1.0</td>\n",
              "      <td>113308.510638</td>\n",
              "      <td>0.351064</td>\n",
              "      <td>0.765957</td>\n",
              "      <td>0.531915</td>\n",
              "      <td>0.606383</td>\n",
              "      <td>0.042553</td>\n",
              "      <td>0.0</td>\n",
              "      <td>0.468085</td>\n",
              "      <td>0.372340</td>\n",
              "      <td>0.212766</td>\n",
              "      <td>0.882979</td>\n",
              "      <td>0.978723</td>\n",
              "      <td>0.159574</td>\n",
              "      <td>0.12766</td>\n",
              "    </tr>\n",
              "    <tr>\n",
              "      <th>std</th>\n",
              "      <td>0.0</td>\n",
              "      <td>15861.650917</td>\n",
              "      <td>0.479862</td>\n",
              "      <td>0.425669</td>\n",
              "      <td>0.501656</td>\n",
              "      <td>0.491171</td>\n",
              "      <td>0.202930</td>\n",
              "      <td>0.0</td>\n",
              "      <td>0.501656</td>\n",
              "      <td>0.486021</td>\n",
              "      <td>0.411458</td>\n",
              "      <td>0.323169</td>\n",
              "      <td>0.145079</td>\n",
              "      <td>0.368175</td>\n",
              "      <td>0.33550</td>\n",
              "    </tr>\n",
              "    <tr>\n",
              "      <th>min</th>\n",
              "      <td>1.0</td>\n",
              "      <td>58000.000000</td>\n",
              "      <td>0.000000</td>\n",
              "      <td>0.000000</td>\n",
              "      <td>0.000000</td>\n",
              "      <td>0.000000</td>\n",
              "      <td>0.000000</td>\n",
              "      <td>0.0</td>\n",
              "      <td>0.000000</td>\n",
              "      <td>0.000000</td>\n",
              "      <td>0.000000</td>\n",
              "      <td>0.000000</td>\n",
              "      <td>0.000000</td>\n",
              "      <td>0.000000</td>\n",
              "      <td>0.00000</td>\n",
              "    </tr>\n",
              "    <tr>\n",
              "      <th>25%</th>\n",
              "      <td>1.0</td>\n",
              "      <td>106250.000000</td>\n",
              "      <td>0.000000</td>\n",
              "      <td>1.000000</td>\n",
              "      <td>0.000000</td>\n",
              "      <td>0.000000</td>\n",
              "      <td>0.000000</td>\n",
              "      <td>0.0</td>\n",
              "      <td>0.000000</td>\n",
              "      <td>0.000000</td>\n",
              "      <td>0.000000</td>\n",
              "      <td>1.000000</td>\n",
              "      <td>1.000000</td>\n",
              "      <td>0.000000</td>\n",
              "      <td>0.00000</td>\n",
              "    </tr>\n",
              "    <tr>\n",
              "      <th>50%</th>\n",
              "      <td>1.0</td>\n",
              "      <td>124000.000000</td>\n",
              "      <td>0.000000</td>\n",
              "      <td>1.000000</td>\n",
              "      <td>1.000000</td>\n",
              "      <td>1.000000</td>\n",
              "      <td>0.000000</td>\n",
              "      <td>0.0</td>\n",
              "      <td>0.000000</td>\n",
              "      <td>0.000000</td>\n",
              "      <td>0.000000</td>\n",
              "      <td>1.000000</td>\n",
              "      <td>1.000000</td>\n",
              "      <td>0.000000</td>\n",
              "      <td>0.00000</td>\n",
              "    </tr>\n",
              "    <tr>\n",
              "      <th>75%</th>\n",
              "      <td>1.0</td>\n",
              "      <td>124000.000000</td>\n",
              "      <td>1.000000</td>\n",
              "      <td>1.000000</td>\n",
              "      <td>1.000000</td>\n",
              "      <td>1.000000</td>\n",
              "      <td>0.000000</td>\n",
              "      <td>0.0</td>\n",
              "      <td>1.000000</td>\n",
              "      <td>1.000000</td>\n",
              "      <td>0.000000</td>\n",
              "      <td>1.000000</td>\n",
              "      <td>1.000000</td>\n",
              "      <td>0.000000</td>\n",
              "      <td>0.00000</td>\n",
              "    </tr>\n",
              "    <tr>\n",
              "      <th>max</th>\n",
              "      <td>1.0</td>\n",
              "      <td>124000.000000</td>\n",
              "      <td>1.000000</td>\n",
              "      <td>1.000000</td>\n",
              "      <td>1.000000</td>\n",
              "      <td>1.000000</td>\n",
              "      <td>1.000000</td>\n",
              "      <td>0.0</td>\n",
              "      <td>1.000000</td>\n",
              "      <td>1.000000</td>\n",
              "      <td>1.000000</td>\n",
              "      <td>1.000000</td>\n",
              "      <td>1.000000</td>\n",
              "      <td>1.000000</td>\n",
              "      <td>1.00000</td>\n",
              "    </tr>\n",
              "  </tbody>\n",
              "</table>\n",
              "</div>"
            ],
            "text/plain": [
              "       transaction  ...  previous_streaming_service_customer\n",
              "count         94.0  ...                             94.00000\n",
              "mean           1.0  ...                              0.12766\n",
              "std            0.0  ...                              0.33550\n",
              "min            1.0  ...                              0.00000\n",
              "25%            1.0  ...                              0.00000\n",
              "50%            1.0  ...                              0.00000\n",
              "75%            1.0  ...                              0.00000\n",
              "max            1.0  ...                              1.00000\n",
              "\n",
              "[8 rows x 15 columns]"
            ]
          },
          "metadata": {
            "tags": []
          },
          "execution_count": 39
        }
      ]
    },
    {
      "cell_type": "markdown",
      "metadata": {
        "id": "lFK5Fx3572-p",
        "colab_type": "text"
      },
      "source": [
        "#### The table shows some information about the customers who done the transaction.\n",
        "\n",
        "*   The mean salary for the customers who done the transaction is much higher than the overall mean salary, which means that the level of salary has relation with transaction.\n",
        "\n",
        "*   High propotion of the customers who done the transaction lives in the house and are not a renter, which means that they may also have higher salary so they have more chance to transact. \n",
        "\n",
        "*   High propotion of the customers who done the transaction are college and professional.\n",
        "\n",
        "\n",
        "*   Other factors seem quite balanced.\n"
      ]
    },
    {
      "cell_type": "markdown",
      "metadata": {
        "id": "loHChV_dB9wu",
        "colab_type": "text"
      },
      "source": [
        "### Visualize the data to find out how differently is the salary of two groups (transact and not transact) distributed "
      ]
    },
    {
      "cell_type": "code",
      "metadata": {
        "id": "Yy4yclJw7QaS",
        "colab_type": "code",
        "outputId": "ac5d7b5f-1e72-475e-d92b-b848e5cf2b9c",
        "colab": {
          "base_uri": "https://localhost:8080/",
          "height": 419
        }
      },
      "source": [
        "sns.set_style('darkgrid')\n",
        "plt.figure(figsize=(15,6))\n",
        "asx = my_df[my_df['transaction']==1]\n",
        "ax = sns.kdeplot(data=asx['salary_usd'],color='darkblue', shade=True, label='transact')\n",
        "asd = my_df[my_df['transaction']==0]\n",
        "ax = sns.kdeplot(data=asd['salary_usd'],color='dodgerblue', shade=True, label='not transact')\n",
        "ax.set_title('KDE of two groups salary', fontsize=25)"
      ],
      "execution_count": 0,
      "outputs": [
        {
          "output_type": "execute_result",
          "data": {
            "text/plain": [
              "Text(0.5, 1.0, 'KDE of two groups salary')"
            ]
          },
          "metadata": {
            "tags": []
          },
          "execution_count": 40
        },
        {
          "output_type": "display_data",
          "data": {
            "image/png": "[encoded data removed]",
            "text/plain": [
              "<Figure size 1080x432 with 1 Axes>"
            ]
          },
          "metadata": {
            "tags": []
          }
        }
      ]
    },
    {
      "cell_type": "markdown",
      "metadata": {
        "id": "zTqwpwgYFm1Z",
        "colab_type": "text"
      },
      "source": [
        "#### From the KDE plot, we can find:\n",
        "\n",
        "*   Customers who done the transaction have much higher salary. \n",
        "*   We can confirm that salary will influence customers' transaction, the higher salary they have, the higher chance they spend the money.\n",
        "\n"
      ]
    },
    {
      "cell_type": "markdown",
      "metadata": {
        "id": "PrgPoplNHyLF",
        "colab_type": "text"
      },
      "source": [
        "### Correlation between all variables\n",
        "\n",
        "Plot the heat map to show correlation between each variable"
      ]
    },
    {
      "cell_type": "code",
      "metadata": {
        "id": "u6JDQ4JjE6XF",
        "colab_type": "code",
        "outputId": "fc769eac-58aa-4d6f-8a9c-3d053379d3fb",
        "colab": {
          "base_uri": "https://localhost:8080/",
          "height": 798
        }
      },
      "source": [
        "sns.set(font_scale=1)\n",
        "plt.figure(figsize=(18,10))\n",
        "sns.heatmap(my_df.corr(), annot=True, cmap = 'PuBu')\n",
        "plt.xticks(rotation=100)\n",
        "plt.show()"
      ],
      "execution_count": 0,
      "outputs": [
        {
          "output_type": "display_data",
          "data": {
            "image/png": "[encoded data removed]",
            "text/plain": [
              "<Figure size 1296x720 with 2 Axes>"
            ]
          },
          "metadata": {
            "tags": []
          }
        }
      ]
    },
    {
      "cell_type": "markdown",
      "metadata": {
        "id": "KtUTzGrpL6B1",
        "colab_type": "text"
      },
      "source": [
        "#### From the heat map above, we can understand the relation among variables.\n",
        "\n",
        "*  Transaction can be mainly influenced by\n",
        "\n",
        "     --> salary_usd (same as our exploration before), is_married, is_single_income, is_renter, is_college, is_professional, lives_in_house\n",
        "\n",
        "  *  Among them, salary is the most critical factor for the transaction. The second factor is marriage status. \n",
        "  \n",
        "  *  From the heat map, we can also find that salary can be influenced by other factors (ex. is_college, is_married...). If these factors can lead to the high salary, it means that these factors can also lead to the higer opportunity for customers to conduct the transaction. \n",
        "  \n",
        "  *  If the customers get married, they will have higher chance to conduct the transaction. We still need to explore more about it.\n",
        "\n",
        "*  Below is my assumption...will explore more later!\n",
        "     \n",
        "     1. If the customer is married, he/she will have more than one income and have a higher chance to live in house (not a renter). They may have children and need to buy the presents, so they have higher chance to transact.\n",
        "\n",
        "     2. If the customer is professional, he/she may be college and may have a higher chance to have a higher salary. Hence, he/she will have higher chance to transact.\n"
      ]
    },
    {
      "cell_type": "markdown",
      "metadata": {
        "id": "epDkwFNoQ4xN",
        "colab_type": "text"
      },
      "source": [
        "### Explore the relation of married customers with other variables\n",
        "\n",
        "From the previous analysis, we found that most transact customers are those who got married. Let's find out whether they have higher salary."
      ]
    },
    {
      "cell_type": "code",
      "metadata": {
        "id": "GIYgkVH9H809",
        "colab_type": "code",
        "outputId": "3d5cda2c-39ff-47fc-9f92-c17b2445ab60",
        "colab": {
          "base_uri": "https://localhost:8080/",
          "height": 51
        }
      },
      "source": [
        "my_df_mar = my_df[my_df['is_married'] == 1]\n",
        "print('Average salary of married customer: ', my_df_mar['salary_usd'].mean())\n",
        "\n",
        "my_df_not_mar = my_df[my_df['is_married'] == 0]\n",
        "print('Average salary of not married customer: ', my_df_not_mar['salary_usd'].mean())"
      ],
      "execution_count": 0,
      "outputs": [
        {
          "output_type": "stream",
          "text": [
            "Average salary of married customer:  81551.35135135135\n",
            "Average salary of not married customer:  44737.5\n"
          ],
          "name": "stdout"
        }
      ]
    },
    {
      "cell_type": "markdown",
      "metadata": {
        "id": "ImZnmgXn-S7D",
        "colab_type": "text"
      },
      "source": [
        "* is_married vs salary_usd\n",
        "\n",
        "   We can find that customers who got married have higher salary.\n"
      ]
    },
    {
      "cell_type": "markdown",
      "metadata": {
        "id": "kUMD6dWKCnZ-",
        "colab_type": "text"
      },
      "source": [
        "Let's find out is their salary from single income"
      ]
    },
    {
      "cell_type": "code",
      "metadata": {
        "id": "6e1PsN1O1MeR",
        "colab_type": "code",
        "outputId": "0fbe1b96-c76b-44b7-ae70-8f9963304472",
        "colab": {
          "base_uri": "https://localhost:8080/",
          "height": 436
        }
      },
      "source": [
        "table = pd.crosstab(my_df.is_married, my_df.is_single_income)\n",
        "table.div(table.sum(1).astype(float), axis = 0).plot(kind = 'bar', stacked = True, colormap = 'tab20', figsize=(11,6))\n",
        "plt.title('is_married vs is_single_income', fontsize=22)\n",
        "pl.xticks(rotation=360)\n",
        "plt.xlabel('is_married', fontsize=16)\n",
        "plt.ylabel('is_single_income', fontsize=16)\n",
        "plt.legend(loc=1)"
      ],
      "execution_count": 0,
      "outputs": [
        {
          "output_type": "execute_result",
          "data": {
            "text/plain": [
              "<matplotlib.legend.Legend at 0x7fcae5406eb8>"
            ]
          },
          "metadata": {
            "tags": []
          },
          "execution_count": 43
        },
        {
          "output_type": "display_data",
          "data": {
            "image/png": "[encoded data removed]",
            "text/plain": [
              "<Figure size 792x432 with 1 Axes>"
            ]
          },
          "metadata": {
            "tags": []
          }
        }
      ]
    },
    {
      "cell_type": "markdown",
      "metadata": {
        "id": "zgA_6VYt_6uZ",
        "colab_type": "text"
      },
      "source": [
        "* is_married vs is_single_income\n",
        "\n",
        "   More than a half number of married customers have more than one income.\n"
      ]
    },
    {
      "cell_type": "markdown",
      "metadata": {
        "id": "HZ0TlURQCqHf",
        "colab_type": "text"
      },
      "source": [
        "Let's explore whether they live in the house"
      ]
    },
    {
      "cell_type": "code",
      "metadata": {
        "id": "b77L0axI_GTg",
        "colab_type": "code",
        "outputId": "d7037b91-0246-4c1e-9c19-f80499b61e80",
        "colab": {
          "base_uri": "https://localhost:8080/",
          "height": 436
        }
      },
      "source": [
        "table = pd.crosstab(my_df.is_married, my_df.lives_in_house)\n",
        "table.div(table.sum(1).astype(float), axis = 0).plot(kind = 'bar', stacked = True, colormap = 'tab20', figsize=(11,6))\n",
        "plt.title('is_married vs lives_in_house', fontsize=22)\n",
        "pl.xticks(rotation=360)\n",
        "plt.xlabel('is_married', fontsize=16)\n",
        "plt.ylabel('lives_in_house', fontsize=16)\n",
        "plt.legend(loc=1)"
      ],
      "execution_count": 0,
      "outputs": [
        {
          "output_type": "execute_result",
          "data": {
            "text/plain": [
              "<matplotlib.legend.Legend at 0x7fcae7253198>"
            ]
          },
          "metadata": {
            "tags": []
          },
          "execution_count": 44
        },
        {
          "output_type": "display_data",
          "data": {
            "image/png": "[encoded data removed]",
            "text/plain": [
              "<Figure size 792x432 with 1 Axes>"
            ]
          },
          "metadata": {
            "tags": []
          }
        }
      ]
    },
    {
      "cell_type": "markdown",
      "metadata": {
        "id": "1mnrCjfyAMWF",
        "colab_type": "text"
      },
      "source": [
        "*  is_married vs lives_in_house\n",
        "\n",
        "  Most married customers live in the house\n"
      ]
    },
    {
      "cell_type": "markdown",
      "metadata": {
        "id": "RezTJPvyCtM4",
        "colab_type": "text"
      },
      "source": [
        "\n",
        "Let's find out are their house rented?"
      ]
    },
    {
      "cell_type": "code",
      "metadata": {
        "id": "jNQfkAHW_lrG",
        "colab_type": "code",
        "outputId": "a3259ea9-cdc1-4b0e-bee8-c58d114fe9b6",
        "colab": {
          "base_uri": "https://localhost:8080/",
          "height": 436
        }
      },
      "source": [
        "table = pd.crosstab(my_df.is_married, my_df.is_renter)\n",
        "table.div(table.sum(1).astype(float), axis = 0).plot(kind = 'bar', stacked = True, colormap = 'tab20', figsize=(11,6))\n",
        "plt.title('is_married vs is_renter', fontsize=22)\n",
        "pl.xticks(rotation=360)\n",
        "plt.xlabel('is_married', fontsize=16)\n",
        "plt.ylabel('is_renter', fontsize=16)\n",
        "plt.legend(loc=1)"
      ],
      "execution_count": 0,
      "outputs": [
        {
          "output_type": "execute_result",
          "data": {
            "text/plain": [
              "<matplotlib.legend.Legend at 0x7fcae55c2470>"
            ]
          },
          "metadata": {
            "tags": []
          },
          "execution_count": 45
        },
        {
          "output_type": "display_data",
          "data": {
            "image/png": "[encoded data removed]",
            "text/plain": [
              "<Figure size 792x432 with 1 Axes>"
            ]
          },
          "metadata": {
            "tags": []
          }
        }
      ]
    },
    {
      "cell_type": "markdown",
      "metadata": {
        "id": "wSt8IdqhCeJ2",
        "colab_type": "text"
      },
      "source": [
        "*   is_married vs is_renter\n",
        "\n",
        "    It seems that married customers live in their own house and have a higher economic standard"
      ]
    },
    {
      "cell_type": "markdown",
      "metadata": {
        "id": "0us2mVV-AYY9",
        "colab_type": "text"
      },
      "source": [
        "### Summary above exploration \n",
        "\n",
        "Customers who got married have higher salary and living standard, which verify that they are the main group for transaction.\n",
        "\n",
        "\n",
        "\n",
        "\n"
      ]
    },
    {
      "cell_type": "markdown",
      "metadata": {
        "id": "nvTEpYqT0SgX",
        "colab_type": "text"
      },
      "source": [
        "### Explore the relation of is_professional with other variables\n",
        "\n",
        "In my previous assumption, I think if the customer is professional, he/she may be college and have a higher salary"
      ]
    },
    {
      "cell_type": "code",
      "metadata": {
        "id": "NlBh-d01d1Th",
        "colab_type": "code",
        "outputId": "d4dcf7d3-62c3-4628-880b-209968319875",
        "colab": {
          "base_uri": "https://localhost:8080/",
          "height": 51
        }
      },
      "source": [
        "my_df_col = my_df[my_df['is_professional'] == 1]\n",
        "print('Average salary of professional customer: ', my_df_col['salary_usd'].mean())\n",
        "\n",
        "my_df_not_col = my_df[my_df['is_professional'] == 0]\n",
        "print('Average salary of not professional customer: ', my_df_not_col['salary_usd'].mean())"
      ],
      "execution_count": 0,
      "outputs": [
        {
          "output_type": "stream",
          "text": [
            "Average salary of professional customer:  79342.69662921349\n",
            "Average salary of not professional customer:  46727.82874617737\n"
          ],
          "name": "stdout"
        }
      ]
    },
    {
      "cell_type": "markdown",
      "metadata": {
        "id": "uIuJIn6bXjDb",
        "colab_type": "text"
      },
      "source": [
        "*  is_professional vs salary_usd\n",
        "\n",
        "   We can find that customers who are professional have a higher salary.\n"
      ]
    },
    {
      "cell_type": "markdown",
      "metadata": {
        "id": "TprZHRUxXrFv",
        "colab_type": "text"
      },
      "source": [
        "Let's find out if they are college"
      ]
    },
    {
      "cell_type": "code",
      "metadata": {
        "id": "jQO59tvC8JDT",
        "colab_type": "code",
        "outputId": "2da047ad-f8c1-4c89-9d4d-16ac9f082728",
        "colab": {
          "base_uri": "https://localhost:8080/",
          "height": 436
        }
      },
      "source": [
        "table = pd.crosstab(my_df.is_professional, my_df.is_college)\n",
        "table.div(table.sum(1).astype(float), axis = 0).plot(kind = 'bar', stacked = True, colormap = 'tab20', figsize=(11,6))\n",
        "plt.title('is_professional vs is_college', fontsize=22)\n",
        "pl.xticks(rotation=360)\n",
        "plt.xlabel('is_professional', fontsize=16)\n",
        "plt.ylabel('is_college', fontsize=16)\n",
        "plt.legend(loc=1)"
      ],
      "execution_count": 0,
      "outputs": [
        {
          "output_type": "execute_result",
          "data": {
            "text/plain": [
              "<matplotlib.legend.Legend at 0x7fcae577b3c8>"
            ]
          },
          "metadata": {
            "tags": []
          },
          "execution_count": 47
        },
        {
          "output_type": "display_data",
          "data": {
            "image/png": "[encoded data removed]",
            "text/plain": [
              "<Figure size 792x432 with 1 Axes>"
            ]
          },
          "metadata": {
            "tags": []
          }
        }
      ]
    },
    {
      "cell_type": "markdown",
      "metadata": {
        "id": "kYhkzJxAYUJ9",
        "colab_type": "text"
      },
      "source": [
        "*  is_professional vs is_college\n",
        "\n",
        "    The propotion of is_college is higher when the customer is_professional"
      ]
    },
    {
      "cell_type": "markdown",
      "metadata": {
        "id": "alsc-jchgQ_1",
        "colab_type": "text"
      },
      "source": [
        "### Summary above exploration \n",
        "\n",
        "Customers who is_professional have higher salary and have more chance to be a_college"
      ]
    },
    {
      "cell_type": "markdown",
      "metadata": {
        "id": "MXW10Y3gba2m",
        "colab_type": "text"
      },
      "source": [
        "### Choosing variables for prediction\n",
        "\n",
        "From the analysis above, I choose below five variables as my prediction of transaction.\n",
        "\n",
        "*   salary_usd\n",
        "*   is_married\n",
        "*   is_single_income\n",
        "*   is_renter\n",
        "*   is_professional\n"
      ]
    },
    {
      "cell_type": "markdown",
      "metadata": {
        "id": "NcjFI7kniUDc",
        "colab_type": "text"
      },
      "source": [
        "Let's take a look on the regression result of 'salary_usd', 'is_married', 'is_single_income', 'is_renter', 'is_professional'"
      ]
    },
    {
      "cell_type": "code",
      "metadata": {
        "id": "HsN5VyDaYClA",
        "colab_type": "code",
        "outputId": "a644c41b-7c91-43b4-f472-b7fb9224f84f",
        "colab": {
          "base_uri": "https://localhost:8080/",
          "height": 238
        }
      },
      "source": [
        "X_cols = ['salary_usd', 'is_married', 'is_single_income', 'is_renter', 'is_professional']\n",
        "\n",
        "X = my_df[X_cols].values\n",
        "\n",
        "data_length = len(my_df)\n",
        "column_length = len(my_df[X_cols].columns)\n",
        "\n",
        "X = X.reshape(data_length,column_length)\n",
        "y = my_df['transaction'].values\n",
        "y = y.reshape(data_length,1)\n",
        "\n",
        "X_train, X_test, y_train, y_test = train_test_split(X,y, random_state=0)\n",
        "\n",
        "lin_reg= LinearRegression()\n",
        "lin_reg.fit(X_train, y_train)\n",
        "\n",
        "listing_y_pred = lin_reg.predict(X_test)\n",
        "\n",
        "print((pd.DataFrame(listing_y_pred, columns={'y_prediction'}).head(5)))\n",
        "print()\n",
        "\n",
        "print('Intercept:', float(lin_reg.intercept_))\n",
        "\n",
        "coeff_df = pd.DataFrame(lin_reg.coef_)\n",
        "coeff_df.columns = X_cols\n",
        "print(coeff_df)\n",
        "print()\n",
        "\n",
        "print(\"Mean Squared Error (MSE):%.2f\" % mean_squared_error(y_test, listing_y_pred))\n",
        "\n",
        "print('Variance Score (R^2):%.2f' % r2_score(y_test, listing_y_pred))"
      ],
      "execution_count": 0,
      "outputs": [
        {
          "output_type": "stream",
          "text": [
            "   y_prediction\n",
            "0      0.123246\n",
            "1     -0.102776\n",
            "2     -0.196731\n",
            "3     -0.052667\n",
            "4     -0.165413\n",
            "\n",
            "Intercept: -0.2309944985091546\n",
            "   salary_usd  is_married  is_single_income  is_renter  is_professional\n",
            "0    0.000006    0.112106         -0.001039   0.022775        -0.011998\n",
            "\n",
            "Mean Squared Error (MSE):0.08\n",
            "Variance Score (R^2):0.44\n"
          ],
          "name": "stdout"
        }
      ]
    },
    {
      "cell_type": "markdown",
      "metadata": {
        "id": "UQuo9k1cVYml",
        "colab_type": "text"
      },
      "source": [
        "### Outcome of regression result\n",
        "\n",
        "From the MSE we can find that the model looks good. However, the variance score is too low, the model may be underfitted. Let's use logistic regression to explore more!"
      ]
    },
    {
      "cell_type": "markdown",
      "metadata": {
        "id": "_n9ZgtXVlNeP",
        "colab_type": "text"
      },
      "source": [
        "# Part2. Logistic Regression"
      ]
    },
    {
      "cell_type": "markdown",
      "metadata": {
        "id": "qAH0ZfgzlTdm",
        "colab_type": "text"
      },
      "source": [
        "### Data preprocessing"
      ]
    },
    {
      "cell_type": "code",
      "metadata": {
        "id": "zYxVVMWxfka7",
        "colab_type": "code",
        "colab": {}
      },
      "source": [
        "X = my_df[['salary_usd', 'is_married', 'is_single_income', 'is_renter', 'is_professional']]\n",
        "y = my_df['transaction']"
      ],
      "execution_count": 0,
      "outputs": []
    },
    {
      "cell_type": "markdown",
      "metadata": {
        "id": "aSRvR3jm9cF9",
        "colab_type": "text"
      },
      "source": [
        "### Using sklearn's implementation of logistic regression"
      ]
    },
    {
      "cell_type": "code",
      "metadata": {
        "id": "VEN29XutlYS2",
        "colab_type": "code",
        "colab": {}
      },
      "source": [
        "X_train, X_test, y_train, y_test = train_test_split(X, y, random_state = 0)"
      ],
      "execution_count": 0,
      "outputs": []
    },
    {
      "cell_type": "markdown",
      "metadata": {
        "id": "vqKq4yLY9tbs",
        "colab_type": "text"
      },
      "source": [
        "Initialize Logistic Regressor and fit the model"
      ]
    },
    {
      "cell_type": "code",
      "metadata": {
        "id": "IwTX5zST9pwP",
        "colab_type": "code",
        "outputId": "af5a6669-c7ac-48de-fd67-ff9b19cb3d9c",
        "colab": {
          "base_uri": "https://localhost:8080/",
          "height": 102
        }
      },
      "source": [
        "model = LogisticRegression()\n",
        "model.fit(X_train, y_train.values.ravel())"
      ],
      "execution_count": 0,
      "outputs": [
        {
          "output_type": "execute_result",
          "data": {
            "text/plain": [
              "LogisticRegression(C=1.0, class_weight=None, dual=False, fit_intercept=True,\n",
              "                   intercept_scaling=1, l1_ratio=None, max_iter=100,\n",
              "                   multi_class='auto', n_jobs=None, penalty='l2',\n",
              "                   random_state=None, solver='lbfgs', tol=0.0001, verbose=0,\n",
              "                   warm_start=False)"
            ]
          },
          "metadata": {
            "tags": []
          },
          "execution_count": 51
        }
      ]
    },
    {
      "cell_type": "markdown",
      "metadata": {
        "id": "N4pYgPDg9yJG",
        "colab_type": "text"
      },
      "source": [
        "### Score the model"
      ]
    },
    {
      "cell_type": "code",
      "metadata": {
        "id": "5hag14qx9vuI",
        "colab_type": "code",
        "outputId": "d069dbdc-4271-4250-f817-01b8a7196c7f",
        "colab": {
          "base_uri": "https://localhost:8080/",
          "height": 34
        }
      },
      "source": [
        "model.score(X_test, y_test)"
      ],
      "execution_count": 0,
      "outputs": [
        {
          "output_type": "execute_result",
          "data": {
            "text/plain": [
              "0.937007874015748"
            ]
          },
          "metadata": {
            "tags": []
          },
          "execution_count": 52
        }
      ]
    },
    {
      "cell_type": "code",
      "metadata": {
        "id": "eiz7_DTm96JR",
        "colab_type": "code",
        "outputId": "076b3a87-c119-445c-8f56-7aafe4b7cf4c",
        "colab": {
          "base_uri": "https://localhost:8080/",
          "height": 419
        }
      },
      "source": [
        "X_test"
      ],
      "execution_count": 0,
      "outputs": [
        {
          "output_type": "execute_result",
          "data": {
            "text/html": [
              "<div>\n",
              "<style scoped>\n",
              "    .dataframe tbody tr th:only-of-type {\n",
              "        vertical-align: middle;\n",
              "    }\n",
              "\n",
              "    .dataframe tbody tr th {\n",
              "        vertical-align: top;\n",
              "    }\n",
              "\n",
              "    .dataframe thead th {\n",
              "        text-align: right;\n",
              "    }\n",
              "</style>\n",
              "<table border=\"1\" class=\"dataframe\">\n",
              "  <thead>\n",
              "    <tr style=\"text-align: right;\">\n",
              "      <th></th>\n",
              "      <th>salary_usd</th>\n",
              "      <th>is_married</th>\n",
              "      <th>is_single_income</th>\n",
              "      <th>is_renter</th>\n",
              "      <th>is_professional</th>\n",
              "    </tr>\n",
              "  </thead>\n",
              "  <tbody>\n",
              "    <tr>\n",
              "      <th>90</th>\n",
              "      <td>55000</td>\n",
              "      <td>0</td>\n",
              "      <td>1</td>\n",
              "      <td>1</td>\n",
              "      <td>1</td>\n",
              "    </tr>\n",
              "    <tr>\n",
              "      <th>97</th>\n",
              "      <td>17000</td>\n",
              "      <td>0</td>\n",
              "      <td>1</td>\n",
              "      <td>1</td>\n",
              "      <td>0</td>\n",
              "    </tr>\n",
              "    <tr>\n",
              "      <th>477</th>\n",
              "      <td>2000</td>\n",
              "      <td>0</td>\n",
              "      <td>1</td>\n",
              "      <td>1</td>\n",
              "      <td>0</td>\n",
              "    </tr>\n",
              "    <tr>\n",
              "      <th>340</th>\n",
              "      <td>25000</td>\n",
              "      <td>0</td>\n",
              "      <td>1</td>\n",
              "      <td>1</td>\n",
              "      <td>0</td>\n",
              "    </tr>\n",
              "    <tr>\n",
              "      <th>395</th>\n",
              "      <td>7000</td>\n",
              "      <td>0</td>\n",
              "      <td>1</td>\n",
              "      <td>1</td>\n",
              "      <td>0</td>\n",
              "    </tr>\n",
              "    <tr>\n",
              "      <th>...</th>\n",
              "      <td>...</td>\n",
              "      <td>...</td>\n",
              "      <td>...</td>\n",
              "      <td>...</td>\n",
              "      <td>...</td>\n",
              "    </tr>\n",
              "    <tr>\n",
              "      <th>134</th>\n",
              "      <td>12000</td>\n",
              "      <td>0</td>\n",
              "      <td>1</td>\n",
              "      <td>1</td>\n",
              "      <td>0</td>\n",
              "    </tr>\n",
              "    <tr>\n",
              "      <th>225</th>\n",
              "      <td>50000</td>\n",
              "      <td>0</td>\n",
              "      <td>1</td>\n",
              "      <td>0</td>\n",
              "      <td>0</td>\n",
              "    </tr>\n",
              "    <tr>\n",
              "      <th>402</th>\n",
              "      <td>98000</td>\n",
              "      <td>0</td>\n",
              "      <td>1</td>\n",
              "      <td>0</td>\n",
              "      <td>1</td>\n",
              "    </tr>\n",
              "    <tr>\n",
              "      <th>493</th>\n",
              "      <td>124000</td>\n",
              "      <td>1</td>\n",
              "      <td>1</td>\n",
              "      <td>0</td>\n",
              "      <td>0</td>\n",
              "    </tr>\n",
              "    <tr>\n",
              "      <th>59</th>\n",
              "      <td>79000</td>\n",
              "      <td>0</td>\n",
              "      <td>1</td>\n",
              "      <td>0</td>\n",
              "      <td>1</td>\n",
              "    </tr>\n",
              "  </tbody>\n",
              "</table>\n",
              "<p>127 rows × 5 columns</p>\n",
              "</div>"
            ],
            "text/plain": [
              "     salary_usd  is_married  is_single_income  is_renter  is_professional\n",
              "90        55000           0                 1          1                1\n",
              "97        17000           0                 1          1                0\n",
              "477        2000           0                 1          1                0\n",
              "340       25000           0                 1          1                0\n",
              "395        7000           0                 1          1                0\n",
              "..          ...         ...               ...        ...              ...\n",
              "134       12000           0                 1          1                0\n",
              "225       50000           0                 1          0                0\n",
              "402       98000           0                 1          0                1\n",
              "493      124000           1                 1          0                0\n",
              "59        79000           0                 1          0                1\n",
              "\n",
              "[127 rows x 5 columns]"
            ]
          },
          "metadata": {
            "tags": []
          },
          "execution_count": 53
        }
      ]
    },
    {
      "cell_type": "markdown",
      "metadata": {
        "id": "5oB4a1Q-_5Pd",
        "colab_type": "text"
      },
      "source": [
        "### Get predictions for the test set. Each value corresponds to transaction outcome of 0 (No) or 1 (Yes)"
      ]
    },
    {
      "cell_type": "code",
      "metadata": {
        "id": "DLBOoJqj_sqp",
        "colab_type": "code",
        "outputId": "00cddbd5-1c1c-4fb4-dadc-5efd71eb48b2",
        "colab": {
          "base_uri": "https://localhost:8080/",
          "height": 119
        }
      },
      "source": [
        "pred = model.predict(X_test)\n",
        "pred"
      ],
      "execution_count": 0,
      "outputs": [
        {
          "output_type": "execute_result",
          "data": {
            "text/plain": [
              "array([0, 0, 0, 0, 0, 0, 0, 0, 0, 0, 0, 1, 0, 0, 0, 0, 0, 1, 0, 0, 0, 0,\n",
              "       0, 0, 0, 0, 0, 0, 0, 0, 0, 0, 0, 0, 0, 0, 0, 1, 0, 1, 1, 0, 0, 0,\n",
              "       1, 0, 0, 1, 0, 0, 0, 0, 0, 0, 0, 0, 0, 0, 0, 1, 0, 1, 0, 0, 0, 0,\n",
              "       1, 0, 0, 0, 0, 0, 0, 1, 0, 0, 0, 1, 1, 0, 0, 0, 0, 0, 0, 1, 0, 0,\n",
              "       0, 1, 0, 0, 0, 0, 0, 0, 0, 0, 0, 0, 0, 0, 0, 0, 0, 0, 0, 0, 0, 1,\n",
              "       0, 0, 1, 0, 0, 0, 0, 0, 0, 0, 0, 1, 0, 0, 1, 1, 0])"
            ]
          },
          "metadata": {
            "tags": []
          },
          "execution_count": 54
        }
      ]
    },
    {
      "cell_type": "markdown",
      "metadata": {
        "id": "Wjvp_SDld3nS",
        "colab_type": "text"
      },
      "source": [
        "### Take a look on MSE"
      ]
    },
    {
      "cell_type": "code",
      "metadata": {
        "id": "K5mcQnmWd5uM",
        "colab_type": "code",
        "outputId": "5e57ac9c-435d-4373-a9a4-1362903b2300",
        "colab": {
          "base_uri": "https://localhost:8080/",
          "height": 34
        }
      },
      "source": [
        "mean_squared_error(y_test, pred)"
      ],
      "execution_count": 0,
      "outputs": [
        {
          "output_type": "execute_result",
          "data": {
            "text/plain": [
              "0.06299212598425197"
            ]
          },
          "metadata": {
            "tags": []
          },
          "execution_count": 55
        }
      ]
    },
    {
      "cell_type": "markdown",
      "metadata": {
        "id": "3hXdm1HmBhOm",
        "colab_type": "text"
      },
      "source": [
        "### Take a look at the probabilities of each record.\n",
        "\n",
        "The structure below has two data points per record.\n",
        "\n",
        "The first data point contains the probability of this record NOT transaction\n",
        "The second data point contains the probability of this record POSITIVELY transaction"
      ]
    },
    {
      "cell_type": "code",
      "metadata": {
        "id": "9bez6uHVBd0y",
        "colab_type": "code",
        "outputId": "c9fe36a8-2b56-45a5-8bcc-1ad8245fc438",
        "colab": {
          "base_uri": "https://localhost:8080/",
          "height": 1000
        }
      },
      "source": [
        "model.predict_proba(X_test)"
      ],
      "execution_count": 0,
      "outputs": [
        {
          "output_type": "execute_result",
          "data": {
            "text/plain": [
              "array([[9.88171731e-01, 1.18282686e-02],\n",
              "       [9.98885474e-01, 1.11452564e-03],\n",
              "       [9.99608959e-01, 3.91041159e-04],\n",
              "       [9.98052437e-01, 1.94756282e-03],\n",
              "       [9.99445529e-01, 5.54470960e-04],\n",
              "       [9.59598566e-01, 4.04014342e-02],\n",
              "       [9.94595833e-01, 5.40416743e-03],\n",
              "       [6.00379066e-01, 3.99620934e-01],\n",
              "       [9.87589077e-01, 1.24109226e-02],\n",
              "       [9.97041143e-01, 2.95885722e-03],\n",
              "       [9.99030691e-01, 9.69309027e-04],\n",
              "       [3.77900584e-01, 6.22099416e-01],\n",
              "       [9.97240278e-01, 2.75972159e-03],\n",
              "       [9.81097366e-01, 1.89026337e-02],\n",
              "       [9.98804910e-01, 1.19508970e-03],\n",
              "       [9.83261494e-01, 1.67385057e-02],\n",
              "       [8.29855647e-01, 1.70144353e-01],\n",
              "       [2.98631297e-01, 7.01368703e-01],\n",
              "       [9.83308102e-01, 1.66918977e-02],\n",
              "       [9.82490114e-01, 1.75098861e-02],\n",
              "       [9.99405425e-01, 5.94575278e-04],\n",
              "       [9.53693851e-01, 4.63061493e-02],\n",
              "       [9.99030691e-01, 9.69309027e-04],\n",
              "       [9.86596372e-01, 1.34036284e-02],\n",
              "       [9.97433317e-01, 2.56668343e-03],\n",
              "       [9.99445529e-01, 5.54470960e-04],\n",
              "       [9.80799227e-01, 1.92007726e-02],\n",
              "       [8.31302449e-01, 1.68697551e-01],\n",
              "       [9.99608959e-01, 3.91041159e-04],\n",
              "       [5.66351381e-01, 4.33648619e-01],\n",
              "       [9.60789523e-01, 3.92104770e-02],\n",
              "       [9.95863422e-01, 4.13657812e-03],\n",
              "       [9.97240278e-01, 2.75972159e-03],\n",
              "       [9.95809032e-01, 4.19096791e-03],\n",
              "       [9.94083608e-01, 5.91639246e-03],\n",
              "       [9.58310738e-01, 4.16892615e-02],\n",
              "       [9.39823581e-01, 6.01764194e-02],\n",
              "       [8.98745705e-02, 9.10125430e-01],\n",
              "       [9.31417202e-01, 6.85827977e-02],\n",
              "       [8.98745705e-02, 9.10125430e-01],\n",
              "       [2.98631297e-01, 7.01368703e-01],\n",
              "       [9.11034953e-01, 8.89650472e-02],\n",
              "       [9.94851256e-01, 5.14874375e-03],\n",
              "       [9.99213850e-01, 7.86150085e-04],\n",
              "       [9.97993784e-02, 9.00200622e-01],\n",
              "       [9.99445529e-01, 5.54470960e-04],\n",
              "       [9.94465101e-01, 5.53489895e-03],\n",
              "       [1.05312186e-01, 8.94687814e-01],\n",
              "       [6.11998168e-01, 3.88001832e-01],\n",
              "       [6.33390723e-01, 3.66609277e-01],\n",
              "       [9.95820850e-01, 4.17914975e-03],\n",
              "       [9.98963553e-01, 1.03644673e-03],\n",
              "       [9.98804910e-01, 1.19508970e-03],\n",
              "       [9.32936670e-01, 6.70633305e-02],\n",
              "       [9.99445529e-01, 5.54470960e-04],\n",
              "       [9.98625915e-01, 1.37408502e-03],\n",
              "       [9.96363917e-01, 3.63608286e-03],\n",
              "       [9.99580670e-01, 4.19329725e-04],\n",
              "       [9.53693851e-01, 4.63061493e-02],\n",
              "       [6.92997961e-02, 9.30700204e-01],\n",
              "       [9.78043845e-01, 2.19561554e-02],\n",
              "       [3.45009096e-01, 6.54990904e-01],\n",
              "       [5.57284115e-01, 4.42715885e-01],\n",
              "       [9.67966972e-01, 3.20330284e-02],\n",
              "       [9.99445529e-01, 5.54470960e-04],\n",
              "       [9.35577608e-01, 6.44223924e-02],\n",
              "       [1.15218433e-01, 8.84781567e-01],\n",
              "       [9.98052437e-01, 1.94756282e-03],\n",
              "       [9.67966972e-01, 3.20330284e-02],\n",
              "       [9.93183116e-01, 6.81688369e-03],\n",
              "       [9.99230082e-01, 7.69917984e-04],\n",
              "       [9.99405425e-01, 5.94575278e-04],\n",
              "       [8.66927318e-01, 1.33072682e-01],\n",
              "       [4.03062663e-01, 5.96937337e-01],\n",
              "       [9.98752462e-01, 1.24753753e-03],\n",
              "       [9.90679224e-01, 9.32077608e-03],\n",
              "       [9.97599340e-01, 2.40066011e-03],\n",
              "       [3.60891664e-01, 6.39108336e-01],\n",
              "       [8.98745705e-02, 9.10125430e-01],\n",
              "       [9.95358334e-01, 4.64166567e-03],\n",
              "       [9.99030691e-01, 9.69309027e-04],\n",
              "       [9.51121879e-01, 4.88781210e-02],\n",
              "       [8.82272087e-01, 1.17727913e-01],\n",
              "       [9.14000488e-01, 8.59995123e-02],\n",
              "       [9.96363917e-01, 3.63608286e-03],\n",
              "       [8.98745705e-02, 9.10125430e-01],\n",
              "       [9.52083476e-01, 4.79165235e-02],\n",
              "       [9.88530474e-01, 1.14695265e-02],\n",
              "       [9.95245960e-01, 4.75403977e-03],\n",
              "       [1.55888192e-01, 8.44111808e-01],\n",
              "       [7.05186969e-01, 2.94813031e-01],\n",
              "       [9.11034953e-01, 8.89650472e-02],\n",
              "       [9.98995321e-01, 1.00467933e-03],\n",
              "       [9.91606706e-01, 8.39329366e-03],\n",
              "       [9.99780989e-01, 2.19010733e-04],\n",
              "       [9.94188792e-01, 5.81120806e-03],\n",
              "       [9.95611923e-01, 4.38807679e-03],\n",
              "       [9.99157003e-01, 8.42997382e-04],\n",
              "       [9.98625915e-01, 1.37408502e-03],\n",
              "       [9.94851256e-01, 5.14874375e-03],\n",
              "       [9.37011134e-01, 6.29888663e-02],\n",
              "       [9.99213850e-01, 7.86150085e-04],\n",
              "       [9.99213850e-01, 7.86150085e-04],\n",
              "       [9.92168715e-01, 7.83128488e-03],\n",
              "       [9.94066906e-01, 5.93309407e-03],\n",
              "       [9.99445529e-01, 5.54470960e-04],\n",
              "       [8.85915418e-01, 1.14084582e-01],\n",
              "       [5.32551012e-01, 4.67448988e-01],\n",
              "       [9.76499501e-01, 2.35004993e-02],\n",
              "       [8.15198631e-02, 9.18480137e-01],\n",
              "       [9.96893031e-01, 3.10696887e-03],\n",
              "       [9.97049497e-01, 2.95050322e-03],\n",
              "       [3.77900584e-01, 6.22099416e-01],\n",
              "       [9.95820850e-01, 4.17914975e-03],\n",
              "       [9.97917683e-01, 2.08231654e-03],\n",
              "       [9.26624395e-01, 7.33756053e-02],\n",
              "       [9.98457613e-01, 1.54238699e-03],\n",
              "       [9.96598878e-01, 3.40112239e-03],\n",
              "       [9.96231603e-01, 3.76839729e-03],\n",
              "       [9.98885474e-01, 1.11452564e-03],\n",
              "       [6.79887650e-01, 3.20112350e-01],\n",
              "       [9.97993784e-02, 9.00200622e-01],\n",
              "       [9.99213850e-01, 7.86150085e-04],\n",
              "       [9.36363720e-01, 6.36362800e-02],\n",
              "       [4.05462099e-01, 5.94537901e-01],\n",
              "       [2.98631297e-01, 7.01368703e-01],\n",
              "       [7.20074342e-01, 2.79925658e-01]])"
            ]
          },
          "metadata": {
            "tags": []
          },
          "execution_count": 56
        }
      ]
    },
    {
      "cell_type": "markdown",
      "metadata": {
        "id": "PJ6mY-0JFLzv",
        "colab_type": "text"
      },
      "source": [
        "### Take a look at the actuals, predictions, and probabilities"
      ]
    },
    {
      "cell_type": "code",
      "metadata": {
        "id": "HAzX4dosFDrP",
        "colab_type": "code",
        "outputId": "99ac4d15-f5e0-4a7a-a404-035c72547de9",
        "colab": {
          "base_uri": "https://localhost:8080/",
          "height": 142
        }
      },
      "source": [
        "prediction_df = pd.DataFrame(model.predict(X_test), columns = {'Prediction'}).set_index([pd.Index(X_test.index)])\n",
        "probability_df = pd.DataFrame(model.predict_proba(X_test)).set_index([pd.Index(X_test.index)])\n",
        "all_together_df = X_test.join(y_test).join(prediction_df).join(probability_df)\n",
        "all_together_df.head(3)"
      ],
      "execution_count": 0,
      "outputs": [
        {
          "output_type": "execute_result",
          "data": {
            "text/html": [
              "<div>\n",
              "<style scoped>\n",
              "    .dataframe tbody tr th:only-of-type {\n",
              "        vertical-align: middle;\n",
              "    }\n",
              "\n",
              "    .dataframe tbody tr th {\n",
              "        vertical-align: top;\n",
              "    }\n",
              "\n",
              "    .dataframe thead th {\n",
              "        text-align: right;\n",
              "    }\n",
              "</style>\n",
              "<table border=\"1\" class=\"dataframe\">\n",
              "  <thead>\n",
              "    <tr style=\"text-align: right;\">\n",
              "      <th></th>\n",
              "      <th>salary_usd</th>\n",
              "      <th>is_married</th>\n",
              "      <th>is_single_income</th>\n",
              "      <th>is_renter</th>\n",
              "      <th>is_professional</th>\n",
              "      <th>transaction</th>\n",
              "      <th>Prediction</th>\n",
              "      <th>0</th>\n",
              "      <th>1</th>\n",
              "    </tr>\n",
              "  </thead>\n",
              "  <tbody>\n",
              "    <tr>\n",
              "      <th>90</th>\n",
              "      <td>55000</td>\n",
              "      <td>0</td>\n",
              "      <td>1</td>\n",
              "      <td>1</td>\n",
              "      <td>1</td>\n",
              "      <td>0</td>\n",
              "      <td>0</td>\n",
              "      <td>0.988172</td>\n",
              "      <td>0.011828</td>\n",
              "    </tr>\n",
              "    <tr>\n",
              "      <th>97</th>\n",
              "      <td>17000</td>\n",
              "      <td>0</td>\n",
              "      <td>1</td>\n",
              "      <td>1</td>\n",
              "      <td>0</td>\n",
              "      <td>0</td>\n",
              "      <td>0</td>\n",
              "      <td>0.998885</td>\n",
              "      <td>0.001115</td>\n",
              "    </tr>\n",
              "    <tr>\n",
              "      <th>477</th>\n",
              "      <td>2000</td>\n",
              "      <td>0</td>\n",
              "      <td>1</td>\n",
              "      <td>1</td>\n",
              "      <td>0</td>\n",
              "      <td>0</td>\n",
              "      <td>0</td>\n",
              "      <td>0.999609</td>\n",
              "      <td>0.000391</td>\n",
              "    </tr>\n",
              "  </tbody>\n",
              "</table>\n",
              "</div>"
            ],
            "text/plain": [
              "     salary_usd  is_married  is_single_income  ...  Prediction         0         1\n",
              "90        55000           0                 1  ...           0  0.988172  0.011828\n",
              "97        17000           0                 1  ...           0  0.998885  0.001115\n",
              "477        2000           0                 1  ...           0  0.999609  0.000391\n",
              "\n",
              "[3 rows x 9 columns]"
            ]
          },
          "metadata": {
            "tags": []
          },
          "execution_count": 57
        }
      ]
    },
    {
      "cell_type": "markdown",
      "metadata": {
        "id": "oRyYX8cbeH0p",
        "colab_type": "text"
      },
      "source": [
        "### Summary the performance of the prediction"
      ]
    },
    {
      "cell_type": "markdown",
      "metadata": {
        "id": "kDUVwqy9XT6r",
        "colab_type": "text"
      },
      "source": [
        "*  The score of the prediction is quite high 93.7%\n",
        "*  The mean square error of the model is 0.06, which is quite low and lower than the MSE of linear regression\n",
        "*  The probability of the transaction prediction is convincing. It's close to the real world situation\n",
        "*  Logistic regression approach is a good way for this analysis!\n",
        "\n",
        "Let's predict more to see the result!\n",
        "\n"
      ]
    },
    {
      "cell_type": "markdown",
      "metadata": {
        "id": "Pq1v2-DRFtc0",
        "colab_type": "text"
      },
      "source": [
        "### Use the model to predict transaction for arbitray values\n",
        "\n",
        "#### Let's take a look at customer who...\n",
        "\n",
        "* has high salary, is_married, is professional, has more than one income, is not a renter \n",
        "\n",
        "* has low salary, not married, not professional, has only one income, is a renter \n",
        "\n",
        "\n",
        "\n"
      ]
    },
    {
      "cell_type": "code",
      "metadata": {
        "id": "ybTycSGdFRQr",
        "colab_type": "code",
        "outputId": "3e39563f-e0a5-408c-f1a0-4709a233774d",
        "colab": {
          "base_uri": "https://localhost:8080/",
          "height": 111
        }
      },
      "source": [
        "sat_values1 = pd.DataFrame(data = {'salary_usd': [120000, 58000], 'is_married': [1, 0], 'is_single_income': [0, 1], 'is_renter': [0, 1], 'is_professional': [1, 0]})\n",
        "sat_values1.join(pd.DataFrame(model.predict(sat_values1), columns = {'Prediction'}).set_index([pd.Index(sat_values1.index)]))"
      ],
      "execution_count": 0,
      "outputs": [
        {
          "output_type": "execute_result",
          "data": {
            "text/html": [
              "<div>\n",
              "<style scoped>\n",
              "    .dataframe tbody tr th:only-of-type {\n",
              "        vertical-align: middle;\n",
              "    }\n",
              "\n",
              "    .dataframe tbody tr th {\n",
              "        vertical-align: top;\n",
              "    }\n",
              "\n",
              "    .dataframe thead th {\n",
              "        text-align: right;\n",
              "    }\n",
              "</style>\n",
              "<table border=\"1\" class=\"dataframe\">\n",
              "  <thead>\n",
              "    <tr style=\"text-align: right;\">\n",
              "      <th></th>\n",
              "      <th>salary_usd</th>\n",
              "      <th>is_married</th>\n",
              "      <th>is_single_income</th>\n",
              "      <th>is_renter</th>\n",
              "      <th>is_professional</th>\n",
              "      <th>Prediction</th>\n",
              "    </tr>\n",
              "  </thead>\n",
              "  <tbody>\n",
              "    <tr>\n",
              "      <th>0</th>\n",
              "      <td>120000</td>\n",
              "      <td>1</td>\n",
              "      <td>0</td>\n",
              "      <td>0</td>\n",
              "      <td>1</td>\n",
              "      <td>1</td>\n",
              "    </tr>\n",
              "    <tr>\n",
              "      <th>1</th>\n",
              "      <td>58000</td>\n",
              "      <td>0</td>\n",
              "      <td>1</td>\n",
              "      <td>1</td>\n",
              "      <td>0</td>\n",
              "      <td>0</td>\n",
              "    </tr>\n",
              "  </tbody>\n",
              "</table>\n",
              "</div>"
            ],
            "text/plain": [
              "   salary_usd  is_married  ...  is_professional  Prediction\n",
              "0      120000           1  ...                1           1\n",
              "1       58000           0  ...                0           0\n",
              "\n",
              "[2 rows x 6 columns]"
            ]
          },
          "metadata": {
            "tags": []
          },
          "execution_count": 58
        }
      ]
    },
    {
      "cell_type": "markdown",
      "metadata": {
        "id": "1wmqA2cvIu-m",
        "colab_type": "text"
      },
      "source": [
        "#### Let's take a look at customer who...\n",
        "\n",
        "*   has high salary, is not married, is not professional, has only one income, is a renter\n",
        "\n",
        "*   has low salary, is married, is professional, more than one income, not a renter\n",
        "\n",
        "*   has low salary, is married, is not professional, has only one income, is a renter"
      ]
    },
    {
      "cell_type": "code",
      "metadata": {
        "id": "qIh92h8RIlYU",
        "colab_type": "code",
        "outputId": "1d180aac-a144-4f79-fb99-f2957d3ce35f",
        "colab": {
          "base_uri": "https://localhost:8080/",
          "height": 142
        }
      },
      "source": [
        "sat_values2 = pd.DataFrame(data = {'salary_usd': [120000, 58000, 58000], 'is_married': [0, 1, 1], 'is_single_income': [1, 0, 1], 'is_renter': [1, 0, 1], 'is_professional': [0, 1, 0]})\n",
        "sat_values2.join(pd.DataFrame(model.predict(sat_values2), columns = {'Prediction'}).set_index([pd.Index(sat_values2.index)]))"
      ],
      "execution_count": 0,
      "outputs": [
        {
          "output_type": "execute_result",
          "data": {
            "text/html": [
              "<div>\n",
              "<style scoped>\n",
              "    .dataframe tbody tr th:only-of-type {\n",
              "        vertical-align: middle;\n",
              "    }\n",
              "\n",
              "    .dataframe tbody tr th {\n",
              "        vertical-align: top;\n",
              "    }\n",
              "\n",
              "    .dataframe thead th {\n",
              "        text-align: right;\n",
              "    }\n",
              "</style>\n",
              "<table border=\"1\" class=\"dataframe\">\n",
              "  <thead>\n",
              "    <tr style=\"text-align: right;\">\n",
              "      <th></th>\n",
              "      <th>salary_usd</th>\n",
              "      <th>is_married</th>\n",
              "      <th>is_single_income</th>\n",
              "      <th>is_renter</th>\n",
              "      <th>is_professional</th>\n",
              "      <th>Prediction</th>\n",
              "    </tr>\n",
              "  </thead>\n",
              "  <tbody>\n",
              "    <tr>\n",
              "      <th>0</th>\n",
              "      <td>120000</td>\n",
              "      <td>0</td>\n",
              "      <td>1</td>\n",
              "      <td>1</td>\n",
              "      <td>0</td>\n",
              "      <td>1</td>\n",
              "    </tr>\n",
              "    <tr>\n",
              "      <th>1</th>\n",
              "      <td>58000</td>\n",
              "      <td>1</td>\n",
              "      <td>0</td>\n",
              "      <td>0</td>\n",
              "      <td>1</td>\n",
              "      <td>0</td>\n",
              "    </tr>\n",
              "    <tr>\n",
              "      <th>2</th>\n",
              "      <td>58000</td>\n",
              "      <td>1</td>\n",
              "      <td>1</td>\n",
              "      <td>1</td>\n",
              "      <td>0</td>\n",
              "      <td>0</td>\n",
              "    </tr>\n",
              "  </tbody>\n",
              "</table>\n",
              "</div>"
            ],
            "text/plain": [
              "   salary_usd  is_married  ...  is_professional  Prediction\n",
              "0      120000           0  ...                0           1\n",
              "1       58000           1  ...                1           0\n",
              "2       58000           1  ...                0           0\n",
              "\n",
              "[3 rows x 6 columns]"
            ]
          },
          "metadata": {
            "tags": []
          },
          "execution_count": 59
        }
      ]
    },
    {
      "cell_type": "markdown",
      "metadata": {
        "id": "aDXnqljtKwyg",
        "colab_type": "text"
      },
      "source": [
        "### Summary"
      ]
    },
    {
      "cell_type": "markdown",
      "metadata": {
        "id": "WFt8iaxxKzfh",
        "colab_type": "text"
      },
      "source": [
        "From the prediction above, we find that...\n",
        "\n",
        "1.  Customer with high salary will conduct the transaction, even though he/ she is not married, is not professional, has only one income, and is a renter.\n",
        "\n",
        "    --> We can conclude that salary is definitely the most critical factor to predict the transaction behavior.\n",
        "\n",
        "2.  It's no doubt that customer with low salary and is not married will not conduct the transaction\n",
        "\n",
        "    --> Corresponding to our exploration\n",
        "\n",
        "3.  Although the customer is married, if he/she has low salary, he/she will not conduct the transaction.\n",
        "\n",
        "    --> Again, salary is the most critical factor. Corresponding to our exploration."
      ]
    },
    {
      "cell_type": "markdown",
      "metadata": {
        "id": "FlTV5lr7Nynt",
        "colab_type": "text"
      },
      "source": [
        "## How would the above influence company strategy to attract the customers for further transaction?\n"
      ]
    },
    {
      "cell_type": "markdown",
      "metadata": {
        "id": "vH3Q8JIgqsNI",
        "colab_type": "text"
      },
      "source": [
        "Take a look on all together dataframe"
      ]
    },
    {
      "cell_type": "code",
      "metadata": {
        "id": "7owkIX_wJ2-I",
        "colab_type": "code",
        "outputId": "4fc953f0-a1e1-4fbb-cae9-40388909b19a",
        "colab": {
          "base_uri": "https://localhost:8080/",
          "height": 142
        }
      },
      "source": [
        "prediction_df = pd.DataFrame(model.predict(X_test), columns = {'Prediction'}).set_index([pd.Index(X_test.index)])\n",
        "probability_df = pd.DataFrame(model.predict_proba(X_test)).set_index([pd.Index(X_test.index)])\n",
        "all_together_df = X_test.join(y_test).join(prediction_df).join(probability_df)\n",
        "all_together_df.head(3)"
      ],
      "execution_count": 0,
      "outputs": [
        {
          "output_type": "execute_result",
          "data": {
            "text/html": [
              "<div>\n",
              "<style scoped>\n",
              "    .dataframe tbody tr th:only-of-type {\n",
              "        vertical-align: middle;\n",
              "    }\n",
              "\n",
              "    .dataframe tbody tr th {\n",
              "        vertical-align: top;\n",
              "    }\n",
              "\n",
              "    .dataframe thead th {\n",
              "        text-align: right;\n",
              "    }\n",
              "</style>\n",
              "<table border=\"1\" class=\"dataframe\">\n",
              "  <thead>\n",
              "    <tr style=\"text-align: right;\">\n",
              "      <th></th>\n",
              "      <th>salary_usd</th>\n",
              "      <th>is_married</th>\n",
              "      <th>is_single_income</th>\n",
              "      <th>is_renter</th>\n",
              "      <th>is_professional</th>\n",
              "      <th>transaction</th>\n",
              "      <th>Prediction</th>\n",
              "      <th>0</th>\n",
              "      <th>1</th>\n",
              "    </tr>\n",
              "  </thead>\n",
              "  <tbody>\n",
              "    <tr>\n",
              "      <th>90</th>\n",
              "      <td>55000</td>\n",
              "      <td>0</td>\n",
              "      <td>1</td>\n",
              "      <td>1</td>\n",
              "      <td>1</td>\n",
              "      <td>0</td>\n",
              "      <td>0</td>\n",
              "      <td>0.988172</td>\n",
              "      <td>0.011828</td>\n",
              "    </tr>\n",
              "    <tr>\n",
              "      <th>97</th>\n",
              "      <td>17000</td>\n",
              "      <td>0</td>\n",
              "      <td>1</td>\n",
              "      <td>1</td>\n",
              "      <td>0</td>\n",
              "      <td>0</td>\n",
              "      <td>0</td>\n",
              "      <td>0.998885</td>\n",
              "      <td>0.001115</td>\n",
              "    </tr>\n",
              "    <tr>\n",
              "      <th>477</th>\n",
              "      <td>2000</td>\n",
              "      <td>0</td>\n",
              "      <td>1</td>\n",
              "      <td>1</td>\n",
              "      <td>0</td>\n",
              "      <td>0</td>\n",
              "      <td>0</td>\n",
              "      <td>0.999609</td>\n",
              "      <td>0.000391</td>\n",
              "    </tr>\n",
              "  </tbody>\n",
              "</table>\n",
              "</div>"
            ],
            "text/plain": [
              "     salary_usd  is_married  is_single_income  ...  Prediction         0         1\n",
              "90        55000           0                 1  ...           0  0.988172  0.011828\n",
              "97        17000           0                 1  ...           0  0.998885  0.001115\n",
              "477        2000           0                 1  ...           0  0.999609  0.000391\n",
              "\n",
              "[3 rows x 9 columns]"
            ]
          },
          "metadata": {
            "tags": []
          },
          "execution_count": 60
        }
      ]
    },
    {
      "cell_type": "markdown",
      "metadata": {
        "id": "Jahcv5clOSb_",
        "colab_type": "text"
      },
      "source": [
        "### Plot the result of customer salary"
      ]
    },
    {
      "cell_type": "code",
      "metadata": {
        "id": "GELCPN6POJvo",
        "colab_type": "code",
        "outputId": "07a5b8d5-6af5-4c34-ac3e-1a3ae4085d00",
        "colab": {
          "base_uri": "https://localhost:8080/",
          "height": 448
        }
      },
      "source": [
        "sns.set_style('darkgrid')\n",
        "plt.figure(figsize=(18,7))\n",
        "ax = sns.scatterplot(x = 'salary_usd', y = 1, data = all_together_df, s = 75, color = 'dodgerblue', alpha = 0.8)"
      ],
      "execution_count": 0,
      "outputs": [
        {
          "output_type": "display_data",
          "data": {
            "image/png": "[encoded data removed]",
            "text/plain": [
              "<Figure size 1296x504 with 1 Axes>"
            ]
          },
          "metadata": {
            "tags": []
          }
        }
      ]
    },
    {
      "cell_type": "markdown",
      "metadata": {
        "id": "vQGsWcDwOorZ",
        "colab_type": "text"
      },
      "source": [
        "### Relation between customer salary and transaction"
      ]
    },
    {
      "cell_type": "code",
      "metadata": {
        "id": "BDzRzkyFObui",
        "colab_type": "code",
        "outputId": "beade39c-3155-4466-ff95-fbcbe78f9298",
        "colab": {
          "base_uri": "https://localhost:8080/",
          "height": 465
        }
      },
      "source": [
        "sns.set_style('darkgrid')\n",
        "plt.figure(figsize=(18,7))\n",
        "sns.regplot(x = 'salary_usd', y = 'transaction', data = my_df, logistic = True, color = 'steelblue') "
      ],
      "execution_count": 0,
      "outputs": [
        {
          "output_type": "execute_result",
          "data": {
            "text/plain": [
              "<matplotlib.axes._subplots.AxesSubplot at 0x7fcae55dc198>"
            ]
          },
          "metadata": {
            "tags": []
          },
          "execution_count": 62
        },
        {
          "output_type": "display_data",
          "data": {
            "image/png": "[encoded data removed]",
            "text/plain": [
              "<Figure size 1296x504 with 1 Axes>"
            ]
          },
          "metadata": {
            "tags": []
          }
        }
      ]
    },
    {
      "cell_type": "markdown",
      "metadata": {
        "id": "kK_3Ixn_PAEe",
        "colab_type": "text"
      },
      "source": [
        "### Plot the result of customer marriage status"
      ]
    },
    {
      "cell_type": "code",
      "metadata": {
        "id": "2CeJgJnyO0qr",
        "colab_type": "code",
        "outputId": "c7116958-7f5a-422c-ef20-21b981112a65",
        "colab": {
          "base_uri": "https://localhost:8080/",
          "height": 448
        }
      },
      "source": [
        "sns.set_style('darkgrid')\n",
        "plt.figure(figsize=(18,7))\n",
        "ax = sns.scatterplot(x = 'is_married', y = 1, data = all_together_df, s = 75, color = 'dodgerblue', alpha = 0.8)"
      ],
      "execution_count": 0,
      "outputs": [
        {
          "output_type": "display_data",
          "data": {
            "image/png": "[encoded data removed]",
            "text/plain": [
              "<Figure size 1296x504 with 1 Axes>"
            ]
          },
          "metadata": {
            "tags": []
          }
        }
      ]
    },
    {
      "cell_type": "markdown",
      "metadata": {
        "id": "WPUa43bWq1OX",
        "colab_type": "text"
      },
      "source": [
        "### Relation between customer is_married and transaction"
      ]
    },
    {
      "cell_type": "code",
      "metadata": {
        "id": "7ZKuQ33LPI5U",
        "colab_type": "code",
        "outputId": "d07fadad-0c7f-48cf-87b5-8a7d369b61b9",
        "colab": {
          "base_uri": "https://localhost:8080/",
          "height": 465
        }
      },
      "source": [
        "sns.set_style('darkgrid')\n",
        "plt.figure(figsize=(18,7))\n",
        "sns.regplot(x = 'is_married', y = 'transaction', data = my_df, logistic = True, color = 'steelblue')"
      ],
      "execution_count": 0,
      "outputs": [
        {
          "output_type": "execute_result",
          "data": {
            "text/plain": [
              "<matplotlib.axes._subplots.AxesSubplot at 0x7fcae5573a90>"
            ]
          },
          "metadata": {
            "tags": []
          },
          "execution_count": 64
        },
        {
          "output_type": "display_data",
          "data": {
            "image/png": "[encoded data removed]",
            "text/plain": [
              "<Figure size 1296x504 with 1 Axes>"
            ]
          },
          "metadata": {
            "tags": []
          }
        }
      ]
    },
    {
      "cell_type": "markdown",
      "metadata": {
        "id": "3XdbD4ktPh53",
        "colab_type": "text"
      },
      "source": [
        "# Conclusion"
      ]
    },
    {
      "cell_type": "markdown",
      "metadata": {
        "id": "kEit2CirPlvu",
        "colab_type": "text"
      },
      "source": [
        "If the company hope to attract more customers to conduct the transaction, I have some recommandation from the result of my analysis.\n",
        "\n",
        "1. From the analysis, it shows many times that the higher salary customers have more chance to conduct the transaction. Hence, there are two ways to deal with this situation\n",
        "\n",
        "    *   Try to attract more rich people to visit. By holding some special campaigns that can attract upper class visitors.\n",
        "    *   Lower the product price. The product sold in the store maybe too expensive, so few people can buy it. If the store hope more people come in can spend the money, one of the best way is to lower the price.\n",
        "\n",
        "2.  Also, the people who got married have more chance to conduct the transaction. They may have children and will buy the presents for them. Hence, it will be good if the company can attract more 'family' to visit. Maybe it can launch family coupon or family activities to attract family."
      ]
    }
  ]
}