{
 "cells": [
  {
   "cell_type": "markdown",
   "metadata": {
    "colab_type": "text",
    "id": "YG6Ej52iPqdh"
   },
   "source": [
    "## Author: Fang Jung(Kristy) Lin \n",
    "## Purpose: Regression Analysis (Australia data set)"
   ]
  },
  {
   "cell_type": "markdown",
   "metadata": {
    "colab_type": "text",
    "id": "t4LzWmdkQbQ2"
   },
   "source": [
    "# Import necessary packages"
   ]
  },
  {
   "cell_type": "code",
   "execution_count": 0,
   "metadata": {
    "colab": {
     "base_uri": "https://localhost:8080/",
     "height": 71
    },
    "colab_type": "code",
    "id": "FgjkPy7IPkjt",
    "outputId": "347179ec-f2d9-406e-bfe3-c48691e6e090"
   },
   "outputs": [
    {
     "name": "stderr",
     "output_type": "stream",
     "text": [
      "/usr/local/lib/python3.6/dist-packages/statsmodels/tools/_testing.py:19: FutureWarning: pandas.util.testing is deprecated. Use the functions in the public API at pandas.testing instead.\n",
      "  import pandas.util.testing as tm\n"
     ]
    }
   ],
   "source": [
    "import numpy as np\n",
    "import pandas as pd\n",
    "import os\n",
    "\n",
    "import matplotlib.pyplot as plt\n",
    "from matplotlib.ticker import PercentFormatter\n",
    "import seaborn as sns\n",
    "\n",
    "import statsmodels.api as sm\n",
    "from sklearn import datasets\n",
    "from sklearn.feature_selection import RFE\n",
    "from sklearn.linear_model import LogisticRegression\n",
    "from sklearn import linear_model\n",
    "from sklearn.model_selection import train_test_split\n",
    "from sklearn.linear_model import LinearRegression\n",
    "from sklearn.metrics import mean_squared_error, r2_score"
   ]
  },
  {
   "cell_type": "markdown",
   "metadata": {
    "colab_type": "text",
    "id": "KFVURuY8RYOO"
   },
   "source": [
    "# Purpose for the analysis"
   ]
  },
  {
   "cell_type": "markdown",
   "metadata": {
    "colab_type": "text",
    "id": "cG0cY0P9S0Up"
   },
   "source": [
    "### 1. Remove/manipulate/transform features from the data set, remain only useful data \n",
    "### 2. Graphically and numerically describe model performance and find the relation between them\n",
    "### 3. Apply regression analysis techniques and EDA principles to find out what features will influence the rental price.\n",
    "\n",
    "\n",
    "\n"
   ]
  },
  {
   "cell_type": "markdown",
   "metadata": {
    "colab_type": "text",
    "id": "ONVm9CbmRLKR"
   },
   "source": [
    "# Part 1. Data Acquisition and Rudimentary Analysis\n",
    "The actual path to downloadable CSV is: https://docs.google.com/spreadsheets/d/e/2PACX-1vTq6-2yKdGF9JxzitqWripiZ38lWLCVEoWT9JT1kqUDy8S5uPYgsgHKWOShXZaP3mwqm5KGa1d3PxWo/pub?gid=155106628&single=true&output=csv\n"
   ]
  },
  {
   "cell_type": "code",
   "execution_count": 0,
   "metadata": {
    "colab": {
     "base_uri": "https://localhost:8080/",
     "height": 204
    },
    "colab_type": "code",
    "id": "x_Fp3npwQmIO",
    "outputId": "507ddf85-b807-4521-f18c-3e01ff6c1392"
   },
   "outputs": [
    {
     "data": {
      "text/html": [
       "<div>\n",
       "<style scoped>\n",
       "    .dataframe tbody tr th:only-of-type {\n",
       "        vertical-align: middle;\n",
       "    }\n",
       "\n",
       "    .dataframe tbody tr th {\n",
       "        vertical-align: top;\n",
       "    }\n",
       "\n",
       "    .dataframe thead th {\n",
       "        text-align: right;\n",
       "    }\n",
       "</style>\n",
       "<table border=\"1\" class=\"dataframe\">\n",
       "  <thead>\n",
       "    <tr style=\"text-align: right;\">\n",
       "      <th></th>\n",
       "      <th>id</th>\n",
       "      <th>country</th>\n",
       "      <th>state</th>\n",
       "      <th>neighbourhood_cleansed</th>\n",
       "      <th>property_type</th>\n",
       "      <th>square_meters</th>\n",
       "      <th>price</th>\n",
       "      <th>room_type</th>\n",
       "      <th>bathrooms</th>\n",
       "      <th>bedrooms</th>\n",
       "      <th>beds</th>\n",
       "    </tr>\n",
       "  </thead>\n",
       "  <tbody>\n",
       "    <tr>\n",
       "      <th>0</th>\n",
       "      <td>3363954</td>\n",
       "      <td>Australia</td>\n",
       "      <td>NSW</td>\n",
       "      <td>BALLINA SHIRE COUNCIL</td>\n",
       "      <td>House</td>\n",
       "      <td>0.00</td>\n",
       "      <td>$2,900.00</td>\n",
       "      <td>Entire home/apt</td>\n",
       "      <td>3.0</td>\n",
       "      <td>4.0</td>\n",
       "      <td>4.0</td>\n",
       "    </tr>\n",
       "    <tr>\n",
       "      <th>1</th>\n",
       "      <td>13048065</td>\n",
       "      <td>Australia</td>\n",
       "      <td>NSW</td>\n",
       "      <td>BALLINA SHIRE COUNCIL</td>\n",
       "      <td>House</td>\n",
       "      <td>1.55</td>\n",
       "      <td>$28.00</td>\n",
       "      <td>Private room</td>\n",
       "      <td>1.0</td>\n",
       "      <td>1.0</td>\n",
       "      <td>1.0</td>\n",
       "    </tr>\n",
       "    <tr>\n",
       "      <th>2</th>\n",
       "      <td>1451202</td>\n",
       "      <td>Australia</td>\n",
       "      <td>NSW</td>\n",
       "      <td>BALLINA SHIRE COUNCIL</td>\n",
       "      <td>Guest suite</td>\n",
       "      <td>15.00</td>\n",
       "      <td>$141.00</td>\n",
       "      <td>Entire home/apt</td>\n",
       "      <td>1.0</td>\n",
       "      <td>1.0</td>\n",
       "      <td>1.0</td>\n",
       "    </tr>\n",
       "    <tr>\n",
       "      <th>3</th>\n",
       "      <td>2345959</td>\n",
       "      <td>Australia</td>\n",
       "      <td>NSW</td>\n",
       "      <td>BALLINA SHIRE COUNCIL</td>\n",
       "      <td>House</td>\n",
       "      <td>16.29</td>\n",
       "      <td>$50.00</td>\n",
       "      <td>Private room</td>\n",
       "      <td>4.0</td>\n",
       "      <td>4.0</td>\n",
       "      <td>3.0</td>\n",
       "    </tr>\n",
       "    <tr>\n",
       "      <th>4</th>\n",
       "      <td>26087141</td>\n",
       "      <td>Australia</td>\n",
       "      <td>NSW</td>\n",
       "      <td>BALLINA SHIRE COUNCIL</td>\n",
       "      <td>House</td>\n",
       "      <td>16.85</td>\n",
       "      <td>$52.00</td>\n",
       "      <td>Private room</td>\n",
       "      <td>1.0</td>\n",
       "      <td>1.0</td>\n",
       "      <td>1.0</td>\n",
       "    </tr>\n",
       "  </tbody>\n",
       "</table>\n",
       "</div>"
      ],
      "text/plain": [
       "         id    country state  ... bathrooms bedrooms  beds\n",
       "0   3363954  Australia   NSW  ...       3.0      4.0   4.0\n",
       "1  13048065  Australia   NSW  ...       1.0      1.0   1.0\n",
       "2   1451202  Australia   NSW  ...       1.0      1.0   1.0\n",
       "3   2345959  Australia   NSW  ...       4.0      4.0   3.0\n",
       "4  26087141  Australia   NSW  ...       1.0      1.0   1.0\n",
       "\n",
       "[5 rows x 11 columns]"
      ]
     },
     "execution_count": 2,
     "metadata": {
      "tags": []
     },
     "output_type": "execute_result"
    }
   ],
   "source": [
    "# Read data from Google Sheet\n",
    "data_path = 'https://docs.google.com/spreadsheets/d/e/2PACX-1vTq6-2yKdGF9JxzitqWripiZ38lWLCVEoWT9JT1kqUDy8S5uPYgsgHKWOShXZaP3mwqm5KGa1d3PxWo/pub?gid=155106628&single=true&output=csv'\n",
    "aus_df = pd.read_csv(data_path)\n",
    "\n",
    "# Explore the data\n",
    "aus_df.head()"
   ]
  },
  {
   "cell_type": "markdown",
   "metadata": {
    "colab_type": "text",
    "id": "d9EJUDsIYWGJ"
   },
   "source": [
    "### Perform light data modifications (Remove columns that are not necessary to the study)\n",
    "\n",
    "Columns to be dropped: \n",
    "\n",
    "*   id - No practical usage for the dataset\n",
    "\n",
    "\n",
    "\n",
    "\n",
    "\n"
   ]
  },
  {
   "cell_type": "code",
   "execution_count": 0,
   "metadata": {
    "colab": {
     "base_uri": "https://localhost:8080/",
     "height": 204
    },
    "colab_type": "code",
    "id": "lAxMiNwUSJL9",
    "outputId": "12744260-6d01-4799-eec5-3e9ec4ceeab2"
   },
   "outputs": [
    {
     "data": {
      "text/html": [
       "<div>\n",
       "<style scoped>\n",
       "    .dataframe tbody tr th:only-of-type {\n",
       "        vertical-align: middle;\n",
       "    }\n",
       "\n",
       "    .dataframe tbody tr th {\n",
       "        vertical-align: top;\n",
       "    }\n",
       "\n",
       "    .dataframe thead th {\n",
       "        text-align: right;\n",
       "    }\n",
       "</style>\n",
       "<table border=\"1\" class=\"dataframe\">\n",
       "  <thead>\n",
       "    <tr style=\"text-align: right;\">\n",
       "      <th></th>\n",
       "      <th>country</th>\n",
       "      <th>state</th>\n",
       "      <th>neighbourhood_cleansed</th>\n",
       "      <th>property_type</th>\n",
       "      <th>square_meters</th>\n",
       "      <th>price</th>\n",
       "      <th>room_type</th>\n",
       "      <th>bathrooms</th>\n",
       "      <th>bedrooms</th>\n",
       "      <th>beds</th>\n",
       "    </tr>\n",
       "  </thead>\n",
       "  <tbody>\n",
       "    <tr>\n",
       "      <th>0</th>\n",
       "      <td>Australia</td>\n",
       "      <td>NSW</td>\n",
       "      <td>BALLINA SHIRE COUNCIL</td>\n",
       "      <td>House</td>\n",
       "      <td>0.00</td>\n",
       "      <td>$2,900.00</td>\n",
       "      <td>Entire home/apt</td>\n",
       "      <td>3.0</td>\n",
       "      <td>4.0</td>\n",
       "      <td>4.0</td>\n",
       "    </tr>\n",
       "    <tr>\n",
       "      <th>1</th>\n",
       "      <td>Australia</td>\n",
       "      <td>NSW</td>\n",
       "      <td>BALLINA SHIRE COUNCIL</td>\n",
       "      <td>House</td>\n",
       "      <td>1.55</td>\n",
       "      <td>$28.00</td>\n",
       "      <td>Private room</td>\n",
       "      <td>1.0</td>\n",
       "      <td>1.0</td>\n",
       "      <td>1.0</td>\n",
       "    </tr>\n",
       "    <tr>\n",
       "      <th>2</th>\n",
       "      <td>Australia</td>\n",
       "      <td>NSW</td>\n",
       "      <td>BALLINA SHIRE COUNCIL</td>\n",
       "      <td>Guest suite</td>\n",
       "      <td>15.00</td>\n",
       "      <td>$141.00</td>\n",
       "      <td>Entire home/apt</td>\n",
       "      <td>1.0</td>\n",
       "      <td>1.0</td>\n",
       "      <td>1.0</td>\n",
       "    </tr>\n",
       "    <tr>\n",
       "      <th>3</th>\n",
       "      <td>Australia</td>\n",
       "      <td>NSW</td>\n",
       "      <td>BALLINA SHIRE COUNCIL</td>\n",
       "      <td>House</td>\n",
       "      <td>16.29</td>\n",
       "      <td>$50.00</td>\n",
       "      <td>Private room</td>\n",
       "      <td>4.0</td>\n",
       "      <td>4.0</td>\n",
       "      <td>3.0</td>\n",
       "    </tr>\n",
       "    <tr>\n",
       "      <th>4</th>\n",
       "      <td>Australia</td>\n",
       "      <td>NSW</td>\n",
       "      <td>BALLINA SHIRE COUNCIL</td>\n",
       "      <td>House</td>\n",
       "      <td>16.85</td>\n",
       "      <td>$52.00</td>\n",
       "      <td>Private room</td>\n",
       "      <td>1.0</td>\n",
       "      <td>1.0</td>\n",
       "      <td>1.0</td>\n",
       "    </tr>\n",
       "  </tbody>\n",
       "</table>\n",
       "</div>"
      ],
      "text/plain": [
       "     country state neighbourhood_cleansed  ... bathrooms  bedrooms beds\n",
       "0  Australia   NSW  BALLINA SHIRE COUNCIL  ...       3.0       4.0  4.0\n",
       "1  Australia   NSW  BALLINA SHIRE COUNCIL  ...       1.0       1.0  1.0\n",
       "2  Australia   NSW  BALLINA SHIRE COUNCIL  ...       1.0       1.0  1.0\n",
       "3  Australia   NSW  BALLINA SHIRE COUNCIL  ...       4.0       4.0  3.0\n",
       "4  Australia   NSW  BALLINA SHIRE COUNCIL  ...       1.0       1.0  1.0\n",
       "\n",
       "[5 rows x 10 columns]"
      ]
     },
     "execution_count": 3,
     "metadata": {
      "tags": []
     },
     "output_type": "execute_result"
    }
   ],
   "source": [
    "aus_df = aus_df.drop(columns = ['id'])\n",
    "aus_df.head()"
   ]
  },
  {
   "cell_type": "markdown",
   "metadata": {
    "colab_type": "text",
    "id": "ydnZvVLrZr8r"
   },
   "source": [
    "### Interpret the data"
   ]
  },
  {
   "cell_type": "code",
   "execution_count": 0,
   "metadata": {
    "colab": {
     "base_uri": "https://localhost:8080/",
     "height": 187
    },
    "colab_type": "code",
    "id": "HUZW5rzgZeNJ",
    "outputId": "2bd52008-d8a6-4b8b-d0c6-c591db7b8a2f"
   },
   "outputs": [
    {
     "data": {
      "text/plain": [
       "['country',\n",
       " 'state',\n",
       " 'neighbourhood_cleansed',\n",
       " 'property_type',\n",
       " 'square_meters',\n",
       " 'price',\n",
       " 'room_type',\n",
       " 'bathrooms',\n",
       " 'bedrooms',\n",
       " 'beds']"
      ]
     },
     "execution_count": 4,
     "metadata": {
      "tags": []
     },
     "output_type": "execute_result"
    }
   ],
   "source": [
    "list(aus_df)"
   ]
  },
  {
   "cell_type": "markdown",
   "metadata": {
    "colab_type": "text",
    "id": "IURVAiOHahtC"
   },
   "source": [
    "Dataset Interpretion:\n",
    "\n",
    "*  country - The country in which the listing resides.\n",
    "*  state - The state in which the listing resides.\n",
    "*  neighbourhood_cleansed - A modified version of the neighborhood that can be used for grouping.\n",
    "*  property_type - The type of property that is being listed (e.g., House).\n",
    "*  square_meters - A unit of area equal to a square one meter on each side, the dimension of the property\n",
    "*  price - The cost of the rental per night in USD.\n",
    "*  room_type - The type of room that is available for rent (e.g., a private room).\n",
    "*  bathrooms - The count of bathrooms available (e.g., 1, 2, 1.5).\n",
    "*  bedrooms - The count of bedrooms available (e.g., 0, 1, 2).\n",
    "*  beds - The count of beds available in the rental (e.g., 1, 2, 3).\n",
    "\n",
    "\n",
    "\n",
    "\n"
   ]
  },
  {
   "cell_type": "markdown",
   "metadata": {
    "colab_type": "text",
    "id": "TUlG5bMUe7KS"
   },
   "source": [
    "### Explore the quantative variables (e.g., price)\n",
    "\n",
    "A few explorations:\n",
    "*   The max price for a rental is 11.5K - it's much higher than the mean 802 rental price. It must be some rental!\n",
    "*   There is an entry for a 1 dollar rental - it does not seem right.\n",
    "*   The median price for a rental is 509 - it's below the mean of 802, suggesting a positive skew\n",
    "*   Theere is an entry for a 0 square meters rental property - it does not seem right.\n",
    "*   The max square meters of the rental property is 208.7 - it's much higher than the mean 32.7. It must be a huge place which need more investigate.\n",
    "\n",
    "\n",
    "\n",
    "\n",
    "\n",
    "\n",
    "\n"
   ]
  },
  {
   "cell_type": "code",
   "execution_count": 0,
   "metadata": {
    "colab": {
     "base_uri": "https://localhost:8080/",
     "height": 306
    },
    "colab_type": "code",
    "id": "JX5TqoYHfuK0",
    "outputId": "52f873d8-a2b0-4765-ad50-4b27b8c49c00"
   },
   "outputs": [
    {
     "name": "stdout",
     "output_type": "stream",
     "text": [
      "<class 'pandas.core.frame.DataFrame'>\n",
      "RangeIndex: 3974 entries, 0 to 3973\n",
      "Data columns (total 10 columns):\n",
      " #   Column                  Non-Null Count  Dtype  \n",
      "---  ------                  --------------  -----  \n",
      " 0   country                 3974 non-null   object \n",
      " 1   state                   3781 non-null   object \n",
      " 2   neighbourhood_cleansed  3974 non-null   object \n",
      " 3   property_type           3974 non-null   object \n",
      " 4   square_meters           3974 non-null   float64\n",
      " 5   price                   3974 non-null   object \n",
      " 6   room_type               3974 non-null   object \n",
      " 7   bathrooms               3969 non-null   float64\n",
      " 8   bedrooms                3972 non-null   float64\n",
      " 9   beds                    3973 non-null   float64\n",
      "dtypes: float64(4), object(6)\n",
      "memory usage: 310.6+ KB\n"
     ]
    }
   ],
   "source": [
    "# Explore the data type\n",
    "aus_df.info()"
   ]
  },
  {
   "cell_type": "code",
   "execution_count": 0,
   "metadata": {
    "colab": {
     "base_uri": "https://localhost:8080/",
     "height": 204
    },
    "colab_type": "code",
    "id": "19tOB3_-f4UX",
    "outputId": "865c9791-6ee9-4854-88a0-482f8e251997"
   },
   "outputs": [
    {
     "data": {
      "text/html": [
       "<div>\n",
       "<style scoped>\n",
       "    .dataframe tbody tr th:only-of-type {\n",
       "        vertical-align: middle;\n",
       "    }\n",
       "\n",
       "    .dataframe tbody tr th {\n",
       "        vertical-align: top;\n",
       "    }\n",
       "\n",
       "    .dataframe thead th {\n",
       "        text-align: right;\n",
       "    }\n",
       "</style>\n",
       "<table border=\"1\" class=\"dataframe\">\n",
       "  <thead>\n",
       "    <tr style=\"text-align: right;\">\n",
       "      <th></th>\n",
       "      <th>country</th>\n",
       "      <th>state</th>\n",
       "      <th>neighbourhood_cleansed</th>\n",
       "      <th>property_type</th>\n",
       "      <th>square_meters</th>\n",
       "      <th>price</th>\n",
       "      <th>room_type</th>\n",
       "      <th>bathrooms</th>\n",
       "      <th>bedrooms</th>\n",
       "      <th>beds</th>\n",
       "    </tr>\n",
       "  </thead>\n",
       "  <tbody>\n",
       "    <tr>\n",
       "      <th>0</th>\n",
       "      <td>Australia</td>\n",
       "      <td>NSW</td>\n",
       "      <td>BALLINA SHIRE COUNCIL</td>\n",
       "      <td>House</td>\n",
       "      <td>0.00</td>\n",
       "      <td>2900.0</td>\n",
       "      <td>Entire home/apt</td>\n",
       "      <td>3.0</td>\n",
       "      <td>4.0</td>\n",
       "      <td>4.0</td>\n",
       "    </tr>\n",
       "    <tr>\n",
       "      <th>1</th>\n",
       "      <td>Australia</td>\n",
       "      <td>NSW</td>\n",
       "      <td>BALLINA SHIRE COUNCIL</td>\n",
       "      <td>House</td>\n",
       "      <td>1.55</td>\n",
       "      <td>28.0</td>\n",
       "      <td>Private room</td>\n",
       "      <td>1.0</td>\n",
       "      <td>1.0</td>\n",
       "      <td>1.0</td>\n",
       "    </tr>\n",
       "    <tr>\n",
       "      <th>2</th>\n",
       "      <td>Australia</td>\n",
       "      <td>NSW</td>\n",
       "      <td>BALLINA SHIRE COUNCIL</td>\n",
       "      <td>Guest suite</td>\n",
       "      <td>15.00</td>\n",
       "      <td>141.0</td>\n",
       "      <td>Entire home/apt</td>\n",
       "      <td>1.0</td>\n",
       "      <td>1.0</td>\n",
       "      <td>1.0</td>\n",
       "    </tr>\n",
       "    <tr>\n",
       "      <th>3</th>\n",
       "      <td>Australia</td>\n",
       "      <td>NSW</td>\n",
       "      <td>BALLINA SHIRE COUNCIL</td>\n",
       "      <td>House</td>\n",
       "      <td>16.29</td>\n",
       "      <td>50.0</td>\n",
       "      <td>Private room</td>\n",
       "      <td>4.0</td>\n",
       "      <td>4.0</td>\n",
       "      <td>3.0</td>\n",
       "    </tr>\n",
       "    <tr>\n",
       "      <th>4</th>\n",
       "      <td>Australia</td>\n",
       "      <td>NSW</td>\n",
       "      <td>BALLINA SHIRE COUNCIL</td>\n",
       "      <td>House</td>\n",
       "      <td>16.85</td>\n",
       "      <td>52.0</td>\n",
       "      <td>Private room</td>\n",
       "      <td>1.0</td>\n",
       "      <td>1.0</td>\n",
       "      <td>1.0</td>\n",
       "    </tr>\n",
       "  </tbody>\n",
       "</table>\n",
       "</div>"
      ],
      "text/plain": [
       "     country state neighbourhood_cleansed  ... bathrooms  bedrooms  beds\n",
       "0  Australia   NSW  BALLINA SHIRE COUNCIL  ...       3.0       4.0   4.0\n",
       "1  Australia   NSW  BALLINA SHIRE COUNCIL  ...       1.0       1.0   1.0\n",
       "2  Australia   NSW  BALLINA SHIRE COUNCIL  ...       1.0       1.0   1.0\n",
       "3  Australia   NSW  BALLINA SHIRE COUNCIL  ...       4.0       4.0   3.0\n",
       "4  Australia   NSW  BALLINA SHIRE COUNCIL  ...       1.0       1.0   1.0\n",
       "\n",
       "[5 rows x 10 columns]"
      ]
     },
     "execution_count": 6,
     "metadata": {
      "tags": []
     },
     "output_type": "execute_result"
    }
   ],
   "source": [
    "# Change the price data type to float\n",
    "aus_df[aus_df.columns[5]] = aus_df[aus_df.columns[5]].replace('[\\$,]', '', regex=True).astype(float)\n",
    "aus_df.head()"
   ]
  },
  {
   "cell_type": "code",
   "execution_count": 0,
   "metadata": {
    "colab": {
     "base_uri": "https://localhost:8080/",
     "height": 297
    },
    "colab_type": "code",
    "id": "AdH_TtOEZ-ka",
    "outputId": "e163649b-2f97-4c32-d48d-f9a8f080cef0"
   },
   "outputs": [
    {
     "data": {
      "text/html": [
       "<div>\n",
       "<style scoped>\n",
       "    .dataframe tbody tr th:only-of-type {\n",
       "        vertical-align: middle;\n",
       "    }\n",
       "\n",
       "    .dataframe tbody tr th {\n",
       "        vertical-align: top;\n",
       "    }\n",
       "\n",
       "    .dataframe thead th {\n",
       "        text-align: right;\n",
       "    }\n",
       "</style>\n",
       "<table border=\"1\" class=\"dataframe\">\n",
       "  <thead>\n",
       "    <tr style=\"text-align: right;\">\n",
       "      <th></th>\n",
       "      <th>square_meters</th>\n",
       "      <th>price</th>\n",
       "      <th>bathrooms</th>\n",
       "      <th>bedrooms</th>\n",
       "      <th>beds</th>\n",
       "    </tr>\n",
       "  </thead>\n",
       "  <tbody>\n",
       "    <tr>\n",
       "      <th>count</th>\n",
       "      <td>3974.000000</td>\n",
       "      <td>3974.000000</td>\n",
       "      <td>3969.000000</td>\n",
       "      <td>3972.000000</td>\n",
       "      <td>3973.000000</td>\n",
       "    </tr>\n",
       "    <tr>\n",
       "      <th>mean</th>\n",
       "      <td>32.736583</td>\n",
       "      <td>802.004781</td>\n",
       "      <td>1.637314</td>\n",
       "      <td>2.262840</td>\n",
       "      <td>2.982884</td>\n",
       "    </tr>\n",
       "    <tr>\n",
       "      <th>std</th>\n",
       "      <td>12.631207</td>\n",
       "      <td>885.335192</td>\n",
       "      <td>0.832215</td>\n",
       "      <td>1.368016</td>\n",
       "      <td>1.993749</td>\n",
       "    </tr>\n",
       "    <tr>\n",
       "      <th>min</th>\n",
       "      <td>0.000000</td>\n",
       "      <td>1.000000</td>\n",
       "      <td>0.000000</td>\n",
       "      <td>0.000000</td>\n",
       "      <td>0.000000</td>\n",
       "    </tr>\n",
       "    <tr>\n",
       "      <th>25%</th>\n",
       "      <td>24.772500</td>\n",
       "      <td>200.000000</td>\n",
       "      <td>1.000000</td>\n",
       "      <td>1.000000</td>\n",
       "      <td>1.000000</td>\n",
       "    </tr>\n",
       "    <tr>\n",
       "      <th>50%</th>\n",
       "      <td>29.695000</td>\n",
       "      <td>509.000000</td>\n",
       "      <td>1.000000</td>\n",
       "      <td>2.000000</td>\n",
       "      <td>3.000000</td>\n",
       "    </tr>\n",
       "    <tr>\n",
       "      <th>75%</th>\n",
       "      <td>35.297500</td>\n",
       "      <td>1100.000000</td>\n",
       "      <td>2.000000</td>\n",
       "      <td>3.000000</td>\n",
       "      <td>4.000000</td>\n",
       "    </tr>\n",
       "    <tr>\n",
       "      <th>max</th>\n",
       "      <td>208.700000</td>\n",
       "      <td>11500.000000</td>\n",
       "      <td>9.000000</td>\n",
       "      <td>12.000000</td>\n",
       "      <td>18.000000</td>\n",
       "    </tr>\n",
       "  </tbody>\n",
       "</table>\n",
       "</div>"
      ],
      "text/plain": [
       "       square_meters         price    bathrooms     bedrooms         beds\n",
       "count    3974.000000   3974.000000  3969.000000  3972.000000  3973.000000\n",
       "mean       32.736583    802.004781     1.637314     2.262840     2.982884\n",
       "std        12.631207    885.335192     0.832215     1.368016     1.993749\n",
       "min         0.000000      1.000000     0.000000     0.000000     0.000000\n",
       "25%        24.772500    200.000000     1.000000     1.000000     1.000000\n",
       "50%        29.695000    509.000000     1.000000     2.000000     3.000000\n",
       "75%        35.297500   1100.000000     2.000000     3.000000     4.000000\n",
       "max       208.700000  11500.000000     9.000000    12.000000    18.000000"
      ]
     },
     "execution_count": 7,
     "metadata": {
      "tags": []
     },
     "output_type": "execute_result"
    }
   ],
   "source": [
    "# Explore the detail of the data\n",
    "aus_df.describe()"
   ]
  },
  {
   "cell_type": "markdown",
   "metadata": {
    "colab_type": "text",
    "id": "_5N71OPMqhS1"
   },
   "source": [
    "### Explore the distribution of the price variable"
   ]
  },
  {
   "cell_type": "code",
   "execution_count": 0,
   "metadata": {
    "colab": {
     "base_uri": "https://localhost:8080/",
     "height": 426
    },
    "colab_type": "code",
    "id": "8wlNwcmMfplt",
    "outputId": "6a9c0a79-0a0e-49a6-e558-350e9e41babe"
   },
   "outputs": [
    {
     "data": {
      "text/plain": [
       "Text(0.5, 1.0, 'Distribution of the Price')"
      ]
     },
     "execution_count": 8,
     "metadata": {
      "tags": []
     },
     "output_type": "execute_result"
    },
    {
     "data": {
      "image/png": "[encoded data removed]",
      "text/plain": [
       "<Figure size 1080x432 with 1 Axes>"
      ]
     },
     "metadata": {
      "tags": []
     },
     "output_type": "display_data"
    }
   ],
   "source": [
    "sns.set_style('darkgrid')\n",
    "plt.figure(figsize=(15,6))\n",
    "ax = sns.distplot(aus_df['price'], axlabel='Price', hist_kws={'color':'royalblue'}, kde_kws={'color':'steelblue'})\n",
    "plt.xlim(0, None)\n",
    "ax.set_title('Distribution of the Price', fontsize=20)"
   ]
  },
  {
   "cell_type": "markdown",
   "metadata": {
    "colab_type": "text",
    "id": "RT6RwS2o3Px9"
   },
   "source": [
    "### Create a dataframe that has the outliers removed"
   ]
  },
  {
   "cell_type": "markdown",
   "metadata": {
    "colab_type": "text",
    "id": "OjfUSJitJc06"
   },
   "source": [
    "Trimming off the outliers of the dataframe"
   ]
  },
  {
   "cell_type": "code",
   "execution_count": 0,
   "metadata": {
    "colab": {
     "base_uri": "https://localhost:8080/",
     "height": 51
    },
    "colab_type": "code",
    "id": "Wdc6zlBW2e5v",
    "outputId": "43001e39-f26d-43b5-ddf1-93084943df0f"
   },
   "outputs": [
    {
     "name": "stdout",
     "output_type": "stream",
     "text": [
      "Starting percentile:  52.730000000000004\n",
      "Ending percentile:  4000.27\n"
     ]
    }
   ],
   "source": [
    "starting_percentile_p = aus_df['price'].quantile(.01)\n",
    "ending_percentile_p = aus_df['price'].quantile(.99)\n",
    "print(\"Starting percentile: \", starting_percentile_p)\n",
    "print(\"Ending percentile: \", ending_percentile_p)"
   ]
  },
  {
   "cell_type": "markdown",
   "metadata": {
    "colab_type": "text",
    "id": "BWuDRFKcJheQ"
   },
   "source": [
    "The outliers are loaded into a dataframe for future analysis. A summary of the dataframe contents can be found below."
   ]
  },
  {
   "cell_type": "code",
   "execution_count": 0,
   "metadata": {
    "colab": {
     "base_uri": "https://localhost:8080/",
     "height": 170
    },
    "colab_type": "code",
    "id": "MMFEC1C_I7Q-",
    "outputId": "c15cfae1-be2f-453a-f384-af0c429a1aa4"
   },
   "outputs": [
    {
     "data": {
      "text/plain": [
       "count       80.000000\n",
       "mean      2798.962500\n",
       "std       2981.800889\n",
       "min          1.000000\n",
       "25%         45.000000\n",
       "50%       2026.500000\n",
       "75%       5158.750000\n",
       "max      11500.000000\n",
       "Name: price, dtype: float64"
      ]
     },
     "execution_count": 10,
     "metadata": {
      "tags": []
     },
     "output_type": "execute_result"
    }
   ],
   "source": [
    "aus_price_outliers_df = aus_df.loc[((aus_df['price'] <= starting_percentile_p) | (aus_df['price'] >= ending_percentile_p))]\n",
    "aus_price_outliers_df['price'].describe()"
   ]
  },
  {
   "cell_type": "markdown",
   "metadata": {
    "colab_type": "text",
    "id": "5gMHpPDaJ6X5"
   },
   "source": [
    "Create a dataframe that has the outliers removed"
   ]
  },
  {
   "cell_type": "code",
   "execution_count": 0,
   "metadata": {
    "colab": {},
    "colab_type": "code",
    "id": "zM3bot1bJkrY"
   },
   "outputs": [],
   "source": [
    "aus_df_trimmed = aus_df.loc[((aus_df['price'] > starting_percentile_p) & (aus_df['price'] < ending_percentile_p))]"
   ]
  },
  {
   "cell_type": "markdown",
   "metadata": {
    "colab_type": "text",
    "id": "AemcfHRwLCfE"
   },
   "source": [
    "Replot the graph with outliers removed"
   ]
  },
  {
   "cell_type": "code",
   "execution_count": 0,
   "metadata": {
    "colab": {
     "base_uri": "https://localhost:8080/",
     "height": 426
    },
    "colab_type": "code",
    "id": "YxSvnQ3tJt2h",
    "outputId": "ce16b4cc-ce82-4c76-ea2b-e92405cc3a57"
   },
   "outputs": [
    {
     "data": {
      "text/plain": [
       "Text(0.5, 1.0, 'Distribution of the price with outliers removed')"
      ]
     },
     "execution_count": 12,
     "metadata": {
      "tags": []
     },
     "output_type": "execute_result"
    },
    {
     "data": {
      "image/png": "[encoded data removed]",
      "text/plain": [
       "<Figure size 1080x432 with 1 Axes>"
      ]
     },
     "metadata": {
      "tags": []
     },
     "output_type": "display_data"
    }
   ],
   "source": [
    "sns.set_style('darkgrid')\n",
    "plt.figure(figsize=(15,6))\n",
    "ax = sns.distplot(aus_df_trimmed['price'], axlabel='Price', hist_kws={'color':'royalblue'}, kde_kws={'color':'steelblue'})\n",
    "plt.xlim(0, None)\n",
    "ax.set_title('Distribution of the price with outliers removed', fontsize=20)"
   ]
  },
  {
   "cell_type": "markdown",
   "metadata": {
    "colab_type": "text",
    "id": "-8UBV9TscFxB"
   },
   "source": [
    "### Explore the distribution of the square meters variable"
   ]
  },
  {
   "cell_type": "code",
   "execution_count": 0,
   "metadata": {
    "colab": {
     "base_uri": "https://localhost:8080/",
     "height": 426
    },
    "colab_type": "code",
    "id": "OCgxLZi4cS2q",
    "outputId": "47acf57d-1f02-4a68-c49b-9c60e5199000"
   },
   "outputs": [
    {
     "data": {
      "text/plain": [
       "Text(0.5, 1.0, 'Distribution of the Square Meters')"
      ]
     },
     "execution_count": 13,
     "metadata": {
      "tags": []
     },
     "output_type": "execute_result"
    },
    {
     "data": {
      "image/png": "[encoded data removed]",
      "text/plain": [
       "<Figure size 1080x432 with 1 Axes>"
      ]
     },
     "metadata": {
      "tags": []
     },
     "output_type": "display_data"
    }
   ],
   "source": [
    "sns.set_style('darkgrid')\n",
    "plt.figure(figsize=(15,6))\n",
    "ax = sns.distplot(aus_df_trimmed['square_meters'], axlabel='Square meters', hist_kws={'color':'royalblue'}, kde_kws={'color':'steelblue'})\n",
    "plt.xlim(0, None)\n",
    "ax.set_title('Distribution of the Square Meters', fontsize=20)"
   ]
  },
  {
   "cell_type": "markdown",
   "metadata": {
    "colab_type": "text",
    "id": "CHHVV0Pcc8Et"
   },
   "source": [
    "### Create a dataframe that has the outliers removed\n",
    "\n",
    "Trimming off the outliers of the dataframe"
   ]
  },
  {
   "cell_type": "code",
   "execution_count": 0,
   "metadata": {
    "colab": {
     "base_uri": "https://localhost:8080/",
     "height": 51
    },
    "colab_type": "code",
    "id": "gAFEai_5c9qN",
    "outputId": "c730f07a-ef8f-4c38-dc9c-19ae1fe05502"
   },
   "outputs": [
    {
     "name": "stdout",
     "output_type": "stream",
     "text": [
      "Starting percentile:  14.9888\n",
      "Ending percentile:  67.70350000000002\n"
     ]
    }
   ],
   "source": [
    "starting_percentile_sm = aus_df_trimmed['square_meters'].quantile(.01)\n",
    "ending_percentile_sm = aus_df_trimmed['square_meters'].quantile(.99)\n",
    "print(\"Starting percentile: \", starting_percentile_sm)\n",
    "print(\"Ending percentile: \", ending_percentile_sm)"
   ]
  },
  {
   "cell_type": "markdown",
   "metadata": {
    "colab_type": "text",
    "id": "juw-mcfWd2b9"
   },
   "source": [
    "The outliers are loaded into a dataframe for future analysis. A summary of the dataframe contents can be found below."
   ]
  },
  {
   "cell_type": "code",
   "execution_count": 0,
   "metadata": {
    "colab": {
     "base_uri": "https://localhost:8080/",
     "height": 170
    },
    "colab_type": "code",
    "id": "MVd2d5QOdyJk",
    "outputId": "340a41eb-f1a0-472c-810f-c3e08acc0c1c"
   },
   "outputs": [
    {
     "data": {
      "text/plain": [
       "count     78.000000\n",
       "mean      40.236410\n",
       "std       37.158607\n",
       "min        0.000000\n",
       "25%        7.250000\n",
       "50%       41.295000\n",
       "75%       68.937500\n",
       "max      208.700000\n",
       "Name: square_meters, dtype: float64"
      ]
     },
     "execution_count": 15,
     "metadata": {
      "tags": []
     },
     "output_type": "execute_result"
    }
   ],
   "source": [
    "aus_price_outliers_df = aus_df_trimmed.loc[((aus_df_trimmed['square_meters'] <= starting_percentile_sm) | (aus_df_trimmed['square_meters'] >= ending_percentile_sm))]\n",
    "aus_price_outliers_df['square_meters'].describe()"
   ]
  },
  {
   "cell_type": "markdown",
   "metadata": {
    "colab_type": "text",
    "id": "7uQNcfRPeSHy"
   },
   "source": [
    "Create a dataframe that has the outliers removed"
   ]
  },
  {
   "cell_type": "code",
   "execution_count": 0,
   "metadata": {
    "colab": {},
    "colab_type": "code",
    "id": "SIrH818TeTVw"
   },
   "outputs": [],
   "source": [
    "aus_df_trimmed = aus_df_trimmed.loc[((aus_df_trimmed['square_meters'] > starting_percentile_sm) & (aus_df_trimmed['square_meters'] < ending_percentile_sm))]"
   ]
  },
  {
   "cell_type": "markdown",
   "metadata": {
    "colab_type": "text",
    "id": "_j86kFevegmo"
   },
   "source": [
    "Replot the graph with outliers removed"
   ]
  },
  {
   "cell_type": "code",
   "execution_count": 0,
   "metadata": {
    "colab": {
     "base_uri": "https://localhost:8080/",
     "height": 426
    },
    "colab_type": "code",
    "id": "gF6G5LaXeh0Q",
    "outputId": "35587c8f-6aee-47e0-801f-1bf41123a1d9"
   },
   "outputs": [
    {
     "data": {
      "text/plain": [
       "Text(0.5, 1.0, 'Distribution of the Square Meters with outliers removed')"
      ]
     },
     "execution_count": 17,
     "metadata": {
      "tags": []
     },
     "output_type": "execute_result"
    },
    {
     "data": {
      "image/png": "[encoded data removed]",
      "text/plain": [
       "<Figure size 1080x432 with 1 Axes>"
      ]
     },
     "metadata": {
      "tags": []
     },
     "output_type": "display_data"
    }
   ],
   "source": [
    "sns.set_style('darkgrid')\n",
    "plt.figure(figsize=(15,6))\n",
    "ax = sns.distplot(aus_df_trimmed['square_meters'], axlabel='Square meters', hist_kws={'color':'royalblue'}, kde_kws={'color':'steelblue'})\n",
    "ax.set_title('Distribution of the Square Meters with outliers removed', fontsize=20)"
   ]
  },
  {
   "cell_type": "markdown",
   "metadata": {
    "colab_type": "text",
    "id": "AcTGIdoxN7kS"
   },
   "source": [
    "### Iteratively explore the qualitative variables\n",
    "Here are some find out:\n",
    "*   There is only one unique entry for country, which suggests that we can probably drop it.\n",
    "*   State has 8 unique entries, which needs additional investigation.\n",
    "*   BYRON SHIRE COUNCIL seems to be the most popular neighborhood.\n",
    "*   House seems to be the main property type.\n",
    "*   Entire home/apt seems to be the main room type.\n",
    "\n",
    "\n",
    "\n",
    "\n"
   ]
  },
  {
   "cell_type": "code",
   "execution_count": 0,
   "metadata": {
    "colab": {
     "base_uri": "https://localhost:8080/",
     "height": 173
    },
    "colab_type": "code",
    "id": "0OF6MfgvLVOY",
    "outputId": "b4558e18-4eb2-431f-9317-323753a97bde"
   },
   "outputs": [
    {
     "data": {
      "text/html": [
       "<div>\n",
       "<style scoped>\n",
       "    .dataframe tbody tr th:only-of-type {\n",
       "        vertical-align: middle;\n",
       "    }\n",
       "\n",
       "    .dataframe tbody tr th {\n",
       "        vertical-align: top;\n",
       "    }\n",
       "\n",
       "    .dataframe thead th {\n",
       "        text-align: right;\n",
       "    }\n",
       "</style>\n",
       "<table border=\"1\" class=\"dataframe\">\n",
       "  <thead>\n",
       "    <tr style=\"text-align: right;\">\n",
       "      <th></th>\n",
       "      <th>country</th>\n",
       "      <th>state</th>\n",
       "      <th>neighbourhood_cleansed</th>\n",
       "      <th>property_type</th>\n",
       "      <th>room_type</th>\n",
       "    </tr>\n",
       "  </thead>\n",
       "  <tbody>\n",
       "    <tr>\n",
       "      <th>count</th>\n",
       "      <td>3816</td>\n",
       "      <td>3628</td>\n",
       "      <td>3816</td>\n",
       "      <td>3816</td>\n",
       "      <td>3816</td>\n",
       "    </tr>\n",
       "    <tr>\n",
       "      <th>unique</th>\n",
       "      <td>1</td>\n",
       "      <td>8</td>\n",
       "      <td>5</td>\n",
       "      <td>8</td>\n",
       "      <td>3</td>\n",
       "    </tr>\n",
       "    <tr>\n",
       "      <th>top</th>\n",
       "      <td>Australia</td>\n",
       "      <td>NSW</td>\n",
       "      <td>BYRON SHIRE COUNCIL</td>\n",
       "      <td>House</td>\n",
       "      <td>Entire home/apt</td>\n",
       "    </tr>\n",
       "    <tr>\n",
       "      <th>freq</th>\n",
       "      <td>3816</td>\n",
       "      <td>3461</td>\n",
       "      <td>2445</td>\n",
       "      <td>2294</td>\n",
       "      <td>3113</td>\n",
       "    </tr>\n",
       "  </tbody>\n",
       "</table>\n",
       "</div>"
      ],
      "text/plain": [
       "          country state neighbourhood_cleansed property_type        room_type\n",
       "count        3816  3628                   3816          3816             3816\n",
       "unique          1     8                      5             8                3\n",
       "top     Australia   NSW    BYRON SHIRE COUNCIL         House  Entire home/apt\n",
       "freq         3816  3461                   2445          2294             3113"
      ]
     },
     "execution_count": 18,
     "metadata": {
      "tags": []
     },
     "output_type": "execute_result"
    }
   ],
   "source": [
    "aus_df_trimmed[['country','state','neighbourhood_cleansed', 'property_type', 'room_type']].describe()"
   ]
  },
  {
   "cell_type": "markdown",
   "metadata": {
    "colab_type": "text",
    "id": "EvMxLiRQe-UH"
   },
   "source": [
    "Some of the below need to be fixed\n",
    "*   'New South Wales', 'Nsw', and 'nsw' can all be collapsed to 'NSW'.\n",
    "*   'Qld', 'Queensland', and 'queensland' can all be collapsed to 'QLD'.\n"
   ]
  },
  {
   "cell_type": "code",
   "execution_count": 0,
   "metadata": {
    "colab": {
     "base_uri": "https://localhost:8080/",
     "height": 297
    },
    "colab_type": "code",
    "id": "SrnfvfAQORHs",
    "outputId": "1b7a66d6-43c8-40be-d988-5619470389c3"
   },
   "outputs": [
    {
     "data": {
      "text/html": [
       "<div>\n",
       "<style scoped>\n",
       "    .dataframe tbody tr th:only-of-type {\n",
       "        vertical-align: middle;\n",
       "    }\n",
       "\n",
       "    .dataframe tbody tr th {\n",
       "        vertical-align: top;\n",
       "    }\n",
       "\n",
       "    .dataframe thead th {\n",
       "        text-align: right;\n",
       "    }\n",
       "</style>\n",
       "<table border=\"1\" class=\"dataframe\">\n",
       "  <thead>\n",
       "    <tr style=\"text-align: right;\">\n",
       "      <th></th>\n",
       "      <th>state</th>\n",
       "      <th>count</th>\n",
       "    </tr>\n",
       "  </thead>\n",
       "  <tbody>\n",
       "    <tr>\n",
       "      <th>0</th>\n",
       "      <td>NSW</td>\n",
       "      <td>3461</td>\n",
       "    </tr>\n",
       "    <tr>\n",
       "      <th>1</th>\n",
       "      <td>New South Wales</td>\n",
       "      <td>112</td>\n",
       "    </tr>\n",
       "    <tr>\n",
       "      <th>2</th>\n",
       "      <td>Nsw</td>\n",
       "      <td>4</td>\n",
       "    </tr>\n",
       "    <tr>\n",
       "      <th>3</th>\n",
       "      <td>QLD</td>\n",
       "      <td>44</td>\n",
       "    </tr>\n",
       "    <tr>\n",
       "      <th>4</th>\n",
       "      <td>Qld</td>\n",
       "      <td>2</td>\n",
       "    </tr>\n",
       "    <tr>\n",
       "      <th>5</th>\n",
       "      <td>Queensland</td>\n",
       "      <td>1</td>\n",
       "    </tr>\n",
       "    <tr>\n",
       "      <th>6</th>\n",
       "      <td>nsw</td>\n",
       "      <td>3</td>\n",
       "    </tr>\n",
       "    <tr>\n",
       "      <th>7</th>\n",
       "      <td>queensland</td>\n",
       "      <td>1</td>\n",
       "    </tr>\n",
       "  </tbody>\n",
       "</table>\n",
       "</div>"
      ],
      "text/plain": [
       "             state  count\n",
       "0              NSW   3461\n",
       "1  New South Wales    112\n",
       "2              Nsw      4\n",
       "3              QLD     44\n",
       "4              Qld      2\n",
       "5       Queensland      1\n",
       "6              nsw      3\n",
       "7       queensland      1"
      ]
     },
     "execution_count": 19,
     "metadata": {
      "tags": []
     },
     "output_type": "execute_result"
    }
   ],
   "source": [
    "pd.DataFrame(aus_df_trimmed.groupby('state').count()['country'].rename('count')).reset_index()"
   ]
  },
  {
   "cell_type": "markdown",
   "metadata": {
    "colab_type": "text",
    "id": "xSYjMqSDi8F-"
   },
   "source": [
    "Apply the obvious fixes\n",
    "*   Change the near NSW name to NSW\n",
    "*   Change the near QLD name to QLD\n",
    "\n"
   ]
  },
  {
   "cell_type": "code",
   "execution_count": 0,
   "metadata": {
    "colab": {
     "base_uri": "https://localhost:8080/",
     "height": 102
    },
    "colab_type": "code",
    "id": "QcC7Ni32iqHT",
    "outputId": "15476f07-bcfa-4a2b-a516-19a3fbe8dd38"
   },
   "outputs": [
    {
     "name": "stderr",
     "output_type": "stream",
     "text": [
      "/usr/local/lib/python3.6/dist-packages/pandas/core/indexing.py:671: SettingWithCopyWarning: \n",
      "A value is trying to be set on a copy of a slice from a DataFrame\n",
      "\n",
      "See the caveats in the documentation: https://pandas.pydata.org/pandas-docs/stable/user_guide/indexing.html#returning-a-view-versus-a-copy\n",
      "  self._setitem_with_indexer(indexer, value)\n"
     ]
    }
   ],
   "source": [
    "aus_df_trimmed_cleaned = aus_df_trimmed.copy()\n",
    "# Change the near NSW name to NSW\n",
    "aus_df_trimmed_cleaned['state'].loc[aus_df_trimmed_cleaned['state'].isin(['New South Wales', 'Nsw', 'nsw'])]='NSW'\n",
    "# Change the near QLD name to QLD\n",
    "aus_df_trimmed_cleaned['state'].loc[aus_df_trimmed_cleaned['state'].isin(['Qld', 'Queensland', 'queensland'])]='QLD'"
   ]
  },
  {
   "cell_type": "markdown",
   "metadata": {
    "colab_type": "text",
    "id": "MWKtP1lekuCX"
   },
   "source": [
    "Output the dataframe to see its current state."
   ]
  },
  {
   "cell_type": "code",
   "execution_count": 0,
   "metadata": {
    "colab": {
     "base_uri": "https://localhost:8080/",
     "height": 204
    },
    "colab_type": "code",
    "id": "Y_3ttEPifPO9",
    "outputId": "261e8893-5f3c-40e3-a21d-3080b77c6e33"
   },
   "outputs": [
    {
     "data": {
      "text/html": [
       "<div>\n",
       "<style scoped>\n",
       "    .dataframe tbody tr th:only-of-type {\n",
       "        vertical-align: middle;\n",
       "    }\n",
       "\n",
       "    .dataframe tbody tr th {\n",
       "        vertical-align: top;\n",
       "    }\n",
       "\n",
       "    .dataframe thead th {\n",
       "        text-align: right;\n",
       "    }\n",
       "</style>\n",
       "<table border=\"1\" class=\"dataframe\">\n",
       "  <thead>\n",
       "    <tr style=\"text-align: right;\">\n",
       "      <th></th>\n",
       "      <th>country</th>\n",
       "      <th>state</th>\n",
       "      <th>neighbourhood_cleansed</th>\n",
       "      <th>property_type</th>\n",
       "      <th>square_meters</th>\n",
       "      <th>price</th>\n",
       "      <th>room_type</th>\n",
       "      <th>bathrooms</th>\n",
       "      <th>bedrooms</th>\n",
       "      <th>beds</th>\n",
       "    </tr>\n",
       "  </thead>\n",
       "  <tbody>\n",
       "    <tr>\n",
       "      <th>2</th>\n",
       "      <td>Australia</td>\n",
       "      <td>NSW</td>\n",
       "      <td>BALLINA SHIRE COUNCIL</td>\n",
       "      <td>Guest suite</td>\n",
       "      <td>15.00</td>\n",
       "      <td>141.0</td>\n",
       "      <td>Entire home/apt</td>\n",
       "      <td>1.0</td>\n",
       "      <td>1.0</td>\n",
       "      <td>1.0</td>\n",
       "    </tr>\n",
       "    <tr>\n",
       "      <th>8</th>\n",
       "      <td>Australia</td>\n",
       "      <td>NSW</td>\n",
       "      <td>BALLINA SHIRE COUNCIL</td>\n",
       "      <td>House</td>\n",
       "      <td>16.93</td>\n",
       "      <td>65.0</td>\n",
       "      <td>Private room</td>\n",
       "      <td>1.0</td>\n",
       "      <td>1.0</td>\n",
       "      <td>1.0</td>\n",
       "    </tr>\n",
       "    <tr>\n",
       "      <th>10</th>\n",
       "      <td>Australia</td>\n",
       "      <td>NSW</td>\n",
       "      <td>BALLINA SHIRE COUNCIL</td>\n",
       "      <td>House</td>\n",
       "      <td>18.44</td>\n",
       "      <td>60.0</td>\n",
       "      <td>Private room</td>\n",
       "      <td>1.0</td>\n",
       "      <td>1.0</td>\n",
       "      <td>1.0</td>\n",
       "    </tr>\n",
       "    <tr>\n",
       "      <th>11</th>\n",
       "      <td>Australia</td>\n",
       "      <td>NSW</td>\n",
       "      <td>BALLINA SHIRE COUNCIL</td>\n",
       "      <td>House</td>\n",
       "      <td>18.06</td>\n",
       "      <td>60.0</td>\n",
       "      <td>Private room</td>\n",
       "      <td>1.0</td>\n",
       "      <td>1.0</td>\n",
       "      <td>1.0</td>\n",
       "    </tr>\n",
       "    <tr>\n",
       "      <th>12</th>\n",
       "      <td>Australia</td>\n",
       "      <td>NSW</td>\n",
       "      <td>BALLINA SHIRE COUNCIL</td>\n",
       "      <td>House</td>\n",
       "      <td>19.37</td>\n",
       "      <td>70.0</td>\n",
       "      <td>Private room</td>\n",
       "      <td>1.0</td>\n",
       "      <td>3.0</td>\n",
       "      <td>6.0</td>\n",
       "    </tr>\n",
       "  </tbody>\n",
       "</table>\n",
       "</div>"
      ],
      "text/plain": [
       "      country state neighbourhood_cleansed  ... bathrooms  bedrooms  beds\n",
       "2   Australia   NSW  BALLINA SHIRE COUNCIL  ...       1.0       1.0   1.0\n",
       "8   Australia   NSW  BALLINA SHIRE COUNCIL  ...       1.0       1.0   1.0\n",
       "10  Australia   NSW  BALLINA SHIRE COUNCIL  ...       1.0       1.0   1.0\n",
       "11  Australia   NSW  BALLINA SHIRE COUNCIL  ...       1.0       1.0   1.0\n",
       "12  Australia   NSW  BALLINA SHIRE COUNCIL  ...       1.0       3.0   6.0\n",
       "\n",
       "[5 rows x 10 columns]"
      ]
     },
     "execution_count": 21,
     "metadata": {
      "tags": []
     },
     "output_type": "execute_result"
    }
   ],
   "source": [
    "aus_df_trimmed_cleaned.head()"
   ]
  },
  {
   "cell_type": "markdown",
   "metadata": {
    "colab_type": "text",
    "id": "0cUqqUFEuEBa"
   },
   "source": [
    "### Explore the neighbourhood_cleansed variable\n",
    "\n",
    "Start with analyzing the frequency and distribution of the variable\n",
    "\n",
    "The data below shows that the majority of the entries are in BYRON SHIRE COUNCIL and TWEED SHIRE COUNCIL"
   ]
  },
  {
   "cell_type": "code",
   "execution_count": 0,
   "metadata": {
    "colab": {
     "base_uri": "https://localhost:8080/",
     "height": 221
    },
    "colab_type": "code",
    "id": "WsvC1yoGlC-Z",
    "outputId": "813782d5-c695-41ae-c4d1-aa0ab3c631f6"
   },
   "outputs": [
    {
     "name": "stdout",
     "output_type": "stream",
     "text": [
      "Records of neighbourhood_cleansed\n"
     ]
    },
    {
     "data": {
      "text/html": [
       "<div>\n",
       "<style scoped>\n",
       "    .dataframe tbody tr th:only-of-type {\n",
       "        vertical-align: middle;\n",
       "    }\n",
       "\n",
       "    .dataframe tbody tr th {\n",
       "        vertical-align: top;\n",
       "    }\n",
       "\n",
       "    .dataframe thead th {\n",
       "        text-align: right;\n",
       "    }\n",
       "</style>\n",
       "<table border=\"1\" class=\"dataframe\">\n",
       "  <thead>\n",
       "    <tr style=\"text-align: right;\">\n",
       "      <th></th>\n",
       "      <th>neighbourhood_cleansed</th>\n",
       "      <th>count</th>\n",
       "      <th>cumpercentage</th>\n",
       "    </tr>\n",
       "  </thead>\n",
       "  <tbody>\n",
       "    <tr>\n",
       "      <th>1</th>\n",
       "      <td>BYRON SHIRE COUNCIL</td>\n",
       "      <td>2445</td>\n",
       "      <td>64.072327</td>\n",
       "    </tr>\n",
       "    <tr>\n",
       "      <th>4</th>\n",
       "      <td>TWEED SHIRE COUNCIL</td>\n",
       "      <td>849</td>\n",
       "      <td>86.320755</td>\n",
       "    </tr>\n",
       "    <tr>\n",
       "      <th>0</th>\n",
       "      <td>BALLINA SHIRE COUNCIL</td>\n",
       "      <td>435</td>\n",
       "      <td>97.720126</td>\n",
       "    </tr>\n",
       "    <tr>\n",
       "      <th>2</th>\n",
       "      <td>LISMORE CITY COUNCIL</td>\n",
       "      <td>78</td>\n",
       "      <td>99.764151</td>\n",
       "    </tr>\n",
       "    <tr>\n",
       "      <th>3</th>\n",
       "      <td>RICHMOND VALLEY COUNCIL</td>\n",
       "      <td>9</td>\n",
       "      <td>100.000000</td>\n",
       "    </tr>\n",
       "  </tbody>\n",
       "</table>\n",
       "</div>"
      ],
      "text/plain": [
       "    neighbourhood_cleansed  count  cumpercentage\n",
       "1      BYRON SHIRE COUNCIL   2445      64.072327\n",
       "4      TWEED SHIRE COUNCIL    849      86.320755\n",
       "0    BALLINA SHIRE COUNCIL    435      97.720126\n",
       "2     LISMORE CITY COUNCIL     78      99.764151\n",
       "3  RICHMOND VALLEY COUNCIL      9     100.000000"
      ]
     },
     "execution_count": 22,
     "metadata": {
      "tags": []
     },
     "output_type": "execute_result"
    }
   ],
   "source": [
    "aus_df_trimmed_cleaned_nbhood_agg_full = pd.DataFrame(aus_df_trimmed_cleaned.groupby('neighbourhood_cleansed').count()['country'].rename('count')).reset_index().sort_values(by=['count'], ascending = False)\n",
    "aus_df_trimmed_cleaned_nbhood_agg = aus_df_trimmed_cleaned_nbhood_agg_full.copy().head(5)\n",
    "aus_df_trimmed_cleaned_nbhood_agg['cumpercentage'] = aus_df_trimmed_cleaned_nbhood_agg['count'].cumsum()/aus_df_trimmed_cleaned_nbhood_agg['count'].sum()*100\n",
    "print(\"Records of neighbourhood_cleansed\")\n",
    "aus_df_trimmed_cleaned_nbhood_agg"
   ]
  },
  {
   "cell_type": "markdown",
   "metadata": {
    "colab_type": "text",
    "id": "63zrjRbgw8hK"
   },
   "source": [
    "Plot the Neighbourhood_cleansed using a bar and pareto chart\n",
    "\n",
    "The graph below makes it clear that BYRON SHIRE COUNCIL is the main neighbourhood, and the distribution of the listings is quite concentrated. "
   ]
  },
  {
   "cell_type": "code",
   "execution_count": 0,
   "metadata": {
    "colab": {
     "base_uri": "https://localhost:8080/",
     "height": 452
    },
    "colab_type": "code",
    "id": "TxuW2NDJu8Wo",
    "outputId": "4e96e25d-6203-4206-9ff8-2d38357000a7"
   },
   "outputs": [
    {
     "data": {
      "image/png": "[encoded data removed]",
      "text/plain": [
       "<Figure size 1008x504 with 2 Axes>"
      ]
     },
     "metadata": {
      "tags": []
     },
     "output_type": "display_data"
    }
   ],
   "source": [
    "fig, ax = plt.subplots(figsize=(14,7))\n",
    "ax.bar(aus_df_trimmed_cleaned_nbhood_agg['neighbourhood_cleansed'], aus_df_trimmed_cleaned_nbhood_agg['count'], color='royalblue', width=0.5)\n",
    "ax2 = ax.twinx()\n",
    "ax2.plot(aus_df_trimmed_cleaned_nbhood_agg['neighbourhood_cleansed'], aus_df_trimmed_cleaned_nbhood_agg['cumpercentage'], color='C3', marker='D', ms=7, linewidth=3)\n",
    "ax2.yaxis.set_major_formatter(PercentFormatter())\n",
    "ax.grid(None)\n",
    "ax.tick_params(axis='y', colors='royalblue')\n",
    "ax2.tick_params(axis='y', colors='C3')\n",
    "ax2.set_ylim((0,110))\n",
    "ax.set_xticklabels(aus_df_trimmed_cleaned_nbhood_agg['neighbourhood_cleansed'], fontsize=12)\n",
    "ax.set_title('Neighbourhood_cleansed Distribution', fontsize = 20)\n",
    "plt.show()"
   ]
  },
  {
   "cell_type": "markdown",
   "metadata": {
    "colab_type": "text",
    "id": "SBxwMcasITyH"
   },
   "source": [
    "### Explore the property_type variable\n",
    "\n",
    "The data below shows that the majority of the entries are in Houses and Apartments."
   ]
  },
  {
   "cell_type": "code",
   "execution_count": 0,
   "metadata": {
    "colab": {
     "base_uri": "https://localhost:8080/",
     "height": 297
    },
    "colab_type": "code",
    "id": "8X0jLnmPxT-X",
    "outputId": "14438b40-0b7a-4bc9-c821-0126b54acb75"
   },
   "outputs": [
    {
     "data": {
      "text/html": [
       "<div>\n",
       "<style scoped>\n",
       "    .dataframe tbody tr th:only-of-type {\n",
       "        vertical-align: middle;\n",
       "    }\n",
       "\n",
       "    .dataframe tbody tr th {\n",
       "        vertical-align: top;\n",
       "    }\n",
       "\n",
       "    .dataframe thead th {\n",
       "        text-align: right;\n",
       "    }\n",
       "</style>\n",
       "<table border=\"1\" class=\"dataframe\">\n",
       "  <thead>\n",
       "    <tr style=\"text-align: right;\">\n",
       "      <th></th>\n",
       "      <th>property_type</th>\n",
       "      <th>count</th>\n",
       "      <th>cumpercentage</th>\n",
       "    </tr>\n",
       "  </thead>\n",
       "  <tbody>\n",
       "    <tr>\n",
       "      <th>4</th>\n",
       "      <td>House</td>\n",
       "      <td>2294</td>\n",
       "      <td>60.115304</td>\n",
       "    </tr>\n",
       "    <tr>\n",
       "      <th>0</th>\n",
       "      <td>Apartment</td>\n",
       "      <td>951</td>\n",
       "      <td>85.036688</td>\n",
       "    </tr>\n",
       "    <tr>\n",
       "      <th>2</th>\n",
       "      <td>Guest suite</td>\n",
       "      <td>254</td>\n",
       "      <td>91.692872</td>\n",
       "    </tr>\n",
       "    <tr>\n",
       "      <th>3</th>\n",
       "      <td>Guesthouse</td>\n",
       "      <td>211</td>\n",
       "      <td>97.222222</td>\n",
       "    </tr>\n",
       "    <tr>\n",
       "      <th>1</th>\n",
       "      <td>Camper/RV</td>\n",
       "      <td>42</td>\n",
       "      <td>98.322851</td>\n",
       "    </tr>\n",
       "    <tr>\n",
       "      <th>5</th>\n",
       "      <td>Loft</td>\n",
       "      <td>23</td>\n",
       "      <td>98.925577</td>\n",
       "    </tr>\n",
       "    <tr>\n",
       "      <th>6</th>\n",
       "      <td>Nature lodge</td>\n",
       "      <td>22</td>\n",
       "      <td>99.502096</td>\n",
       "    </tr>\n",
       "    <tr>\n",
       "      <th>7</th>\n",
       "      <td>Other</td>\n",
       "      <td>19</td>\n",
       "      <td>100.000000</td>\n",
       "    </tr>\n",
       "  </tbody>\n",
       "</table>\n",
       "</div>"
      ],
      "text/plain": [
       "  property_type  count  cumpercentage\n",
       "4         House   2294      60.115304\n",
       "0     Apartment    951      85.036688\n",
       "2   Guest suite    254      91.692872\n",
       "3    Guesthouse    211      97.222222\n",
       "1     Camper/RV     42      98.322851\n",
       "5          Loft     23      98.925577\n",
       "6  Nature lodge     22      99.502096\n",
       "7         Other     19     100.000000"
      ]
     },
     "execution_count": 24,
     "metadata": {
      "tags": []
     },
     "output_type": "execute_result"
    }
   ],
   "source": [
    "aus_df_trimmed_cleaned_prop_type_agg = pd.DataFrame(aus_df_trimmed_cleaned.groupby('property_type').count()['country'].rename('count')).reset_index().sort_values(by=['count'], ascending = False)\n",
    "aus_df_trimmed_cleaned_prop_type_agg['cumpercentage'] = aus_df_trimmed_cleaned_prop_type_agg['count'].cumsum()/aus_df_trimmed_cleaned_prop_type_agg['count'].sum()*100\n",
    "aus_df_trimmed_cleaned_prop_type_agg.head(10)"
   ]
  },
  {
   "cell_type": "markdown",
   "metadata": {
    "colab_type": "text",
    "id": "ws8ZxuGzJl5C"
   },
   "source": [
    "### Plot the property_type using a bar and pareto chart\n",
    "\n",
    "The graph below makes it clear that Houses and Apartments are the main entries, and the distribution of the listings is quite concentrated."
   ]
  },
  {
   "cell_type": "code",
   "execution_count": 0,
   "metadata": {
    "colab": {
     "base_uri": "https://localhost:8080/",
     "height": 452
    },
    "colab_type": "code",
    "id": "-bAL-k2bI3rj",
    "outputId": "ff6b1639-bfb4-4bc7-9d4d-843aa16787b6"
   },
   "outputs": [
    {
     "data": {
      "image/png": "[encoded data removed]",
      "text/plain": [
       "<Figure size 1008x504 with 2 Axes>"
      ]
     },
     "metadata": {
      "tags": []
     },
     "output_type": "display_data"
    }
   ],
   "source": [
    "fig, ax = plt.subplots(figsize=(14,7))\n",
    "ax.bar(aus_df_trimmed_cleaned_prop_type_agg['property_type'], aus_df_trimmed_cleaned_prop_type_agg['count'], color='royalblue', width=0.5)\n",
    "ax2 = ax.twinx()\n",
    "ax2.plot(aus_df_trimmed_cleaned_prop_type_agg['property_type'], aus_df_trimmed_cleaned_prop_type_agg['cumpercentage'], color='C3', marker='D', ms=7, linewidth=3)\n",
    "ax2.yaxis.set_major_formatter(PercentFormatter())\n",
    "ax.grid(None)\n",
    "ax.tick_params(axis='y', colors='royalblue')\n",
    "ax2.tick_params(axis='y', colors='C3')\n",
    "ax2.set_ylim((0,110))\n",
    "ax.set_xticklabels(aus_df_trimmed_cleaned_prop_type_agg['property_type'], fontsize=12)\n",
    "ax.set_title('Property_type Distribution', fontsize = 20)\n",
    "plt.show()"
   ]
  },
  {
   "cell_type": "markdown",
   "metadata": {
    "colab_type": "text",
    "id": "U4mz80nPKxXT"
   },
   "source": [
    "### Explore the room_type variable\n",
    "\n",
    "The data below shows that the majority of the entries are in Entire home/apt and Private room."
   ]
  },
  {
   "cell_type": "code",
   "execution_count": 0,
   "metadata": {
    "colab": {
     "base_uri": "https://localhost:8080/",
     "height": 142
    },
    "colab_type": "code",
    "id": "QHpRA6-PKCHN",
    "outputId": "d14d1286-9efc-49e3-d6b0-f6c2cf707e19"
   },
   "outputs": [
    {
     "data": {
      "text/html": [
       "<div>\n",
       "<style scoped>\n",
       "    .dataframe tbody tr th:only-of-type {\n",
       "        vertical-align: middle;\n",
       "    }\n",
       "\n",
       "    .dataframe tbody tr th {\n",
       "        vertical-align: top;\n",
       "    }\n",
       "\n",
       "    .dataframe thead th {\n",
       "        text-align: right;\n",
       "    }\n",
       "</style>\n",
       "<table border=\"1\" class=\"dataframe\">\n",
       "  <thead>\n",
       "    <tr style=\"text-align: right;\">\n",
       "      <th></th>\n",
       "      <th>room_type</th>\n",
       "      <th>count</th>\n",
       "      <th>cumpercentage</th>\n",
       "    </tr>\n",
       "  </thead>\n",
       "  <tbody>\n",
       "    <tr>\n",
       "      <th>0</th>\n",
       "      <td>Entire home/apt</td>\n",
       "      <td>3113</td>\n",
       "      <td>81.577568</td>\n",
       "    </tr>\n",
       "    <tr>\n",
       "      <th>1</th>\n",
       "      <td>Private room</td>\n",
       "      <td>700</td>\n",
       "      <td>99.921384</td>\n",
       "    </tr>\n",
       "    <tr>\n",
       "      <th>2</th>\n",
       "      <td>Shared room</td>\n",
       "      <td>3</td>\n",
       "      <td>100.000000</td>\n",
       "    </tr>\n",
       "  </tbody>\n",
       "</table>\n",
       "</div>"
      ],
      "text/plain": [
       "         room_type  count  cumpercentage\n",
       "0  Entire home/apt   3113      81.577568\n",
       "1     Private room    700      99.921384\n",
       "2      Shared room      3     100.000000"
      ]
     },
     "execution_count": 26,
     "metadata": {
      "tags": []
     },
     "output_type": "execute_result"
    }
   ],
   "source": [
    "aus_df_trimmed_cleaned_room_type_agg = pd.DataFrame(aus_df_trimmed_cleaned.groupby('room_type').count()['country'].rename('count')).reset_index().sort_values(by=['count'], ascending = False)\n",
    "aus_df_trimmed_cleaned_room_type_agg['cumpercentage'] = aus_df_trimmed_cleaned_room_type_agg['count'].cumsum()/aus_df_trimmed_cleaned_room_type_agg['count'].sum()*100\n",
    "aus_df_trimmed_cleaned_room_type_agg.head()"
   ]
  },
  {
   "cell_type": "markdown",
   "metadata": {
    "colab_type": "text",
    "id": "AHlnZwLgL0JV"
   },
   "source": [
    "### Plot the room_type using a bar and pareto chart\n",
    "\n",
    "The graph below makes it clear that Entire home/apt and private rooms are the main room type, and the distribution of the listings is quite concentrated."
   ]
  },
  {
   "cell_type": "code",
   "execution_count": 0,
   "metadata": {
    "colab": {
     "base_uri": "https://localhost:8080/",
     "height": 398
    },
    "colab_type": "code",
    "id": "55RDqSPELF54",
    "outputId": "dc77de18-01fd-40ce-d7cc-4153ea7b71c3"
   },
   "outputs": [
    {
     "data": {
      "image/png": "[encoded data removed]",
      "text/plain": [
       "<Figure size 864x432 with 2 Axes>"
      ]
     },
     "metadata": {
      "tags": []
     },
     "output_type": "display_data"
    }
   ],
   "source": [
    "fig, ax = plt.subplots(figsize=(12,6))\n",
    "ax.bar(aus_df_trimmed_cleaned_room_type_agg['room_type'], aus_df_trimmed_cleaned_room_type_agg['count'], color='royalblue', width=0.4)\n",
    "ax2 = ax.twinx()\n",
    "ax2.plot(aus_df_trimmed_cleaned_room_type_agg['room_type'], aus_df_trimmed_cleaned_room_type_agg['cumpercentage'], color='C3', marker='D', ms=7, linewidth=3)\n",
    "ax2.yaxis.set_major_formatter(PercentFormatter())\n",
    "ax.grid(None)\n",
    "ax.tick_params(axis='y', colors='royalblue')\n",
    "ax2.tick_params(axis='y', colors='C3')\n",
    "ax2.set_ylim((0,110))\n",
    "ax.set_xticklabels(aus_df_trimmed_cleaned_room_type_agg['room_type'], fontsize=12)\n",
    "ax.set_title('Room_type Distribution', fontsize = 20)\n",
    "plt.show()"
   ]
  },
  {
   "cell_type": "markdown",
   "metadata": {
    "colab_type": "text",
    "id": "L6p4UOQ0OKSL"
   },
   "source": [
    "### Filter data and analyze price distributions per select categorical variables\n",
    "\n",
    "Main entries for below variables\n",
    "*   neighbourhood_cleansed - BYRON SHIRE COUNCIL, TWEED SHIRE COUNCIL, BALLINA SHIRE COUNCIL\n",
    "*   property_type -  House, Apartment\n",
    "*   room_type - Entire home/apt, Private room\n",
    "*   price - All"
   ]
  },
  {
   "cell_type": "code",
   "execution_count": 0,
   "metadata": {
    "colab": {
     "base_uri": "https://localhost:8080/",
     "height": 173
    },
    "colab_type": "code",
    "id": "BUVK3WNpMXHZ",
    "outputId": "2c49e05b-0b57-4a64-9c83-67bc1dad2b55"
   },
   "outputs": [
    {
     "data": {
      "text/html": [
       "<div>\n",
       "<style scoped>\n",
       "    .dataframe tbody tr th:only-of-type {\n",
       "        vertical-align: middle;\n",
       "    }\n",
       "\n",
       "    .dataframe tbody tr th {\n",
       "        vertical-align: top;\n",
       "    }\n",
       "\n",
       "    .dataframe thead th {\n",
       "        text-align: right;\n",
       "    }\n",
       "</style>\n",
       "<table border=\"1\" class=\"dataframe\">\n",
       "  <thead>\n",
       "    <tr style=\"text-align: right;\">\n",
       "      <th></th>\n",
       "      <th>neighbourhood_cleansed</th>\n",
       "      <th>property_type</th>\n",
       "      <th>room_type</th>\n",
       "    </tr>\n",
       "  </thead>\n",
       "  <tbody>\n",
       "    <tr>\n",
       "      <th>count</th>\n",
       "      <td>3181</td>\n",
       "      <td>3181</td>\n",
       "      <td>3181</td>\n",
       "    </tr>\n",
       "    <tr>\n",
       "      <th>unique</th>\n",
       "      <td>3</td>\n",
       "      <td>2</td>\n",
       "      <td>2</td>\n",
       "    </tr>\n",
       "    <tr>\n",
       "      <th>top</th>\n",
       "      <td>BYRON SHIRE COUNCIL</td>\n",
       "      <td>House</td>\n",
       "      <td>Entire home/apt</td>\n",
       "    </tr>\n",
       "    <tr>\n",
       "      <th>freq</th>\n",
       "      <td>2072</td>\n",
       "      <td>2239</td>\n",
       "      <td>2590</td>\n",
       "    </tr>\n",
       "  </tbody>\n",
       "</table>\n",
       "</div>"
      ],
      "text/plain": [
       "       neighbourhood_cleansed property_type        room_type\n",
       "count                    3181          3181             3181\n",
       "unique                      3             2                2\n",
       "top       BYRON SHIRE COUNCIL         House  Entire home/apt\n",
       "freq                     2072          2239             2590"
      ]
     },
     "execution_count": 28,
     "metadata": {
      "tags": []
     },
     "output_type": "execute_result"
    }
   ],
   "source": [
    "#Perform final filters to focus on specific areas\n",
    "aus_df_filtered = aus_df_trimmed.loc[(aus_df_trimmed['neighbourhood_cleansed'].isin(['BYRON SHIRE COUNCIL','TWEED SHIRE COUNCIL','BALLINA SHIRE COUNCIL']))]\n",
    "aus_df_filtered = aus_df_filtered.loc[(aus_df_filtered['property_type'].isin(['House', 'Apartment']))]\n",
    "aus_df_filtered = aus_df_filtered.loc[(aus_df_filtered['room_type'].isin(['Entire home/apt','Private room']))]\n",
    "aus_df_filtered[['neighbourhood_cleansed','property_type', 'room_type']].describe()"
   ]
  },
  {
   "cell_type": "code",
   "execution_count": 0,
   "metadata": {
    "colab": {
     "base_uri": "https://localhost:8080/",
     "height": 538
    },
    "colab_type": "code",
    "id": "tP1zBGkVQaF0",
    "outputId": "9a4f278d-cd59-4ad6-ff43-0320c6d44e5a"
   },
   "outputs": [
    {
     "data": {
      "text/plain": [
       "Text(0.5, 1.0, 'Boxplot of Price Distributions per Select Categorical Variables')"
      ]
     },
     "execution_count": 29,
     "metadata": {
      "tags": []
     },
     "output_type": "execute_result"
    },
    {
     "data": {
      "image/png": "[encoded data removed]",
      "text/plain": [
       "<Figure size 1152x576 with 1 Axes>"
      ]
     },
     "metadata": {
      "tags": []
     },
     "output_type": "display_data"
    }
   ],
   "source": [
    "fig, ax = plt.subplots(figsize=(16,8))\n",
    "ax = sns.boxplot(y='price', x = 'neighbourhood_cleansed', hue='property_type', data = aus_df_filtered, showfliers=False, palette=sns.color_palette('hls', 2), width=0.6)\n",
    "plt.ylim([0,3800])\n",
    "ax.set_xlabel('Neighbourhood_cleansed', fontsize = 14)\n",
    "ax.set_ylabel('Price', fontsize = 14)\n",
    "ax.set_title('Boxplot of Price Distributions per Select Categorical Variables', fontsize=18)"
   ]
  },
  {
   "cell_type": "markdown",
   "metadata": {
    "colab_type": "text",
    "id": "bY6T7b1WUCdZ"
   },
   "source": [
    "## Summary of Findings \n",
    "*   The price range in Byron Shire Council is the biggest.\n",
    "*   House and Apartment median listing prices in Byron Shire Council appear to be higher than other councils.\n",
    "*   Byron Shire Council high-end pricing is higher than other councils, especially house prices.\n",
    "*   Within each neighbourhoud category, houses are listed for higher values than apartments.\n",
    "\n",
    "If I were to rent a property, as a Cost-performance ratio finding person, I might opt for an apartment in Byron Shire Council. The median price for it is much lower than the house in Byron Shire Council, and the price range is smaller, it may be a better choice.\n"
   ]
  },
  {
   "cell_type": "markdown",
   "metadata": {
    "colab_type": "text",
    "id": "V-hfdJA2WgUY"
   },
   "source": [
    "# Part 2. Regression Analysis - BYRON SHIRE COUNCIL\n"
   ]
  },
  {
   "cell_type": "markdown",
   "metadata": {
    "colab_type": "text",
    "id": "fyaJyxv_Xqqz"
   },
   "source": [
    "### Perform light modifications"
   ]
  },
  {
   "cell_type": "code",
   "execution_count": 0,
   "metadata": {
    "colab": {
     "base_uri": "https://localhost:8080/",
     "height": 204
    },
    "colab_type": "code",
    "id": "FoTHUVYSQmgS",
    "outputId": "b16a36f9-f0e3-4ffc-f31a-86151659c784"
   },
   "outputs": [
    {
     "data": {
      "text/html": [
       "<div>\n",
       "<style scoped>\n",
       "    .dataframe tbody tr th:only-of-type {\n",
       "        vertical-align: middle;\n",
       "    }\n",
       "\n",
       "    .dataframe tbody tr th {\n",
       "        vertical-align: top;\n",
       "    }\n",
       "\n",
       "    .dataframe thead th {\n",
       "        text-align: right;\n",
       "    }\n",
       "</style>\n",
       "<table border=\"1\" class=\"dataframe\">\n",
       "  <thead>\n",
       "    <tr style=\"text-align: right;\">\n",
       "      <th></th>\n",
       "      <th>country</th>\n",
       "      <th>state</th>\n",
       "      <th>neighbourhood_cleansed</th>\n",
       "      <th>property_type</th>\n",
       "      <th>square_meters</th>\n",
       "      <th>price</th>\n",
       "      <th>room_type</th>\n",
       "      <th>bathrooms</th>\n",
       "      <th>bedrooms</th>\n",
       "      <th>beds</th>\n",
       "    </tr>\n",
       "  </thead>\n",
       "  <tbody>\n",
       "    <tr>\n",
       "      <th>580</th>\n",
       "      <td>Australia</td>\n",
       "      <td>NSW</td>\n",
       "      <td>BYRON SHIRE COUNCIL</td>\n",
       "      <td>House</td>\n",
       "      <td>19.49</td>\n",
       "      <td>85.0</td>\n",
       "      <td>Entire home/apt</td>\n",
       "      <td>1.0</td>\n",
       "      <td>0.0</td>\n",
       "      <td>1.0</td>\n",
       "    </tr>\n",
       "    <tr>\n",
       "      <th>586</th>\n",
       "      <td>Australia</td>\n",
       "      <td>NSW</td>\n",
       "      <td>BYRON SHIRE COUNCIL</td>\n",
       "      <td>House</td>\n",
       "      <td>18.41</td>\n",
       "      <td>79.0</td>\n",
       "      <td>Entire home/apt</td>\n",
       "      <td>1.0</td>\n",
       "      <td>0.0</td>\n",
       "      <td>1.0</td>\n",
       "    </tr>\n",
       "    <tr>\n",
       "      <th>594</th>\n",
       "      <td>Australia</td>\n",
       "      <td>NSW</td>\n",
       "      <td>BYRON SHIRE COUNCIL</td>\n",
       "      <td>House</td>\n",
       "      <td>19.60</td>\n",
       "      <td>100.0</td>\n",
       "      <td>Entire home/apt</td>\n",
       "      <td>1.5</td>\n",
       "      <td>3.0</td>\n",
       "      <td>4.0</td>\n",
       "    </tr>\n",
       "    <tr>\n",
       "      <th>639</th>\n",
       "      <td>Australia</td>\n",
       "      <td>NSW</td>\n",
       "      <td>BYRON SHIRE COUNCIL</td>\n",
       "      <td>House</td>\n",
       "      <td>21.64</td>\n",
       "      <td>115.0</td>\n",
       "      <td>Entire home/apt</td>\n",
       "      <td>1.0</td>\n",
       "      <td>2.0</td>\n",
       "      <td>2.0</td>\n",
       "    </tr>\n",
       "    <tr>\n",
       "      <th>642</th>\n",
       "      <td>Australia</td>\n",
       "      <td>NSW</td>\n",
       "      <td>BYRON SHIRE COUNCIL</td>\n",
       "      <td>House</td>\n",
       "      <td>20.02</td>\n",
       "      <td>128.0</td>\n",
       "      <td>Entire home/apt</td>\n",
       "      <td>1.0</td>\n",
       "      <td>1.0</td>\n",
       "      <td>1.0</td>\n",
       "    </tr>\n",
       "  </tbody>\n",
       "</table>\n",
       "</div>"
      ],
      "text/plain": [
       "       country state neighbourhood_cleansed  ... bathrooms  bedrooms  beds\n",
       "580  Australia   NSW    BYRON SHIRE COUNCIL  ...       1.0       0.0   1.0\n",
       "586  Australia   NSW    BYRON SHIRE COUNCIL  ...       1.0       0.0   1.0\n",
       "594  Australia   NSW    BYRON SHIRE COUNCIL  ...       1.5       3.0   4.0\n",
       "639  Australia   NSW    BYRON SHIRE COUNCIL  ...       1.0       2.0   2.0\n",
       "642  Australia   NSW    BYRON SHIRE COUNCIL  ...       1.0       1.0   1.0\n",
       "\n",
       "[5 rows x 10 columns]"
      ]
     },
     "execution_count": 30,
     "metadata": {
      "tags": []
     },
     "output_type": "execute_result"
    }
   ],
   "source": [
    "#Perform filters to focus on specific areas\n",
    "aus_df_filtered = aus_df_trimmed.loc[(aus_df_trimmed['neighbourhood_cleansed'].isin(['BYRON SHIRE COUNCIL']))]\n",
    "aus_df_filtered = aus_df_filtered.loc[(aus_df_filtered['property_type'].isin(['House']))]\n",
    "aus_df_filtered = aus_df_filtered.loc[(aus_df_filtered['room_type'] == 'Entire home/apt')]\n",
    "\n",
    "#Drop incomplete cases (e.g., those cases where state is null)\n",
    "aus_df_filtered = aus_df_filtered.dropna()\n",
    "\n",
    "# Show the filtered dataframe\n",
    "aus_df_filtered.head(5)"
   ]
  },
  {
   "cell_type": "markdown",
   "metadata": {
    "colab_type": "text",
    "id": "LIBh8ud1hZQf"
   },
   "source": [
    "Column list:\n",
    "\n",
    "*   country - The country in which the listing resides.\n",
    "*   state - The state in which the listing resides.\n",
    "*   neighbourhood_cleansed - A modified version of the neighborhood that can be used for grouping, only 'BYRON SHIRE COUNCIL' is included.\n",
    "*   property_type - The type of property that is being listed, only 'House' is included.\n",
    "*   square_meters - The area of the property that is being listed.\n",
    "*   price - The cost of the rental per night in USD.\n",
    "*   room_type - The type of room that is available for rent, only 'Entire home/apt' is included.\n",
    "*  bathrooms - The count of bathrooms available (e.g., 1, 2, 1.5).\n",
    "*  bedrooms - The count of bedrooms available (e.g., 0, 1, 2).\n",
    "*  beds - The count of beds available in the rental (e.g., 1, 2, 3)."
   ]
  },
  {
   "cell_type": "markdown",
   "metadata": {
    "colab_type": "text",
    "id": "VaVZFGXjnW6J"
   },
   "source": [
    "### Describe quantitative variables"
   ]
  },
  {
   "cell_type": "code",
   "execution_count": 0,
   "metadata": {
    "colab": {
     "base_uri": "https://localhost:8080/",
     "height": 297
    },
    "colab_type": "code",
    "id": "FT5wL4qMUu8S",
    "outputId": "e11256b8-06de-404e-bb6d-503823eb346d"
   },
   "outputs": [
    {
     "data": {
      "text/html": [
       "<div>\n",
       "<style scoped>\n",
       "    .dataframe tbody tr th:only-of-type {\n",
       "        vertical-align: middle;\n",
       "    }\n",
       "\n",
       "    .dataframe tbody tr th {\n",
       "        vertical-align: top;\n",
       "    }\n",
       "\n",
       "    .dataframe thead th {\n",
       "        text-align: right;\n",
       "    }\n",
       "</style>\n",
       "<table border=\"1\" class=\"dataframe\">\n",
       "  <thead>\n",
       "    <tr style=\"text-align: right;\">\n",
       "      <th></th>\n",
       "      <th>square_meters</th>\n",
       "      <th>price</th>\n",
       "      <th>bathrooms</th>\n",
       "      <th>bedrooms</th>\n",
       "      <th>beds</th>\n",
       "    </tr>\n",
       "  </thead>\n",
       "  <tbody>\n",
       "    <tr>\n",
       "      <th>count</th>\n",
       "      <td>1178.000000</td>\n",
       "      <td>1178.000000</td>\n",
       "      <td>1178.000000</td>\n",
       "      <td>1178.000000</td>\n",
       "      <td>1178.000000</td>\n",
       "    </tr>\n",
       "    <tr>\n",
       "      <th>mean</th>\n",
       "      <td>29.988447</td>\n",
       "      <td>1293.271647</td>\n",
       "      <td>2.041596</td>\n",
       "      <td>3.192699</td>\n",
       "      <td>4.105263</td>\n",
       "    </tr>\n",
       "    <tr>\n",
       "      <th>std</th>\n",
       "      <td>3.542103</td>\n",
       "      <td>856.590077</td>\n",
       "      <td>0.927702</td>\n",
       "      <td>1.153936</td>\n",
       "      <td>1.916912</td>\n",
       "    </tr>\n",
       "    <tr>\n",
       "      <th>min</th>\n",
       "      <td>18.410000</td>\n",
       "      <td>79.000000</td>\n",
       "      <td>0.000000</td>\n",
       "      <td>0.000000</td>\n",
       "      <td>0.000000</td>\n",
       "    </tr>\n",
       "    <tr>\n",
       "      <th>25%</th>\n",
       "      <td>27.970000</td>\n",
       "      <td>653.500000</td>\n",
       "      <td>1.000000</td>\n",
       "      <td>3.000000</td>\n",
       "      <td>3.000000</td>\n",
       "    </tr>\n",
       "    <tr>\n",
       "      <th>50%</th>\n",
       "      <td>30.365000</td>\n",
       "      <td>1100.000000</td>\n",
       "      <td>2.000000</td>\n",
       "      <td>3.000000</td>\n",
       "      <td>4.000000</td>\n",
       "    </tr>\n",
       "    <tr>\n",
       "      <th>75%</th>\n",
       "      <td>32.577500</td>\n",
       "      <td>1712.000000</td>\n",
       "      <td>2.500000</td>\n",
       "      <td>4.000000</td>\n",
       "      <td>5.000000</td>\n",
       "    </tr>\n",
       "    <tr>\n",
       "      <th>max</th>\n",
       "      <td>37.650000</td>\n",
       "      <td>4000.000000</td>\n",
       "      <td>9.000000</td>\n",
       "      <td>12.000000</td>\n",
       "      <td>18.000000</td>\n",
       "    </tr>\n",
       "  </tbody>\n",
       "</table>\n",
       "</div>"
      ],
      "text/plain": [
       "       square_meters        price    bathrooms     bedrooms         beds\n",
       "count    1178.000000  1178.000000  1178.000000  1178.000000  1178.000000\n",
       "mean       29.988447  1293.271647     2.041596     3.192699     4.105263\n",
       "std         3.542103   856.590077     0.927702     1.153936     1.916912\n",
       "min        18.410000    79.000000     0.000000     0.000000     0.000000\n",
       "25%        27.970000   653.500000     1.000000     3.000000     3.000000\n",
       "50%        30.365000  1100.000000     2.000000     3.000000     4.000000\n",
       "75%        32.577500  1712.000000     2.500000     4.000000     5.000000\n",
       "max        37.650000  4000.000000     9.000000    12.000000    18.000000"
      ]
     },
     "execution_count": 31,
     "metadata": {
      "tags": []
     },
     "output_type": "execute_result"
    }
   ],
   "source": [
    "aus_df_filtered.describe()"
   ]
  },
  {
   "cell_type": "markdown",
   "metadata": {
    "colab_type": "text",
    "id": "Tn_p6nKtnjat"
   },
   "source": [
    "### Describe qualitative variables"
   ]
  },
  {
   "cell_type": "code",
   "execution_count": 0,
   "metadata": {
    "colab": {
     "base_uri": "https://localhost:8080/",
     "height": 173
    },
    "colab_type": "code",
    "id": "4ico-9SrncNw",
    "outputId": "4af92875-29ea-443b-cfbf-ea48db7be2be"
   },
   "outputs": [
    {
     "data": {
      "text/html": [
       "<div>\n",
       "<style scoped>\n",
       "    .dataframe tbody tr th:only-of-type {\n",
       "        vertical-align: middle;\n",
       "    }\n",
       "\n",
       "    .dataframe tbody tr th {\n",
       "        vertical-align: top;\n",
       "    }\n",
       "\n",
       "    .dataframe thead th {\n",
       "        text-align: right;\n",
       "    }\n",
       "</style>\n",
       "<table border=\"1\" class=\"dataframe\">\n",
       "  <thead>\n",
       "    <tr style=\"text-align: right;\">\n",
       "      <th></th>\n",
       "      <th>neighbourhood_cleansed</th>\n",
       "      <th>property_type</th>\n",
       "      <th>room_type</th>\n",
       "    </tr>\n",
       "  </thead>\n",
       "  <tbody>\n",
       "    <tr>\n",
       "      <th>count</th>\n",
       "      <td>1178</td>\n",
       "      <td>1178</td>\n",
       "      <td>1178</td>\n",
       "    </tr>\n",
       "    <tr>\n",
       "      <th>unique</th>\n",
       "      <td>1</td>\n",
       "      <td>1</td>\n",
       "      <td>1</td>\n",
       "    </tr>\n",
       "    <tr>\n",
       "      <th>top</th>\n",
       "      <td>BYRON SHIRE COUNCIL</td>\n",
       "      <td>House</td>\n",
       "      <td>Entire home/apt</td>\n",
       "    </tr>\n",
       "    <tr>\n",
       "      <th>freq</th>\n",
       "      <td>1178</td>\n",
       "      <td>1178</td>\n",
       "      <td>1178</td>\n",
       "    </tr>\n",
       "  </tbody>\n",
       "</table>\n",
       "</div>"
      ],
      "text/plain": [
       "       neighbourhood_cleansed property_type        room_type\n",
       "count                    1178          1178             1178\n",
       "unique                      1             1                1\n",
       "top       BYRON SHIRE COUNCIL         House  Entire home/apt\n",
       "freq                     1178          1178             1178"
      ]
     },
     "execution_count": 32,
     "metadata": {
      "tags": []
     },
     "output_type": "execute_result"
    }
   ],
   "source": [
    "aus_df_filtered[['neighbourhood_cleansed','property_type', 'room_type']].describe()"
   ]
  },
  {
   "cell_type": "markdown",
   "metadata": {
    "colab_type": "text",
    "id": "bxvc8D8qrQ0M"
   },
   "source": [
    "# Describe Regression approach I\n",
    "\n",
    "Initially, I think that square meters is correlated with price. \n",
    "\n",
    "To guide my thinking, I will plot the results.\n",
    "yˆ=θ0+θ1x1+θ2x2+⋯+θnxn"
   ]
  },
  {
   "cell_type": "code",
   "execution_count": 0,
   "metadata": {
    "colab": {
     "base_uri": "https://localhost:8080/",
     "height": 539
    },
    "colab_type": "code",
    "id": "Pa2azFcvnzCw",
    "outputId": "657aa01e-1741-4040-c328-6ca8172bd3bf"
   },
   "outputs": [
    {
     "data": {
      "text/plain": [
       "Text(0.5, 1.0, 'Scatter Plot of Square Meters and Price')"
      ]
     },
     "execution_count": 33,
     "metadata": {
      "tags": []
     },
     "output_type": "execute_result"
    },
    {
     "data": {
      "image/png": "[encoded data removed]",
      "text/plain": [
       "<Figure size 1152x576 with 1 Axes>"
      ]
     },
     "metadata": {
      "tags": []
     },
     "output_type": "display_data"
    }
   ],
   "source": [
    "fig, ax = plt.subplots(figsize=(16,8))\n",
    "ax = sns.scatterplot(x = 'square_meters', y = 'price', data = aus_df_filtered, s=60, alpha=0.5, color='royalblue')\n",
    "ax.set_xlabel('Square Meters', fontsize = 14)\n",
    "ax.set_ylabel('Price', fontsize = 14)\n",
    "ax.set_title('Scatter Plot of Square Meters and Price', fontsize=20)"
   ]
  },
  {
   "cell_type": "markdown",
   "metadata": {
    "colab_type": "text",
    "id": "pUkjPFrtyv5p"
   },
   "source": [
    "### Fit a line with Sci-Kit Learn "
   ]
  },
  {
   "cell_type": "code",
   "execution_count": 0,
   "metadata": {
    "colab": {},
    "colab_type": "code",
    "id": "EaUY_9Ler_e6"
   },
   "outputs": [],
   "source": [
    "X_cols = ['square_meters']\n",
    "\n",
    "#Load the X data set\n",
    "X = aus_df_filtered[X_cols].values\n",
    "\n",
    "#Initialize the data and column length variables\n",
    "data_length = len(aus_df_filtered)\n",
    "column_length = len(aus_df_filtered[X_cols].columns)\n",
    "\n",
    "#Reshape and load remaining data sets\n",
    "X = X.reshape(data_length,column_length)\n",
    "y = aus_df_filtered['price'].values\n",
    "y = y.reshape(data_length,1)\n",
    "\n",
    "#Split the data into training and testing sets\n",
    "X_train, X_test, y_train, y_test = train_test_split(X,y)\n",
    "\n",
    "#Create the linear regression object and train/fit models\n",
    "lin_reg = LinearRegression()\n",
    "lin_reg.fit(X_train, y_train)\n",
    "\n",
    "#Make predictions using the testing set\n",
    "listing_y_pred = lin_reg.predict(X_test)"
   ]
  },
  {
   "cell_type": "markdown",
   "metadata": {
    "colab_type": "text",
    "id": "CUGMJp1R-kc1"
   },
   "source": [
    "### Take the results from above and print out a few pieces of information"
   ]
  },
  {
   "cell_type": "code",
   "execution_count": 0,
   "metadata": {
    "colab": {
     "base_uri": "https://localhost:8080/",
     "height": 238
    },
    "colab_type": "code",
    "id": "JfCimkoI1n56",
    "outputId": "6ca2778d-5867-4d7c-df26-bec6a0c72c82"
   },
   "outputs": [
    {
     "name": "stdout",
     "output_type": "stream",
     "text": [
      "   y_prediction\n",
      "0   1367.732605\n",
      "1   1121.797032\n",
      "2   1113.316495\n",
      "3   1706.954084\n",
      "4    873.741324\n",
      "\n",
      "Intercept: -5056.274170641345\n",
      "   square_meters\n",
      "0     212.013425\n",
      "\n",
      "Mean Squared Error (MSE):147738.74\n",
      "Variance Score (R^2):0.77\n"
     ]
    }
   ],
   "source": [
    "#Print a few predictions\n",
    "print((pd.DataFrame(listing_y_pred, columns={'y_prediction'}).head(5)))\n",
    "print()\n",
    "\n",
    "#Print the intercept\n",
    "print('Intercept:', float(lin_reg.intercept_))\n",
    "\n",
    "#Print the coefficient(s)\n",
    "coeff_df = pd.DataFrame(lin_reg.coef_)\n",
    "coeff_df.columns = X_cols\n",
    "print(coeff_df)\n",
    "print()\n",
    "\n",
    "#Performance Metric: Mean Squared Error\n",
    "print(\"Mean Squared Error (MSE):%.2f\" % mean_squared_error(y_test, listing_y_pred))\n",
    "\n",
    "# Explained variance score:\n",
    "print('Variance Score (R^2):%.2f' % r2_score(y_test, listing_y_pred))"
   ]
  },
  {
   "cell_type": "markdown",
   "metadata": {
    "colab_type": "text",
    "id": "iPM2T2kYALG2"
   },
   "source": [
    "### Plot the graph using the results from Scikit-Learn"
   ]
  },
  {
   "cell_type": "code",
   "execution_count": 0,
   "metadata": {
    "colab": {
     "base_uri": "https://localhost:8080/",
     "height": 539
    },
    "colab_type": "code",
    "id": "1jJfBMx4_8X8",
    "outputId": "12692907-2281-4de9-d20c-58f9cacee879"
   },
   "outputs": [
    {
     "data": {
      "text/plain": [
       "Text(0.5, 1.0, 'Regression Analysis of Square Meters and Price')"
      ]
     },
     "execution_count": 36,
     "metadata": {
      "tags": []
     },
     "output_type": "execute_result"
    },
    {
     "data": {
      "image/png": "[encoded data removed]",
      "text/plain": [
       "<Figure size 1152x576 with 1 Axes>"
      ]
     },
     "metadata": {
      "tags": []
     },
     "output_type": "display_data"
    }
   ],
   "source": [
    "fig, ax = plt.subplots(figsize=(16,8))\n",
    "ax = sns.scatterplot(x = 'square_meters', y = 'price', data = aus_df_filtered, s=60, alpha=0.5, color='royalblue')\n",
    "plt.plot(X_test, listing_y_pred, color='darkorange')\n",
    "plt.xlim([15,40])\n",
    "plt.ylim([0,4200])\n",
    "ax.set_xlabel('Square Meters', fontsize = 14)\n",
    "ax.set_ylabel('Price', fontsize = 14)\n",
    "ax.set_title('Regression Analysis of Square Meters and Price', fontsize=20)"
   ]
  },
  {
   "cell_type": "markdown",
   "metadata": {
    "colab_type": "text",
    "id": "isPiXSfsFEzF"
   },
   "source": [
    "## Intepret the results  \n",
    "\n",
    "\n",
    "*   From the regression analysis, we can conclude that the rental price for the house will become higher when the square meters increase.\n",
    "*   When the square meters are below 28, the price range is not as huge.\n",
    "*   If I were to rent the house in BYRON SHIRE COUNCIL but I did not have much budget, I would choose the smaller place to rent. \n"
   ]
  },
  {
   "cell_type": "markdown",
   "metadata": {
    "colab_type": "text",
    "id": "RWNQtLtOFm1j"
   },
   "source": [
    "## How can this model be improved?  \n",
    "*   The Variance Score of square meters and prices in Byron Shire Council is 0.77, which means that there is a positive correlation between square meters and prices. \n",
    "*   However, the mean square error is quite huge. The data might be underfitted or overfitted.\n",
    "*   Perhaps the non-linear model can describe the distribution more acurate, but in this case, I think linear regression approach is enough to explore the correlation between square meters and prices in BYRON SHIRE COUNCIL. \n"
   ]
  },
  {
   "cell_type": "markdown",
   "metadata": {
    "colab_type": "text",
    "id": "Be-DxTYccvLP"
   },
   "source": [
    "# Describe Regression approach II\n",
    "\n",
    "I also think the more bedrooms the more bathrooms.\n",
    "\n",
    "To guide my thinking, I will plot the results.\n",
    "yˆ=θ0+θ1x1+θ2x2+⋯+θnxn"
   ]
  },
  {
   "cell_type": "code",
   "execution_count": 0,
   "metadata": {
    "colab": {
     "base_uri": "https://localhost:8080/",
     "height": 539
    },
    "colab_type": "code",
    "id": "EzFB9x1adBMv",
    "outputId": "02584a46-806e-4872-eed4-1b40373728f7"
   },
   "outputs": [
    {
     "data": {
      "text/plain": [
       "Text(0.5, 1.0, 'Scatter Plot of Bedrooms and Bathrooms')"
      ]
     },
     "execution_count": 37,
     "metadata": {
      "tags": []
     },
     "output_type": "execute_result"
    },
    {
     "data": {
      "image/png": "[encoded data removed]",
      "text/plain": [
       "<Figure size 1152x576 with 1 Axes>"
      ]
     },
     "metadata": {
      "tags": []
     },
     "output_type": "display_data"
    }
   ],
   "source": [
    "fig, ax = plt.subplots(figsize=(16,8))\n",
    "ax = sns.scatterplot(x = 'bedrooms', y = 'bathrooms', data = aus_df_filtered, s=60, alpha=0.8, color='steelblue')\n",
    "ax.set_xlabel('Bedrooms', fontsize = 14)\n",
    "ax.set_ylabel('Bathrooms', fontsize = 14)\n",
    "ax.set_title('Scatter Plot of Bedrooms and Bathrooms', fontsize=20)"
   ]
  },
  {
   "cell_type": "markdown",
   "metadata": {
    "colab_type": "text",
    "id": "QVWTA9jCdZ-k"
   },
   "source": [
    "### Fit a line with Sci-Kit Learn"
   ]
  },
  {
   "cell_type": "code",
   "execution_count": 0,
   "metadata": {
    "colab": {},
    "colab_type": "code",
    "id": "jZqlSTmBdemp"
   },
   "outputs": [],
   "source": [
    "X_cols1 = ['bedrooms']\n",
    "\n",
    "#Load the X data set\n",
    "X1 = aus_df_filtered[X_cols1].values\n",
    "\n",
    "#Initialize the data and column length variables\n",
    "data_length1 = len(aus_df_filtered)\n",
    "column_length1 = len(aus_df_filtered[X_cols1].columns)\n",
    "\n",
    "#Reshape and load remaining data sets\n",
    "X1 = X1.reshape(data_length1,column_length1)\n",
    "y1 = aus_df_filtered['bathrooms'].values\n",
    "y1 = y1.reshape(data_length1,1)\n",
    "\n",
    "#Split the data into training and testing sets\n",
    "X_train1, X_test1, y_train1, y_test1 = train_test_split(X1,y1)\n",
    "\n",
    "#Create the linear regression object and train/fit models\n",
    "lin_reg1 = LinearRegression()\n",
    "lin_reg1.fit(X_train1, y_train1)\n",
    "\n",
    "#Make predictions using the testing set\n",
    "listing_y_pred1 = lin_reg1.predict(X_test1)"
   ]
  },
  {
   "cell_type": "markdown",
   "metadata": {
    "colab_type": "text",
    "id": "VSjZaHelePrv"
   },
   "source": [
    "### Take the results from above and print out a few pieces of information"
   ]
  },
  {
   "cell_type": "code",
   "execution_count": 0,
   "metadata": {
    "colab": {
     "base_uri": "https://localhost:8080/",
     "height": 238
    },
    "colab_type": "code",
    "id": "DgGC6EpteKLv",
    "outputId": "f0987a89-3bb8-49c3-9fd0-c322ab9fdff9"
   },
   "outputs": [
    {
     "name": "stdout",
     "output_type": "stream",
     "text": [
      "   y_prediction\n",
      "0      3.019639\n",
      "1      1.910855\n",
      "2      1.356462\n",
      "3      2.465247\n",
      "4      1.910855\n",
      "\n",
      "Intercept: 0.2476778012458032\n",
      "   bedrooms\n",
      "0  0.554392\n",
      "\n",
      "Mean Squared Error (MSE):0.50\n",
      "Variance Score (R^2):0.51\n"
     ]
    }
   ],
   "source": [
    "#Print a few predictions\n",
    "print((pd.DataFrame(listing_y_pred1, columns={'y_prediction'}).head(5)))\n",
    "print()\n",
    "\n",
    "#Print the intercept\n",
    "print('Intercept:', float(lin_reg1.intercept_))\n",
    "\n",
    "#Print the coefficient(s)\n",
    "coeff_df1 = pd.DataFrame(lin_reg1.coef_)\n",
    "coeff_df1.columns = X_cols1\n",
    "print(coeff_df1)\n",
    "print()\n",
    "\n",
    "#Performance Metric: Mean Squared Error\n",
    "print(\"Mean Squared Error (MSE):%.2f\" % mean_squared_error(y_test1, listing_y_pred1))\n",
    "\n",
    "# Explained variance score:\n",
    "print('Variance Score (R^2):%.2f' % r2_score(y_test1, listing_y_pred1))"
   ]
  },
  {
   "cell_type": "markdown",
   "metadata": {
    "colab_type": "text",
    "id": "mBEpJHHPe2XJ"
   },
   "source": [
    "### Plot the graph using the results from Scikit-Learn"
   ]
  },
  {
   "cell_type": "code",
   "execution_count": 0,
   "metadata": {
    "colab": {
     "base_uri": "https://localhost:8080/",
     "height": 539
    },
    "colab_type": "code",
    "id": "in_yoNOte7Fq",
    "outputId": "9a36cdf9-aa38-4643-ac78-18c54422743a"
   },
   "outputs": [
    {
     "data": {
      "text/plain": [
       "Text(0.5, 1.0, 'Regression Analysis of Bedrooms and Bathrooms')"
      ]
     },
     "execution_count": 40,
     "metadata": {
      "tags": []
     },
     "output_type": "execute_result"
    },
    {
     "data": {
      "image/png": "[encoded data removed]",
      "text/plain": [
       "<Figure size 1152x576 with 1 Axes>"
      ]
     },
     "metadata": {
      "tags": []
     },
     "output_type": "display_data"
    }
   ],
   "source": [
    "fig, ax = plt.subplots(figsize=(16,8))\n",
    "ax = sns.scatterplot(x = 'bedrooms', y = 'bathrooms', data = aus_df_filtered, s=60, alpha=0.5, color='steelblue')\n",
    "plt.plot(X_test1, listing_y_pred1, color='darkorange')\n",
    "ax.set_xlabel('Bedrooms', fontsize = 14)\n",
    "ax.set_ylabel('Bathroomd', fontsize = 14)\n",
    "ax.set_title('Regression Analysis of Bedrooms and Bathrooms', fontsize=20)"
   ]
  },
  {
   "cell_type": "markdown",
   "metadata": {
    "colab_type": "text",
    "id": "ecJZAl78zAI6"
   },
   "source": [
    "## Interpret the result\n",
    "*   From above, it seems that the more bedrooms in the houses will also have more bathrooms.\n",
    "*   The Variance Score is 0.44, representing a medium positive correlation between them.\n",
    "\n",
    "\n",
    "\n",
    "\n"
   ]
  },
  {
   "cell_type": "markdown",
   "metadata": {
    "colab_type": "text",
    "id": "IN36Xj4KFuQN"
   },
   "source": [
    "# Describe Regression approach III\n",
    "### Repeat the previous analysis with a few more variables"
   ]
  },
  {
   "cell_type": "code",
   "execution_count": 0,
   "metadata": {
    "colab": {},
    "colab_type": "code",
    "id": "mAeWhVMvD9y8"
   },
   "outputs": [],
   "source": [
    "X_cols2 = ['square_meters', 'bathrooms', 'bedrooms']\n",
    "\n",
    "#Load the X data set\n",
    "X2 = aus_df_filtered[X_cols2].values\n",
    "\n",
    "#Initialize the data and column length variables\n",
    "data_length2 = len(aus_df_filtered)\n",
    "column_length2 = len(aus_df_filtered[X_cols2].columns)\n",
    "\n",
    "#Reshape and load remaining data sets\n",
    "X2 = X2.reshape(data_length2,column_length2)\n",
    "y2 = aus_df_filtered['price'].values\n",
    "y2 = y2.reshape(data_length2,1)\n",
    "\n",
    "#Split the data into training and testing sets\n",
    "X_train2, X_test2, y_train2, y_test2 = train_test_split(X2,y2)\n",
    "\n",
    "#Create the linear regression object and train/fit models\n",
    "lin_reg2= LinearRegression()\n",
    "lin_reg2.fit(X_train2, y_train2)\n",
    "\n",
    "#Make predictions using the testing set\n",
    "listing_y_pred2 = lin_reg2.predict(X_test2)"
   ]
  },
  {
   "cell_type": "markdown",
   "metadata": {
    "colab_type": "text",
    "id": "T_6fFHiJaEaD"
   },
   "source": [
    "### Take the results from above and print out a few pieces of information \n"
   ]
  },
  {
   "cell_type": "code",
   "execution_count": 0,
   "metadata": {
    "colab": {
     "base_uri": "https://localhost:8080/",
     "height": 238
    },
    "colab_type": "code",
    "id": "qUYs-dCdaAMG",
    "outputId": "2bb67725-113e-4904-9c0d-1b9bccd7630b"
   },
   "outputs": [
    {
     "name": "stdout",
     "output_type": "stream",
     "text": [
      "   y_prediction\n",
      "0   1537.689985\n",
      "1    -92.803531\n",
      "2   1667.725010\n",
      "3   1076.025327\n",
      "4   1535.114977\n",
      "\n",
      "Intercept: -4804.4058319046\n",
      "   square_meters  bathrooms   bedrooms\n",
      "0     192.134473  84.464674  51.222644\n",
      "\n",
      "Mean Squared Error (MSE):140258.62\n",
      "Variance Score (R^2):0.81\n"
     ]
    }
   ],
   "source": [
    "#Print a few predictions\n",
    "print((pd.DataFrame(listing_y_pred2, columns={'y_prediction'}).head(5)))\n",
    "print()\n",
    "\n",
    "#Print the intercept\n",
    "print('Intercept:', float(lin_reg2.intercept_))\n",
    "\n",
    "#Print the coefficient(s)\n",
    "coeff_df2 = pd.DataFrame(lin_reg2.coef_)\n",
    "coeff_df2.columns = X_cols2\n",
    "print(coeff_df2)\n",
    "print()\n",
    "\n",
    "#Performance Metric: Mean Squared Error\n",
    "print(\"Mean Squared Error (MSE):%.2f\" % mean_squared_error(y_test2, listing_y_pred2))\n",
    "\n",
    "# Explained variance score:\n",
    "print('Variance Score (R^2):%.2f' % r2_score(y_test2, listing_y_pred2))"
   ]
  },
  {
   "cell_type": "markdown",
   "metadata": {
    "colab_type": "text",
    "id": "bbPcQ3iV9LTF"
   },
   "source": [
    "# Summary \n",
    "\n",
    "\n",
    "*   From the analysis above in BYRON SHIRE COUNCIL, when I add 'bathrooms' and 'bedrooms' variables into consideration, the variance score have almost the same outcome as that of only 'square meters' variable.\n",
    "*   We can conclude that the rental price will be influenced by the factors of 'square meters', 'bathrooms', and 'bedrooms'. \n",
    "*   The relationship among 'price'and 'squares meters', 'bathrooms', 'bedrooms' is positive. \n",
    "*   The mean squared error increased, which means that when I take more variables into consideration, my accuracy decrease. Using non-linear approach may lead to a more accurate outcome.\n",
    "\n",
    "\n",
    "\n",
    "\n",
    "\n",
    "\n",
    "\n",
    "\n",
    "\n",
    "\n",
    "\n",
    "\n",
    "\n",
    "\n",
    "\n"
   ]
  },
  {
   "cell_type": "markdown",
   "metadata": {
    "colab_type": "text",
    "id": "5EzI1T0V22C9"
   },
   "source": [
    "# Additional regression approach I - TWEED SHIRE COUNCIL\n",
    "I also want to investage the correlation between square meters and prices in TWEED SHIRE COUNCIL. \n",
    "\n",
    "To find out if the result in TWEED SHIRE COUNCIL will be similiar to the result in BYRON SHIRE COUNCIL. \n",
    "\n",
    "\n",
    "Perform light modifications: "
   ]
  },
  {
   "cell_type": "code",
   "execution_count": 0,
   "metadata": {
    "colab": {
     "base_uri": "https://localhost:8080/",
     "height": 204
    },
    "colab_type": "code",
    "id": "M87VtLWo2_ot",
    "outputId": "240cc426-93c3-4174-f068-47c9b13f6c6d"
   },
   "outputs": [
    {
     "data": {
      "text/html": [
       "<div>\n",
       "<style scoped>\n",
       "    .dataframe tbody tr th:only-of-type {\n",
       "        vertical-align: middle;\n",
       "    }\n",
       "\n",
       "    .dataframe tbody tr th {\n",
       "        vertical-align: top;\n",
       "    }\n",
       "\n",
       "    .dataframe thead th {\n",
       "        text-align: right;\n",
       "    }\n",
       "</style>\n",
       "<table border=\"1\" class=\"dataframe\">\n",
       "  <thead>\n",
       "    <tr style=\"text-align: right;\">\n",
       "      <th></th>\n",
       "      <th>country</th>\n",
       "      <th>state</th>\n",
       "      <th>neighbourhood_cleansed</th>\n",
       "      <th>property_type</th>\n",
       "      <th>square_meters</th>\n",
       "      <th>price</th>\n",
       "      <th>room_type</th>\n",
       "      <th>bathrooms</th>\n",
       "      <th>bedrooms</th>\n",
       "      <th>beds</th>\n",
       "    </tr>\n",
       "  </thead>\n",
       "  <tbody>\n",
       "    <tr>\n",
       "      <th>3105</th>\n",
       "      <td>Australia</td>\n",
       "      <td>NSW</td>\n",
       "      <td>TWEED SHIRE COUNCIL</td>\n",
       "      <td>House</td>\n",
       "      <td>15.10</td>\n",
       "      <td>1751.0</td>\n",
       "      <td>Entire home/apt</td>\n",
       "      <td>2.0</td>\n",
       "      <td>3.0</td>\n",
       "      <td>3.0</td>\n",
       "    </tr>\n",
       "    <tr>\n",
       "      <th>3107</th>\n",
       "      <td>Australia</td>\n",
       "      <td>NSW</td>\n",
       "      <td>TWEED SHIRE COUNCIL</td>\n",
       "      <td>House</td>\n",
       "      <td>16.07</td>\n",
       "      <td>1745.0</td>\n",
       "      <td>Entire home/apt</td>\n",
       "      <td>1.0</td>\n",
       "      <td>3.0</td>\n",
       "      <td>3.0</td>\n",
       "    </tr>\n",
       "    <tr>\n",
       "      <th>3108</th>\n",
       "      <td>Australia</td>\n",
       "      <td>NSW</td>\n",
       "      <td>TWEED SHIRE COUNCIL</td>\n",
       "      <td>House</td>\n",
       "      <td>15.36</td>\n",
       "      <td>1750.0</td>\n",
       "      <td>Entire home/apt</td>\n",
       "      <td>2.0</td>\n",
       "      <td>4.0</td>\n",
       "      <td>4.0</td>\n",
       "    </tr>\n",
       "    <tr>\n",
       "      <th>3110</th>\n",
       "      <td>Australia</td>\n",
       "      <td>NSW</td>\n",
       "      <td>TWEED SHIRE COUNCIL</td>\n",
       "      <td>House</td>\n",
       "      <td>18.26</td>\n",
       "      <td>1725.0</td>\n",
       "      <td>Entire home/apt</td>\n",
       "      <td>3.0</td>\n",
       "      <td>4.0</td>\n",
       "      <td>5.0</td>\n",
       "    </tr>\n",
       "    <tr>\n",
       "      <th>3111</th>\n",
       "      <td>Australia</td>\n",
       "      <td>NSW</td>\n",
       "      <td>TWEED SHIRE COUNCIL</td>\n",
       "      <td>House</td>\n",
       "      <td>21.34</td>\n",
       "      <td>1700.0</td>\n",
       "      <td>Entire home/apt</td>\n",
       "      <td>3.0</td>\n",
       "      <td>4.0</td>\n",
       "      <td>3.0</td>\n",
       "    </tr>\n",
       "  </tbody>\n",
       "</table>\n",
       "</div>"
      ],
      "text/plain": [
       "        country state neighbourhood_cleansed  ... bathrooms  bedrooms  beds\n",
       "3105  Australia   NSW    TWEED SHIRE COUNCIL  ...       2.0       3.0   3.0\n",
       "3107  Australia   NSW    TWEED SHIRE COUNCIL  ...       1.0       3.0   3.0\n",
       "3108  Australia   NSW    TWEED SHIRE COUNCIL  ...       2.0       4.0   4.0\n",
       "3110  Australia   NSW    TWEED SHIRE COUNCIL  ...       3.0       4.0   5.0\n",
       "3111  Australia   NSW    TWEED SHIRE COUNCIL  ...       3.0       4.0   3.0\n",
       "\n",
       "[5 rows x 10 columns]"
      ]
     },
     "execution_count": 43,
     "metadata": {
      "tags": []
     },
     "output_type": "execute_result"
    }
   ],
   "source": [
    "#Perform filters to focus on specific areas\n",
    "aus_df_filtered_v = aus_df_trimmed.loc[(aus_df_trimmed['neighbourhood_cleansed'].isin(['TWEED SHIRE COUNCIL']))]\n",
    "aus_df_filtered_v = aus_df_filtered_v.loc[(aus_df_filtered_v['property_type'].isin(['House']))]\n",
    "aus_df_filtered_v = aus_df_filtered_v.loc[(aus_df_filtered_v['room_type'] == 'Entire home/apt')]\n",
    "\n",
    "#Drop incomplete cases (e.g., those cases where state is null)\n",
    "aus_df_filtered_v = aus_df_filtered_v.dropna()\n",
    "\n",
    "# Show the filtered dataframe\n",
    "aus_df_filtered_v.head(5)"
   ]
  },
  {
   "cell_type": "markdown",
   "metadata": {
    "colab_type": "text",
    "id": "sq-BUN07iXqg"
   },
   "source": [
    "Column list:\n",
    "\n",
    "*   country - The country in which the listing resides.\n",
    "*   state - The state in which the listing resides.\n",
    "*   neighbourhood_cleansed - A modified version of the neighborhood that can be used for grouping, only 'TWEED SHIRE COUNCIL' is included.\n",
    "*   property_type - The type of property that is being listed, only 'House' is included.\n",
    "*   square_meters - The area of the property that is being listed.\n",
    "*   price - The cost of the rental per night in USD.\n",
    "*   room_type - The type of room that is available for rent, only 'Entire home/apt' is included.\n",
    "*  bathrooms - The count of bathrooms available (e.g., 1, 2, 1.5).\n",
    "*  bedrooms - The count of bedrooms available (e.g., 0, 1, 2).\n",
    "*  beds - The count of beds available in the rental (e.g., 1, 2, 3)."
   ]
  },
  {
   "cell_type": "markdown",
   "metadata": {
    "colab_type": "text",
    "id": "0diTFdeP3XYx"
   },
   "source": [
    "### Describe quantitative variables"
   ]
  },
  {
   "cell_type": "code",
   "execution_count": 0,
   "metadata": {
    "colab": {
     "base_uri": "https://localhost:8080/",
     "height": 297
    },
    "colab_type": "code",
    "id": "aTw8zy-x3heT",
    "outputId": "97aad481-e02d-443b-901e-16a58bf0f0a8"
   },
   "outputs": [
    {
     "data": {
      "text/html": [
       "<div>\n",
       "<style scoped>\n",
       "    .dataframe tbody tr th:only-of-type {\n",
       "        vertical-align: middle;\n",
       "    }\n",
       "\n",
       "    .dataframe tbody tr th {\n",
       "        vertical-align: top;\n",
       "    }\n",
       "\n",
       "    .dataframe thead th {\n",
       "        text-align: right;\n",
       "    }\n",
       "</style>\n",
       "<table border=\"1\" class=\"dataframe\">\n",
       "  <thead>\n",
       "    <tr style=\"text-align: right;\">\n",
       "      <th></th>\n",
       "      <th>square_meters</th>\n",
       "      <th>price</th>\n",
       "      <th>bathrooms</th>\n",
       "      <th>bedrooms</th>\n",
       "      <th>beds</th>\n",
       "    </tr>\n",
       "  </thead>\n",
       "  <tbody>\n",
       "    <tr>\n",
       "      <th>count</th>\n",
       "      <td>267.000000</td>\n",
       "      <td>267.000000</td>\n",
       "      <td>267.000000</td>\n",
       "      <td>267.000000</td>\n",
       "      <td>267.000000</td>\n",
       "    </tr>\n",
       "    <tr>\n",
       "      <th>mean</th>\n",
       "      <td>48.520974</td>\n",
       "      <td>793.917603</td>\n",
       "      <td>2.097378</td>\n",
       "      <td>3.322097</td>\n",
       "      <td>4.456929</td>\n",
       "    </tr>\n",
       "    <tr>\n",
       "      <th>std</th>\n",
       "      <td>12.569352</td>\n",
       "      <td>493.115644</td>\n",
       "      <td>0.780322</td>\n",
       "      <td>1.055419</td>\n",
       "      <td>1.929446</td>\n",
       "    </tr>\n",
       "    <tr>\n",
       "      <th>min</th>\n",
       "      <td>15.100000</td>\n",
       "      <td>78.000000</td>\n",
       "      <td>1.000000</td>\n",
       "      <td>0.000000</td>\n",
       "      <td>0.000000</td>\n",
       "    </tr>\n",
       "    <tr>\n",
       "      <th>25%</th>\n",
       "      <td>38.865000</td>\n",
       "      <td>360.000000</td>\n",
       "      <td>1.500000</td>\n",
       "      <td>3.000000</td>\n",
       "      <td>3.000000</td>\n",
       "    </tr>\n",
       "    <tr>\n",
       "      <th>50%</th>\n",
       "      <td>51.680000</td>\n",
       "      <td>680.000000</td>\n",
       "      <td>2.000000</td>\n",
       "      <td>3.000000</td>\n",
       "      <td>4.000000</td>\n",
       "    </tr>\n",
       "    <tr>\n",
       "      <th>75%</th>\n",
       "      <td>58.485000</td>\n",
       "      <td>1250.000000</td>\n",
       "      <td>2.500000</td>\n",
       "      <td>4.000000</td>\n",
       "      <td>6.000000</td>\n",
       "    </tr>\n",
       "    <tr>\n",
       "      <th>max</th>\n",
       "      <td>67.700000</td>\n",
       "      <td>1751.000000</td>\n",
       "      <td>4.000000</td>\n",
       "      <td>6.000000</td>\n",
       "      <td>13.000000</td>\n",
       "    </tr>\n",
       "  </tbody>\n",
       "</table>\n",
       "</div>"
      ],
      "text/plain": [
       "       square_meters        price   bathrooms    bedrooms        beds\n",
       "count     267.000000   267.000000  267.000000  267.000000  267.000000\n",
       "mean       48.520974   793.917603    2.097378    3.322097    4.456929\n",
       "std        12.569352   493.115644    0.780322    1.055419    1.929446\n",
       "min        15.100000    78.000000    1.000000    0.000000    0.000000\n",
       "25%        38.865000   360.000000    1.500000    3.000000    3.000000\n",
       "50%        51.680000   680.000000    2.000000    3.000000    4.000000\n",
       "75%        58.485000  1250.000000    2.500000    4.000000    6.000000\n",
       "max        67.700000  1751.000000    4.000000    6.000000   13.000000"
      ]
     },
     "execution_count": 44,
     "metadata": {
      "tags": []
     },
     "output_type": "execute_result"
    }
   ],
   "source": [
    "aus_df_filtered_v.describe()"
   ]
  },
  {
   "cell_type": "markdown",
   "metadata": {
    "colab_type": "text",
    "id": "525JHuTB3r-E"
   },
   "source": [
    "### Describe qualitative variables"
   ]
  },
  {
   "cell_type": "code",
   "execution_count": 0,
   "metadata": {
    "colab": {
     "base_uri": "https://localhost:8080/",
     "height": 173
    },
    "colab_type": "code",
    "id": "1wf_hsA_3u4u",
    "outputId": "1d3c5cd0-36fe-4d4d-91fa-9147b87370f1"
   },
   "outputs": [
    {
     "data": {
      "text/html": [
       "<div>\n",
       "<style scoped>\n",
       "    .dataframe tbody tr th:only-of-type {\n",
       "        vertical-align: middle;\n",
       "    }\n",
       "\n",
       "    .dataframe tbody tr th {\n",
       "        vertical-align: top;\n",
       "    }\n",
       "\n",
       "    .dataframe thead th {\n",
       "        text-align: right;\n",
       "    }\n",
       "</style>\n",
       "<table border=\"1\" class=\"dataframe\">\n",
       "  <thead>\n",
       "    <tr style=\"text-align: right;\">\n",
       "      <th></th>\n",
       "      <th>neighbourhood_cleansed</th>\n",
       "      <th>property_type</th>\n",
       "      <th>room_type</th>\n",
       "    </tr>\n",
       "  </thead>\n",
       "  <tbody>\n",
       "    <tr>\n",
       "      <th>count</th>\n",
       "      <td>267</td>\n",
       "      <td>267</td>\n",
       "      <td>267</td>\n",
       "    </tr>\n",
       "    <tr>\n",
       "      <th>unique</th>\n",
       "      <td>1</td>\n",
       "      <td>1</td>\n",
       "      <td>1</td>\n",
       "    </tr>\n",
       "    <tr>\n",
       "      <th>top</th>\n",
       "      <td>TWEED SHIRE COUNCIL</td>\n",
       "      <td>House</td>\n",
       "      <td>Entire home/apt</td>\n",
       "    </tr>\n",
       "    <tr>\n",
       "      <th>freq</th>\n",
       "      <td>267</td>\n",
       "      <td>267</td>\n",
       "      <td>267</td>\n",
       "    </tr>\n",
       "  </tbody>\n",
       "</table>\n",
       "</div>"
      ],
      "text/plain": [
       "       neighbourhood_cleansed property_type        room_type\n",
       "count                     267           267              267\n",
       "unique                      1             1                1\n",
       "top       TWEED SHIRE COUNCIL         House  Entire home/apt\n",
       "freq                      267           267              267"
      ]
     },
     "execution_count": 45,
     "metadata": {
      "tags": []
     },
     "output_type": "execute_result"
    }
   ],
   "source": [
    "aus_df_filtered_v[['neighbourhood_cleansed','property_type', 'room_type']].describe()"
   ]
  },
  {
   "cell_type": "markdown",
   "metadata": {
    "colab_type": "text",
    "id": "F3hGGemr328d"
   },
   "source": [
    "### Describe Regression approach\n",
    "\n",
    "I think that square meters will be correlated with price just as the previous investigation.\n",
    "\n",
    "To guide my thinking, I will plot the results. yˆ=θ0+θ1x1+θ2x2+⋯+θnxn"
   ]
  },
  {
   "cell_type": "code",
   "execution_count": 0,
   "metadata": {
    "colab": {
     "base_uri": "https://localhost:8080/",
     "height": 539
    },
    "colab_type": "code",
    "id": "ANwM4ndp34VS",
    "outputId": "ea4c103a-08fc-4446-dc6c-7a399c3bec67"
   },
   "outputs": [
    {
     "data": {
      "text/plain": [
       "Text(0.5, 1.0, 'Scatter Plot of Square Meters and Price')"
      ]
     },
     "execution_count": 46,
     "metadata": {
      "tags": []
     },
     "output_type": "execute_result"
    },
    {
     "data": {
      "image/png": "[encoded data removed]",
      "text/plain": [
       "<Figure size 1152x576 with 1 Axes>"
      ]
     },
     "metadata": {
      "tags": []
     },
     "output_type": "display_data"
    }
   ],
   "source": [
    "fig, ax = plt.subplots(figsize=(16,8))\n",
    "ax = sns.scatterplot(x = 'square_meters', y = 'price', data = aus_df_filtered_v, s=60, alpha=0.5, color='royalblue')\n",
    "ax.set_xlabel('Square Meters', fontsize = 14)\n",
    "ax.set_ylabel('Price', fontsize = 14)\n",
    "ax.set_title('Scatter Plot of Square Meters and Price', fontsize=20)"
   ]
  },
  {
   "cell_type": "markdown",
   "metadata": {
    "colab_type": "text",
    "id": "IymwCj7U4k_5"
   },
   "source": [
    "### Fit a line with Sci-Kit Learn"
   ]
  },
  {
   "cell_type": "code",
   "execution_count": 0,
   "metadata": {
    "colab": {},
    "colab_type": "code",
    "id": "iaTuVSuM4rbb"
   },
   "outputs": [],
   "source": [
    "X_cols3 = ['square_meters']\n",
    "\n",
    "#Load the X data set\n",
    "X3 = aus_df_filtered_v[X_cols3].values\n",
    "\n",
    "#Initialize the data and column length variables\n",
    "data_length3 = len(aus_df_filtered_v)\n",
    "column_length3 = len(aus_df_filtered_v[X_cols3].columns)\n",
    "\n",
    "#Reshape and load remaining data sets\n",
    "X3 = X3.reshape(data_length3,column_length3)\n",
    "y3 = aus_df_filtered_v['price'].values\n",
    "y3 = y3.reshape(data_length3,1)\n",
    "\n",
    "#Split the data into training and testing sets\n",
    "X_train3, X_test3, y_train3, y_test3 = train_test_split(X3,y3)\n",
    "\n",
    "#Create the linear regression object and train/fit models\n",
    "lin_reg3 = LinearRegression()\n",
    "lin_reg3.fit(X_train3, y_train3)\n",
    "\n",
    "#Make predictions using the testing set\n",
    "listing_y_pred3 = lin_reg3.predict(X_test3)"
   ]
  },
  {
   "cell_type": "markdown",
   "metadata": {
    "colab_type": "text",
    "id": "kHLch3nw41ED"
   },
   "source": [
    "### Take the results from above and print out a few pieces of information"
   ]
  },
  {
   "cell_type": "code",
   "execution_count": 0,
   "metadata": {
    "colab": {
     "base_uri": "https://localhost:8080/",
     "height": 238
    },
    "colab_type": "code",
    "id": "yF3HVNw446p3",
    "outputId": "cc3a98a3-dbc7-4014-f6a3-6326359c382e"
   },
   "outputs": [
    {
     "name": "stdout",
     "output_type": "stream",
     "text": [
      "   y_prediction\n",
      "0    867.099503\n",
      "1    702.668813\n",
      "2    662.264973\n",
      "3    732.191769\n",
      "4    741.170400\n",
      "\n",
      "Intercept: 1137.2193327831667\n",
      "   square_meters\n",
      "0      -7.609009\n",
      "\n",
      "Mean Squared Error (MSE):213635.50\n",
      "Variance Score (R^2):-0.05\n"
     ]
    }
   ],
   "source": [
    "#Print a few predictions\n",
    "print((pd.DataFrame(listing_y_pred3, columns={'y_prediction'}).head(5)))\n",
    "print()\n",
    "\n",
    "#Print the intercept\n",
    "print('Intercept:', float(lin_reg3.intercept_))\n",
    "\n",
    "#Print the coefficient(s)\n",
    "coeff_df3 = pd.DataFrame(lin_reg3.coef_)\n",
    "coeff_df3.columns = X_cols3\n",
    "print(coeff_df3)\n",
    "print()\n",
    "\n",
    "#Performance Metric: Mean Squared Error\n",
    "print(\"Mean Squared Error (MSE):%.2f\" % mean_squared_error(y_test3, listing_y_pred3))\n",
    "\n",
    "# Explained variance score:\n",
    "print('Variance Score (R^2):%.2f' % r2_score(y_test3, listing_y_pred3))"
   ]
  },
  {
   "cell_type": "markdown",
   "metadata": {
    "colab_type": "text",
    "id": "4IU9m2nA6V_F"
   },
   "source": [
    "### Plot the graph using the results from Scikit-Learn"
   ]
  },
  {
   "cell_type": "code",
   "execution_count": 0,
   "metadata": {
    "colab": {
     "base_uri": "https://localhost:8080/",
     "height": 539
    },
    "colab_type": "code",
    "id": "61-iN2K96b5P",
    "outputId": "49aa09c1-bf3d-4250-898a-552bc1d8d070"
   },
   "outputs": [
    {
     "data": {
      "text/plain": [
       "Text(0.5, 1.0, 'Regression Analysis of Square Meters and Price')"
      ]
     },
     "execution_count": 49,
     "metadata": {
      "tags": []
     },
     "output_type": "execute_result"
    },
    {
     "data": {
      "image/png": "[encoded data removed]",
      "text/plain": [
       "<Figure size 1152x576 with 1 Axes>"
      ]
     },
     "metadata": {
      "tags": []
     },
     "output_type": "display_data"
    }
   ],
   "source": [
    "fig, ax = plt.subplots(figsize=(16,8))\n",
    "ax = sns.scatterplot(x = 'square_meters', y = 'price', data = aus_df_filtered_v, s=60, alpha=0.5, color='royalblue')\n",
    "plt.plot(X_test3, listing_y_pred3, color='darkorange')\n",
    "ax.set_xlabel('Square Meters', fontsize = 14)\n",
    "ax.set_ylabel('Price', fontsize = 14)\n",
    "ax.set_title('Regression Analysis of Square Meters and Price', fontsize=20)"
   ]
  },
  {
   "cell_type": "markdown",
   "metadata": {
    "colab_type": "text",
    "id": "aFLrFNZa62KK"
   },
   "source": [
    "## Intepret the results\n",
    "*   From this regression analysis, we can not conclude that the rental price for the house will become higher when the square meters increase.\n",
    "*   The trend of price is discrete, we cannot find any correlation between square meters and prices.\n"
   ]
  },
  {
   "cell_type": "markdown",
   "metadata": {
    "colab_type": "text",
    "id": "qGrInQBK64ZB"
   },
   "source": [
    "## How can this model be improved?\n",
    "*   The Variance Score of square meters and prices in TWEED SHIRE COUNCIL is only -0.06, which means that there is non correlation between square meters and prices.\n",
    "*   For this analysis, we cannot use linear regression approach. The result will be underfitted for sure. Maybe we can use cluster approach to get the  outcome."
   ]
  },
  {
   "cell_type": "markdown",
   "metadata": {
    "colab_type": "text",
    "id": "1Slel_vs9V1-"
   },
   "source": [
    "### Describe Regression approach \n",
    "\n",
    "Repeat the previous analysis with a few more variables"
   ]
  },
  {
   "cell_type": "code",
   "execution_count": 0,
   "metadata": {
    "colab": {},
    "colab_type": "code",
    "id": "HuUExPNs9VPf"
   },
   "outputs": [],
   "source": [
    "X_cols4 = ['square_meters', 'bathrooms', 'bedrooms']\n",
    "\n",
    "#Load the X data set\n",
    "X4 = aus_df_filtered_v[X_cols4].values\n",
    "\n",
    "#Initialize the data and column length variables\n",
    "data_length4 = len(aus_df_filtered_v)\n",
    "column_length4 = len(aus_df_filtered_v[X_cols4].columns)\n",
    "\n",
    "#Reshape and load remaining data sets\n",
    "X4 = X4.reshape(data_length4,column_length4)\n",
    "y4 = aus_df_filtered_v['price'].values\n",
    "y4 = y4.reshape(data_length4,1)\n",
    "\n",
    "#Split the data into training and testing sets\n",
    "X_train4, X_test4, y_train4, y_test4 = train_test_split(X4,y4)\n",
    "\n",
    "#Create the linear regression object and train/fit models\n",
    "lin_reg4= LinearRegression()\n",
    "lin_reg4.fit(X_train4, y_train4)\n",
    "\n",
    "#Make predictions using the testing set\n",
    "listing_y_pred4 = lin_reg4.predict(X_test4)"
   ]
  },
  {
   "cell_type": "markdown",
   "metadata": {
    "colab_type": "text",
    "id": "aV2hp6DLA1g6"
   },
   "source": [
    "### Take the results from above and print out a few pieces of information \n"
   ]
  },
  {
   "cell_type": "code",
   "execution_count": 0,
   "metadata": {
    "colab": {
     "base_uri": "https://localhost:8080/",
     "height": 238
    },
    "colab_type": "code",
    "id": "3zDXtRs0A98L",
    "outputId": "b0521f1d-30c6-4dbf-c813-5a6f9de9d13e"
   },
   "outputs": [
    {
     "name": "stdout",
     "output_type": "stream",
     "text": [
      "   y_prediction\n",
      "0    898.530768\n",
      "1    804.219393\n",
      "2    322.494406\n",
      "3    670.875877\n",
      "4    544.901437\n",
      "\n",
      "Intercept: 338.27329941524766\n",
      "   square_meters   bathrooms    bedrooms\n",
      "0      -8.664296  239.222238  108.298252\n",
      "\n",
      "Mean Squared Error (MSE):163531.26\n",
      "Variance Score (R^2):0.31\n"
     ]
    }
   ],
   "source": [
    "#Print a few predictions\n",
    "print((pd.DataFrame(listing_y_pred4, columns={'y_prediction'}).head(5)))\n",
    "print()\n",
    "\n",
    "#Print the intercept\n",
    "print('Intercept:', float(lin_reg4.intercept_))\n",
    "\n",
    "#Print the coefficient(s)\n",
    "coeff_df4 = pd.DataFrame(lin_reg4.coef_)\n",
    "coeff_df4.columns = X_cols4\n",
    "print(coeff_df4)\n",
    "print()\n",
    "\n",
    "#Performance Metric: Mean Squared Error\n",
    "print(\"Mean Squared Error (MSE):%.2f\" % mean_squared_error(y_test4, listing_y_pred4))\n",
    "\n",
    "# Explained variance score:\n",
    "print('Variance Score (R^2):%.2f' % r2_score(y_test4, listing_y_pred4))"
   ]
  },
  {
   "cell_type": "markdown",
   "metadata": {
    "colab_type": "text",
    "id": "dtQ6XllZBLK2"
   },
   "source": [
    "# Summary \n",
    "\n",
    "*   From the analysis above in TWEED SHIRE COUNCIL, when I add 'bathrooms' and 'bedrooms' variables into consideration, the variance score is still small, which means that there is only little correlation among them.\n",
    "*   We can not conclude that the rental price will be influenced by the factors of 'square meters', 'bathrooms', and 'bedrooms' in TWEED SHIRE COUNCIL. \n",
    "*   For the analysis in TWEED SHIRE COUNCIL, it's better to use non-linear approach to conduct the analysis. \n",
    "\n",
    "\n",
    "\n",
    "\n",
    "\n",
    "\n",
    "\n",
    "\n",
    "\n",
    "\n",
    "\n",
    "\n",
    "\n",
    "\n",
    "\n"
   ]
  },
  {
   "cell_type": "markdown",
   "metadata": {
    "colab_type": "text",
    "id": "-PtsutdyBUgt"
   },
   "source": [
    "# Additional regression approach II - BALLINA SHIRE COUNCIL\n",
    "\n",
    "I also want to investage the correlation between square meters and prices in BALLINA SHIRE COUNCIL. \n",
    "\n",
    "To find out if the result in BALLINA SHIRE COUNCIL\n",
    " will be similiar to the result in BYRON SHIRE COUNCIL or TWEED SHIRE COUNCIL. \n",
    "\n",
    "\n",
    "Perform light modifications: "
   ]
  },
  {
   "cell_type": "code",
   "execution_count": 0,
   "metadata": {
    "colab": {
     "base_uri": "https://localhost:8080/",
     "height": 204
    },
    "colab_type": "code",
    "id": "YnrE8GENCTOi",
    "outputId": "30180ead-4635-446c-d485-bd0e064bab62"
   },
   "outputs": [
    {
     "data": {
      "text/html": [
       "<div>\n",
       "<style scoped>\n",
       "    .dataframe tbody tr th:only-of-type {\n",
       "        vertical-align: middle;\n",
       "    }\n",
       "\n",
       "    .dataframe tbody tr th {\n",
       "        vertical-align: top;\n",
       "    }\n",
       "\n",
       "    .dataframe thead th {\n",
       "        text-align: right;\n",
       "    }\n",
       "</style>\n",
       "<table border=\"1\" class=\"dataframe\">\n",
       "  <thead>\n",
       "    <tr style=\"text-align: right;\">\n",
       "      <th></th>\n",
       "      <th>country</th>\n",
       "      <th>state</th>\n",
       "      <th>neighbourhood_cleansed</th>\n",
       "      <th>property_type</th>\n",
       "      <th>square_meters</th>\n",
       "      <th>price</th>\n",
       "      <th>room_type</th>\n",
       "      <th>bathrooms</th>\n",
       "      <th>bedrooms</th>\n",
       "      <th>beds</th>\n",
       "    </tr>\n",
       "  </thead>\n",
       "  <tbody>\n",
       "    <tr>\n",
       "      <th>30</th>\n",
       "      <td>Australia</td>\n",
       "      <td>NSW</td>\n",
       "      <td>BALLINA SHIRE COUNCIL</td>\n",
       "      <td>House</td>\n",
       "      <td>17.71</td>\n",
       "      <td>75.0</td>\n",
       "      <td>Entire home/apt</td>\n",
       "      <td>1.0</td>\n",
       "      <td>2.0</td>\n",
       "      <td>2.0</td>\n",
       "    </tr>\n",
       "    <tr>\n",
       "      <th>48</th>\n",
       "      <td>Australia</td>\n",
       "      <td>NSW</td>\n",
       "      <td>BALLINA SHIRE COUNCIL</td>\n",
       "      <td>House</td>\n",
       "      <td>20.28</td>\n",
       "      <td>89.0</td>\n",
       "      <td>Entire home/apt</td>\n",
       "      <td>1.0</td>\n",
       "      <td>1.0</td>\n",
       "      <td>1.0</td>\n",
       "    </tr>\n",
       "    <tr>\n",
       "      <th>51</th>\n",
       "      <td>Australia</td>\n",
       "      <td>NSW</td>\n",
       "      <td>BALLINA SHIRE COUNCIL</td>\n",
       "      <td>House</td>\n",
       "      <td>20.14</td>\n",
       "      <td>105.0</td>\n",
       "      <td>Entire home/apt</td>\n",
       "      <td>2.0</td>\n",
       "      <td>3.0</td>\n",
       "      <td>3.0</td>\n",
       "    </tr>\n",
       "    <tr>\n",
       "      <th>63</th>\n",
       "      <td>Australia</td>\n",
       "      <td>NSW</td>\n",
       "      <td>BALLINA SHIRE COUNCIL</td>\n",
       "      <td>House</td>\n",
       "      <td>21.43</td>\n",
       "      <td>136.0</td>\n",
       "      <td>Entire home/apt</td>\n",
       "      <td>1.0</td>\n",
       "      <td>1.0</td>\n",
       "      <td>1.0</td>\n",
       "    </tr>\n",
       "    <tr>\n",
       "      <th>78</th>\n",
       "      <td>Australia</td>\n",
       "      <td>NSW</td>\n",
       "      <td>BALLINA SHIRE COUNCIL</td>\n",
       "      <td>House</td>\n",
       "      <td>23.96</td>\n",
       "      <td>150.0</td>\n",
       "      <td>Entire home/apt</td>\n",
       "      <td>1.5</td>\n",
       "      <td>2.0</td>\n",
       "      <td>3.0</td>\n",
       "    </tr>\n",
       "  </tbody>\n",
       "</table>\n",
       "</div>"
      ],
      "text/plain": [
       "      country state neighbourhood_cleansed  ... bathrooms  bedrooms  beds\n",
       "30  Australia   NSW  BALLINA SHIRE COUNCIL  ...       1.0       2.0   2.0\n",
       "48  Australia   NSW  BALLINA SHIRE COUNCIL  ...       1.0       1.0   1.0\n",
       "51  Australia   NSW  BALLINA SHIRE COUNCIL  ...       2.0       3.0   3.0\n",
       "63  Australia   NSW  BALLINA SHIRE COUNCIL  ...       1.0       1.0   1.0\n",
       "78  Australia   NSW  BALLINA SHIRE COUNCIL  ...       1.5       2.0   3.0\n",
       "\n",
       "[5 rows x 10 columns]"
      ]
     },
     "execution_count": 52,
     "metadata": {
      "tags": []
     },
     "output_type": "execute_result"
    }
   ],
   "source": [
    "#Perform filters to focus on specific areas\n",
    "aus_df_filtered_v2 = aus_df_trimmed.loc[(aus_df_trimmed['neighbourhood_cleansed'].isin(['BALLINA SHIRE COUNCIL']))]\n",
    "aus_df_filtered_v2 = aus_df_filtered_v2.loc[(aus_df_filtered_v2['property_type'].isin(['House']))]\n",
    "aus_df_filtered_v2 = aus_df_filtered_v2.loc[(aus_df_filtered_v2['room_type'] == 'Entire home/apt')]\n",
    "\n",
    "#Drop incomplete cases (e.g., those cases where state is null)\n",
    "aus_df_filtered_v2 = aus_df_filtered_v2.dropna()\n",
    "\n",
    "# Show the filtered dataframe\n",
    "aus_df_filtered_v2.head(5)"
   ]
  },
  {
   "cell_type": "markdown",
   "metadata": {
    "colab_type": "text",
    "id": "WA9bkijTihbR"
   },
   "source": [
    "Column list:\n",
    "\n",
    "*   country - The country in which the listing resides.\n",
    "*   state - The state in which the listing resides.\n",
    "*   neighbourhood_cleansed - A modified version of the neighborhood that can be used for grouping, only 'BALLINA SHIRE COUNCIL' is included.\n",
    "*   property_type - The type of property that is being listed, only 'House' is included.\n",
    "*   square_meters - The area of the property that is being listed.\n",
    "*   price - The cost of the rental per night in USD.\n",
    "*   room_type - The type of room that is available for rent, only 'Entire home/apt' is included.\n",
    "*  bathrooms - The count of bathrooms available (e.g., 1, 2, 1.5).\n",
    "*  bedrooms - The count of bedrooms available (e.g., 0, 1, 2).\n",
    "*  beds - The count of beds available in the rental (e.g., 1, 2, 3)."
   ]
  },
  {
   "cell_type": "markdown",
   "metadata": {
    "colab_type": "text",
    "id": "t076oDczDYo1"
   },
   "source": [
    "### Describe quantitative variables"
   ]
  },
  {
   "cell_type": "code",
   "execution_count": 0,
   "metadata": {
    "colab": {
     "base_uri": "https://localhost:8080/",
     "height": 297
    },
    "colab_type": "code",
    "id": "IgiX1tWXDht4",
    "outputId": "219b66ef-5b42-4fbb-dd61-682214624606"
   },
   "outputs": [
    {
     "data": {
      "text/html": [
       "<div>\n",
       "<style scoped>\n",
       "    .dataframe tbody tr th:only-of-type {\n",
       "        vertical-align: middle;\n",
       "    }\n",
       "\n",
       "    .dataframe tbody tr th {\n",
       "        vertical-align: top;\n",
       "    }\n",
       "\n",
       "    .dataframe thead th {\n",
       "        text-align: right;\n",
       "    }\n",
       "</style>\n",
       "<table border=\"1\" class=\"dataframe\">\n",
       "  <thead>\n",
       "    <tr style=\"text-align: right;\">\n",
       "      <th></th>\n",
       "      <th>square_meters</th>\n",
       "      <th>price</th>\n",
       "      <th>bathrooms</th>\n",
       "      <th>bedrooms</th>\n",
       "      <th>beds</th>\n",
       "    </tr>\n",
       "  </thead>\n",
       "  <tbody>\n",
       "    <tr>\n",
       "      <th>count</th>\n",
       "      <td>184.000000</td>\n",
       "      <td>184.000000</td>\n",
       "      <td>184.000000</td>\n",
       "      <td>184.000000</td>\n",
       "      <td>184.000000</td>\n",
       "    </tr>\n",
       "    <tr>\n",
       "      <th>mean</th>\n",
       "      <td>38.382717</td>\n",
       "      <td>930.733696</td>\n",
       "      <td>2.043478</td>\n",
       "      <td>3.190217</td>\n",
       "      <td>4.157609</td>\n",
       "    </tr>\n",
       "    <tr>\n",
       "      <th>std</th>\n",
       "      <td>11.221598</td>\n",
       "      <td>675.741810</td>\n",
       "      <td>0.833559</td>\n",
       "      <td>1.215434</td>\n",
       "      <td>1.936745</td>\n",
       "    </tr>\n",
       "    <tr>\n",
       "      <th>min</th>\n",
       "      <td>17.710000</td>\n",
       "      <td>75.000000</td>\n",
       "      <td>1.000000</td>\n",
       "      <td>0.000000</td>\n",
       "      <td>1.000000</td>\n",
       "    </tr>\n",
       "    <tr>\n",
       "      <th>25%</th>\n",
       "      <td>28.752500</td>\n",
       "      <td>358.750000</td>\n",
       "      <td>1.500000</td>\n",
       "      <td>2.750000</td>\n",
       "      <td>3.000000</td>\n",
       "    </tr>\n",
       "    <tr>\n",
       "      <th>50%</th>\n",
       "      <td>37.585000</td>\n",
       "      <td>774.500000</td>\n",
       "      <td>2.000000</td>\n",
       "      <td>3.000000</td>\n",
       "      <td>4.000000</td>\n",
       "    </tr>\n",
       "    <tr>\n",
       "      <th>75%</th>\n",
       "      <td>48.217500</td>\n",
       "      <td>1430.250000</td>\n",
       "      <td>2.500000</td>\n",
       "      <td>4.000000</td>\n",
       "      <td>5.000000</td>\n",
       "    </tr>\n",
       "    <tr>\n",
       "      <th>max</th>\n",
       "      <td>66.190000</td>\n",
       "      <td>3418.000000</td>\n",
       "      <td>5.000000</td>\n",
       "      <td>7.000000</td>\n",
       "      <td>11.000000</td>\n",
       "    </tr>\n",
       "  </tbody>\n",
       "</table>\n",
       "</div>"
      ],
      "text/plain": [
       "       square_meters        price   bathrooms    bedrooms        beds\n",
       "count     184.000000   184.000000  184.000000  184.000000  184.000000\n",
       "mean       38.382717   930.733696    2.043478    3.190217    4.157609\n",
       "std        11.221598   675.741810    0.833559    1.215434    1.936745\n",
       "min        17.710000    75.000000    1.000000    0.000000    1.000000\n",
       "25%        28.752500   358.750000    1.500000    2.750000    3.000000\n",
       "50%        37.585000   774.500000    2.000000    3.000000    4.000000\n",
       "75%        48.217500  1430.250000    2.500000    4.000000    5.000000\n",
       "max        66.190000  3418.000000    5.000000    7.000000   11.000000"
      ]
     },
     "execution_count": 53,
     "metadata": {
      "tags": []
     },
     "output_type": "execute_result"
    }
   ],
   "source": [
    "aus_df_filtered_v2.describe()"
   ]
  },
  {
   "cell_type": "markdown",
   "metadata": {
    "colab_type": "text",
    "id": "Y_PzMBroDpmu"
   },
   "source": [
    "### Describe qualitative variables"
   ]
  },
  {
   "cell_type": "code",
   "execution_count": 0,
   "metadata": {
    "colab": {
     "base_uri": "https://localhost:8080/",
     "height": 173
    },
    "colab_type": "code",
    "id": "kjUXsPsUDuIA",
    "outputId": "fe301f55-de03-4c57-fbf0-eb342ddad422"
   },
   "outputs": [
    {
     "data": {
      "text/html": [
       "<div>\n",
       "<style scoped>\n",
       "    .dataframe tbody tr th:only-of-type {\n",
       "        vertical-align: middle;\n",
       "    }\n",
       "\n",
       "    .dataframe tbody tr th {\n",
       "        vertical-align: top;\n",
       "    }\n",
       "\n",
       "    .dataframe thead th {\n",
       "        text-align: right;\n",
       "    }\n",
       "</style>\n",
       "<table border=\"1\" class=\"dataframe\">\n",
       "  <thead>\n",
       "    <tr style=\"text-align: right;\">\n",
       "      <th></th>\n",
       "      <th>neighbourhood_cleansed</th>\n",
       "      <th>property_type</th>\n",
       "      <th>room_type</th>\n",
       "    </tr>\n",
       "  </thead>\n",
       "  <tbody>\n",
       "    <tr>\n",
       "      <th>count</th>\n",
       "      <td>184</td>\n",
       "      <td>184</td>\n",
       "      <td>184</td>\n",
       "    </tr>\n",
       "    <tr>\n",
       "      <th>unique</th>\n",
       "      <td>1</td>\n",
       "      <td>1</td>\n",
       "      <td>1</td>\n",
       "    </tr>\n",
       "    <tr>\n",
       "      <th>top</th>\n",
       "      <td>BALLINA SHIRE COUNCIL</td>\n",
       "      <td>House</td>\n",
       "      <td>Entire home/apt</td>\n",
       "    </tr>\n",
       "    <tr>\n",
       "      <th>freq</th>\n",
       "      <td>184</td>\n",
       "      <td>184</td>\n",
       "      <td>184</td>\n",
       "    </tr>\n",
       "  </tbody>\n",
       "</table>\n",
       "</div>"
      ],
      "text/plain": [
       "       neighbourhood_cleansed property_type        room_type\n",
       "count                     184           184              184\n",
       "unique                      1             1                1\n",
       "top     BALLINA SHIRE COUNCIL         House  Entire home/apt\n",
       "freq                      184           184              184"
      ]
     },
     "execution_count": 54,
     "metadata": {
      "tags": []
     },
     "output_type": "execute_result"
    }
   ],
   "source": [
    "aus_df_filtered_v2[['neighbourhood_cleansed','property_type', 'room_type']].describe()"
   ]
  },
  {
   "cell_type": "markdown",
   "metadata": {
    "colab_type": "text",
    "id": "fLRLSkfUD0Cy"
   },
   "source": [
    "### Describe Regression approach\n",
    "I think that square meters will be correlated with price just as the previous investigation.\n",
    "\n",
    "To guide my thinking, I will plot the results. yˆ=θ0+θ1x1+θ2x2+⋯+θnxn"
   ]
  },
  {
   "cell_type": "code",
   "execution_count": 0,
   "metadata": {
    "colab": {
     "base_uri": "https://localhost:8080/",
     "height": 539
    },
    "colab_type": "code",
    "id": "BmY39YQvD7oi",
    "outputId": "f99d03eb-4391-4277-c2cf-50fb3fd25772"
   },
   "outputs": [
    {
     "data": {
      "text/plain": [
       "Text(0.5, 1.0, 'Scatter Plot of Square Meters and Price')"
      ]
     },
     "execution_count": 55,
     "metadata": {
      "tags": []
     },
     "output_type": "execute_result"
    },
    {
     "data": {
      "image/png": "[encoded data removed]",
      "text/plain": [
       "<Figure size 1152x576 with 1 Axes>"
      ]
     },
     "metadata": {
      "tags": []
     },
     "output_type": "display_data"
    }
   ],
   "source": [
    "fig, ax = plt.subplots(figsize=(16,8))\n",
    "ax = sns.scatterplot(x = 'square_meters', y = 'price', data = aus_df_filtered_v2, s=60, alpha=0.5, color='royalblue')\n",
    "ax.set_xlabel('Square Meters', fontsize = 14)\n",
    "ax.set_ylabel('Price', fontsize = 14)\n",
    "ax.set_title('Scatter Plot of Square Meters and Price', fontsize=20)"
   ]
  },
  {
   "cell_type": "markdown",
   "metadata": {
    "colab_type": "text",
    "id": "Lw6KVEo7EEHV"
   },
   "source": [
    "### Fit a line with Sci-Kit Learn"
   ]
  },
  {
   "cell_type": "code",
   "execution_count": 0,
   "metadata": {
    "colab": {},
    "colab_type": "code",
    "id": "zlQZOuIkEF0y"
   },
   "outputs": [],
   "source": [
    "X_cols5 = ['square_meters']\n",
    "\n",
    "#Load the X data set\n",
    "X5 = aus_df_filtered_v2[X_cols5].values\n",
    "\n",
    "#Initialize the data and column length variables\n",
    "data_length5 = len(aus_df_filtered_v2)\n",
    "column_length5 = len(aus_df_filtered_v2[X_cols5].columns)\n",
    "\n",
    "#Reshape and load remaining data sets\n",
    "X5 = X5.reshape(data_length5,column_length5)\n",
    "y5 = aus_df_filtered_v2['price'].values\n",
    "y5 = y5.reshape(data_length5,1)\n",
    "\n",
    "#Split the data into training and testing sets\n",
    "X_train5, X_test5, y_train5, y_test5 = train_test_split(X5,y5)\n",
    "\n",
    "#Create the linear regression object and train/fit models\n",
    "lin_reg5 = LinearRegression()\n",
    "lin_reg5.fit(X_train5, y_train5)\n",
    "\n",
    "#Make predictions using the testing set\n",
    "listing_y_pred5 = lin_reg5.predict(X_test5)"
   ]
  },
  {
   "cell_type": "markdown",
   "metadata": {
    "colab_type": "text",
    "id": "9kk1ISV9i96D"
   },
   "source": [
    "### Take the results from above and print out a few pieces of information"
   ]
  },
  {
   "cell_type": "code",
   "execution_count": 0,
   "metadata": {
    "colab": {
     "base_uri": "https://localhost:8080/",
     "height": 238
    },
    "colab_type": "code",
    "id": "RHYsGGfLjBFS",
    "outputId": "1db0f5e1-387e-4572-dedc-b1050acd0208"
   },
   "outputs": [
    {
     "name": "stdout",
     "output_type": "stream",
     "text": [
      "   y_prediction\n",
      "0   1311.573876\n",
      "1    807.228953\n",
      "2   -123.379970\n",
      "3   1707.183885\n",
      "4    129.949246\n",
      "\n",
      "Intercept: -1287.0749066834655\n",
      "   square_meters\n",
      "0      57.837721\n",
      "\n",
      "Mean Squared Error (MSE):36291.78\n",
      "Variance Score (R^2):0.90\n"
     ]
    }
   ],
   "source": [
    "#Print a few predictions\n",
    "print((pd.DataFrame(listing_y_pred5, columns={'y_prediction'}).head(5)))\n",
    "print()\n",
    "\n",
    "#Print the intercept\n",
    "print('Intercept:', float(lin_reg5.intercept_))\n",
    "\n",
    "#Print the coefficient(s)\n",
    "coeff_df5 = pd.DataFrame(lin_reg5.coef_)\n",
    "coeff_df5.columns = X_cols5\n",
    "print(coeff_df5)\n",
    "print()\n",
    "\n",
    "#Performance Metric: Mean Squared Error\n",
    "print(\"Mean Squared Error (MSE):%.2f\" % mean_squared_error(y_test5, listing_y_pred5))\n",
    "\n",
    "# Explained variance score:\n",
    "print('Variance Score (R^2):%.2f' % r2_score(y_test5, listing_y_pred5))"
   ]
  },
  {
   "cell_type": "markdown",
   "metadata": {
    "colab_type": "text",
    "id": "M9qn04RQjyNw"
   },
   "source": [
    "### Plot the graph using the results from Scikit-Learn"
   ]
  },
  {
   "cell_type": "code",
   "execution_count": 0,
   "metadata": {
    "colab": {
     "base_uri": "https://localhost:8080/",
     "height": 539
    },
    "colab_type": "code",
    "id": "2q78lIs9j0qT",
    "outputId": "76ca1a3c-1bda-47e9-e1fe-3e1fda4d602d"
   },
   "outputs": [
    {
     "data": {
      "text/plain": [
       "Text(0.5, 1.0, 'Regression Analysis of Square Meters and Price')"
      ]
     },
     "execution_count": 58,
     "metadata": {
      "tags": []
     },
     "output_type": "execute_result"
    },
    {
     "data": {
      "image/png": "[encoded data removed]",
      "text/plain": [
       "<Figure size 1152x576 with 1 Axes>"
      ]
     },
     "metadata": {
      "tags": []
     },
     "output_type": "display_data"
    }
   ],
   "source": [
    "fig, ax = plt.subplots(figsize=(16,8))\n",
    "ax = sns.scatterplot(x = 'square_meters', y = 'price', data = aus_df_filtered_v2, s=60, alpha=0.5, color='royalblue')\n",
    "plt.plot(X_test5, listing_y_pred5, color='darkorange')\n",
    "ax.set_xlabel('Square Meters', fontsize = 14)\n",
    "ax.set_ylabel('Price', fontsize = 14)\n",
    "ax.set_title('Regression Analysis of Square Meters and Price', fontsize=20)"
   ]
  },
  {
   "cell_type": "markdown",
   "metadata": {
    "colab_type": "text",
    "id": "9BpQ4iy-kPQr"
   },
   "source": [
    "## Intepret the results\n",
    "\n",
    "*   From the regression analysis, we can conclude that the rental price for the house will become higher when the square meters increase.\n",
    "*   The price will not suddenly increase when the square meters increase, the price increasement trend is quite gentle.\n"
   ]
  },
  {
   "cell_type": "markdown",
   "metadata": {
    "colab_type": "text",
    "id": "viedfQ9GkXtp"
   },
   "source": [
    "## How can this model be improved?\n",
    "*   The Variance Score of square meters and prices in BALLINA SHIRE COUNCIL is 0.88, which means that there is a strong positive correlation between square meters and prices. \n",
    "*   I think linear regression approach is a good way for this analysis.\n"
   ]
  },
  {
   "cell_type": "markdown",
   "metadata": {
    "colab_type": "text",
    "id": "zFCb_yqrow67"
   },
   "source": [
    "### Describe Regression approach\n",
    "Repeat the previous analysis with a few more variables"
   ]
  },
  {
   "cell_type": "code",
   "execution_count": 0,
   "metadata": {
    "colab": {},
    "colab_type": "code",
    "id": "RKER8jNBoy1g"
   },
   "outputs": [],
   "source": [
    "X_cols6 = ['square_meters', 'bathrooms', 'bedrooms']\n",
    "\n",
    "#Load the X data set\n",
    "X6 = aus_df_filtered_v2[X_cols6].values\n",
    "\n",
    "#Initialize the data and column length variables\n",
    "data_length6 = len(aus_df_filtered_v2)\n",
    "column_length6 = len(aus_df_filtered_v2[X_cols6].columns)\n",
    "\n",
    "#Reshape and load remaining data sets\n",
    "X6 = X6.reshape(data_length6,column_length6)\n",
    "y6 = aus_df_filtered_v2['price'].values\n",
    "y6 = y6.reshape(data_length6,1)\n",
    "\n",
    "#Split the data into training and testing sets\n",
    "X_train6, X_test6, y_train6, y_test6 = train_test_split(X6,y6)\n",
    "\n",
    "#Create the linear regression object and train/fit models\n",
    "lin_reg6= LinearRegression()\n",
    "lin_reg6.fit(X_train6, y_train6)\n",
    "\n",
    "#Make predictions using the testing set\n",
    "listing_y_pred6 = lin_reg6.predict(X_test6)"
   ]
  },
  {
   "cell_type": "markdown",
   "metadata": {
    "colab_type": "text",
    "id": "P1Veb385peUD"
   },
   "source": [
    "### Take the results from above and print out a few pieces of information"
   ]
  },
  {
   "cell_type": "code",
   "execution_count": 0,
   "metadata": {
    "colab": {
     "base_uri": "https://localhost:8080/",
     "height": 238
    },
    "colab_type": "code",
    "id": "qlYxOA_kpowR",
    "outputId": "6fd0ccd3-bf47-44ae-fe1c-f0465bee50c8"
   },
   "outputs": [
    {
     "name": "stdout",
     "output_type": "stream",
     "text": [
      "   y_prediction\n",
      "0   1065.379146\n",
      "1   1403.818641\n",
      "2   1677.782939\n",
      "3    920.027316\n",
      "4    807.157829\n",
      "\n",
      "Intercept: -1313.6778054010408\n",
      "   square_meters  bathrooms   bedrooms\n",
      "0      54.115361  33.241987  32.173876\n",
      "\n",
      "Mean Squared Error (MSE):46558.16\n",
      "Variance Score (R^2):0.89\n"
     ]
    }
   ],
   "source": [
    "#Print a few predictions\n",
    "print((pd.DataFrame(listing_y_pred6, columns={'y_prediction'}).head(5)))\n",
    "print()\n",
    "\n",
    "#Print the intercept\n",
    "print('Intercept:', float(lin_reg6.intercept_))\n",
    "\n",
    "#Print the coefficient(s)\n",
    "coeff_df6 = pd.DataFrame(lin_reg6.coef_)\n",
    "coeff_df6.columns = X_cols6\n",
    "print(coeff_df6)\n",
    "print()\n",
    "\n",
    "#Performance Metric: Mean Squared Error\n",
    "print(\"Mean Squared Error (MSE):%.2f\" % mean_squared_error(y_test6, listing_y_pred6))\n",
    "\n",
    "# Explained variance score:\n",
    "print('Variance Score (R^2):%.2f' % r2_score(y_test6, listing_y_pred6))"
   ]
  },
  {
   "cell_type": "markdown",
   "metadata": {
    "colab_type": "text",
    "id": "Q7agmtRJfl6e"
   },
   "source": [
    "# Summary\n",
    "\n",
    "\n",
    "*   From the analysis above in BALLINA SHIRE COUNCIL, when I add 'bathrooms' and 'bedrooms' variables into consideration, the variance score have almost the same outcome as that of only 'square meters' variable.\n",
    "*   We can conclude that the rental price will be influenced by the factors of 'square meters', 'bathrooms', and 'bedrooms'. \n",
    "*   The relationship among 'price'and 'squares meters', 'bathrooms', 'bedrooms' is strongly positive. \n",
    "*   The mean squared error increased, which means that when I take more variables into consideration, my accuracy decrease. Using non-linear approach may lead to a more accurate outcome."
   ]
  },
  {
   "cell_type": "markdown",
   "metadata": {
    "colab_type": "text",
    "id": "xqjqeXQOzSke"
   },
   "source": [
    "# Conclusion\n",
    "\n",
    "\n",
    "\n",
    "### 1.   If I were going to rent a house...\n",
    "*   From the whole analysis, if I were going to rent a house, I would choose to live in BYRON SHIRE COUNCIL. The reason is that the data are ample, and the price trend is quite gentle. I believe it would be easier to find out my ideal house there, and the price range in the same square meters is not so huge, which I believe the quality of the house may be similiar.\n",
    "*   I would less likely to choose the house in Tweed Shire Council, the price there is hard to predict. There are many different prices in the same square meters houses, it would took me a lot of time to compare the diffence between them. I were also worried about if I choose the cheaper one, the house quality would be bad. Compare to the hosue in BYRON SHIRE COUNCIL, which is more predictable and the price tread is gentle, which I think would be easier for me to find out my ideal house. I also think that there are other uncertainly and unknown factors that influence the house price in Tweed Shire Council, which needs further investigation.\n",
    "*  I whould not choose to rent the house in BALLINA SHIRE COUNCIL either. The reason is that the data pool is not big, though the price trend is quite gentle, I still worried that the analysis is not accurate. If we can have more data of BALLINA SHIRE COUNCIL, it would be better, and the analysis outcome would be more convincing.\n",
    "\n",
    "\n",
    "### 2.   Linear Regression or Classification?\n",
    "*   For BYRON SHIRE COUNCIL, I think linear regression is enough for the prediction.\n",
    "*   For Tweed Shire Council, it's better using non-linear. Using linear regression will underfit the result.\n",
    "*   For BALLINA SHIRE COUNCIL, I think linear regression is ok... but the data set is too small, I cannot conclude that linear regression approach is enough for the analysis.\n",
    "\n",
    "\n",
    "\n",
    "\n",
    "\n",
    "\n",
    "\n",
    "\n"
   ]
  }
 ],
 "metadata": {
  "colab": {
   "collapsed_sections": [],
   "name": "ALY 6015 - SpringA 2020 - Kristy - Lecture #2 - RegressionAnalysis Colab.ipynb",
   "provenance": []
  },
  "kernelspec": {
   "display_name": "Python 3",
   "language": "python",
   "name": "python3"
  },
  "language_info": {
   "codemirror_mode": {
    "name": "ipython",
    "version": 3
   },
   "file_extension": ".py",
   "mimetype": "text/x-python",
   "name": "python",
   "nbconvert_exporter": "python",
   "pygments_lexer": "ipython3",
   "version": "3.7.4"
  }
 },
 "nbformat": 4,
 "nbformat_minor": 1
}
