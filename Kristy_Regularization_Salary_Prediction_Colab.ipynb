{
  "nbformat": 4,
  "nbformat_minor": 0,
  "metadata": {
    "colab": {
      "name": "Kristy - Regularization - Salary Prediction Colab.ipynb",
      "provenance": [],
      "collapsed_sections": [],
      "authorship_tag": "ABX9TyOkQ8EtwrVw0GP+bGVSxfwM",
      "include_colab_link": true
    },
    "kernelspec": {
      "name": "python3",
      "display_name": "Python 3"
    }
  },
  "cells": [
    {
      "cell_type": "markdown",
      "metadata": {
        "id": "view-in-github",
        "colab_type": "text"
      },
      "source": [
        "<a href=\"https://colab.research.google.com/github/Kristyyy/Machine-Learning-Project/blob/master/Kristy_Regularization_Salary_Prediction_Colab.ipynb\" target=\"_parent\"><img src=\"https://colab.research.google.com/assets/colab-badge.svg\" alt=\"Open In Colab\"/></a>"
      ]
    },
    {
      "cell_type": "markdown",
      "metadata": {
        "id": "748UUDcOVNBH",
        "colab_type": "text"
      },
      "source": [
        "## Author: Fang Jung(Kristy) Lin \n",
        "## Purpose: Regularization Analysis - predict salaries for a sports player\n"
      ]
    },
    {
      "cell_type": "markdown",
      "metadata": {
        "id": "YwDtR6_tVOGw",
        "colab_type": "text"
      },
      "source": [
        "# Import necessary packages"
      ]
    },
    {
      "cell_type": "code",
      "metadata": {
        "id": "cmXK2KS8V3Yo",
        "colab_type": "code",
        "outputId": "1dd7a6ec-a5e9-4462-df26-06811b9668af",
        "colab": {
          "base_uri": "https://localhost:8080/",
          "height": 71
        }
      },
      "source": [
        "import numpy as np\n",
        "import pandas as pd\n",
        "import random\n",
        "import os\n",
        "\n",
        "from matplotlib import pyplot as plt\n",
        "import pylab as pl\n",
        "from matplotlib.ticker import PercentFormatter\n",
        "from pylab import rcParams\n",
        "import seaborn as sns\n",
        "\n",
        "import statsmodels.api as sm\n",
        "from sklearn import datasets\n",
        "from sklearn.preprocessing import LabelEncoder\n",
        "from sklearn.feature_selection import RFE\n",
        "from sklearn.linear_model import LogisticRegression\n",
        "from sklearn.linear_model import LassoCV, LassoLarsCV, LassoLarsIC\n",
        "from sklearn.model_selection import train_test_split\n",
        "from sklearn.linear_model import LinearRegression\n",
        "from sklearn.metrics import mean_squared_error\n",
        "from sklearn import linear_model\n",
        "from sklearn.linear_model import Ridge, RidgeCV\n",
        "from sklearn.linear_model import Lasso\n",
        "from sklearn.metrics import mean_squared_error, r2_score\n",
        "from sklearn.preprocessing import scale "
      ],
      "execution_count": 0,
      "outputs": [
        {
          "output_type": "stream",
          "text": [
            "/usr/local/lib/python3.6/dist-packages/statsmodels/tools/_testing.py:19: FutureWarning: pandas.util.testing is deprecated. Use the functions in the public API at pandas.testing instead.\n",
            "  import pandas.util.testing as tm\n"
          ],
          "name": "stderr"
        }
      ]
    },
    {
      "cell_type": "markdown",
      "metadata": {
        "id": "GjmsLGCZVOOx",
        "colab_type": "text"
      },
      "source": [
        "# Purpose for the analysis"
      ]
    },
    {
      "cell_type": "markdown",
      "metadata": {
        "id": "M0xfaL-NV7-C",
        "colab_type": "text"
      },
      "source": [
        "*   Use regularization to predict salaries for a sports player\n",
        "\n",
        "*   Explain the output of the regularized models"
      ]
    },
    {
      "cell_type": "markdown",
      "metadata": {
        "id": "XQwabOilV9xC",
        "colab_type": "text"
      },
      "source": [
        "# Part1. Data Acquisition and Exploration"
      ]
    },
    {
      "cell_type": "markdown",
      "metadata": {
        "id": "vQzwnGKSVOXY",
        "colab_type": "text"
      },
      "source": [
        "### Data Acquisition\n",
        "\n",
        "The actual path to downloadable CSV is: https://docs.google.com/spreadsheets/d/e/2PACX-1vQnCBYTMPacq9vBxr8TI50srTuTcOEskudR6ByImXpEcs9rSm7fpxIhpw8u9LnRDkvfBPJoC4sT--TN/pub?gid=34632086&single=true&output=csv\n",
        "\n",
        "Read data from Google sheet and explore the data frame"
      ]
    },
    {
      "cell_type": "code",
      "metadata": {
        "id": "ebpL6HHJU5K2",
        "colab_type": "code",
        "outputId": "e4d81a46-2f6b-42cf-8a65-fa4a697a2b9a",
        "colab": {
          "base_uri": "https://localhost:8080/",
          "height": 162
        }
      },
      "source": [
        "data_path = 'https://docs.google.com/spreadsheets/d/e/2PACX-1vQnCBYTMPacq9vBxr8TI50srTuTcOEskudR6ByImXpEcs9rSm7fpxIhpw8u9LnRDkvfBPJoC4sT--TN/pub?gid=34632086&single=true&output=csv'\n",
        "my_df = pd.read_csv(data_path)\n",
        "\n",
        "my_df.head(3)"
      ],
      "execution_count": 0,
      "outputs": [
        {
          "output_type": "execute_result",
          "data": {
            "text/html": [
              "<div>\n",
              "<style scoped>\n",
              "    .dataframe tbody tr th:only-of-type {\n",
              "        vertical-align: middle;\n",
              "    }\n",
              "\n",
              "    .dataframe tbody tr th {\n",
              "        vertical-align: top;\n",
              "    }\n",
              "\n",
              "    .dataframe thead th {\n",
              "        text-align: right;\n",
              "    }\n",
              "</style>\n",
              "<table border=\"1\" class=\"dataframe\">\n",
              "  <thead>\n",
              "    <tr style=\"text-align: right;\">\n",
              "      <th></th>\n",
              "      <th>Salary</th>\n",
              "      <th>count_at_bats</th>\n",
              "      <th>count_hits</th>\n",
              "      <th>count_home_runs</th>\n",
              "      <th>count_runs</th>\n",
              "      <th>RBI</th>\n",
              "      <th>count_walks</th>\n",
              "      <th>years_experience</th>\n",
              "      <th>cumulative_at_bats</th>\n",
              "      <th>cumulative_hits</th>\n",
              "      <th>cumulative_home_runs</th>\n",
              "      <th>cumulative_runs</th>\n",
              "      <th>cumulative_RBI</th>\n",
              "      <th>cumulative_walks</th>\n",
              "      <th>League</th>\n",
              "      <th>Division</th>\n",
              "      <th>PutOuts</th>\n",
              "      <th>Assists</th>\n",
              "      <th>Errors</th>\n",
              "      <th>NewLeague</th>\n",
              "    </tr>\n",
              "  </thead>\n",
              "  <tbody>\n",
              "    <tr>\n",
              "      <th>0</th>\n",
              "      <td>875000</td>\n",
              "      <td>457</td>\n",
              "      <td>101</td>\n",
              "      <td>14</td>\n",
              "      <td>42</td>\n",
              "      <td>63</td>\n",
              "      <td>22</td>\n",
              "      <td>17</td>\n",
              "      <td>6521</td>\n",
              "      <td>1767</td>\n",
              "      <td>281</td>\n",
              "      <td>1003</td>\n",
              "      <td>977</td>\n",
              "      <td>619</td>\n",
              "      <td>A</td>\n",
              "      <td>W</td>\n",
              "      <td>389</td>\n",
              "      <td>39</td>\n",
              "      <td>4</td>\n",
              "      <td>A</td>\n",
              "    </tr>\n",
              "    <tr>\n",
              "      <th>1</th>\n",
              "      <td>1300000</td>\n",
              "      <td>441</td>\n",
              "      <td>118</td>\n",
              "      <td>28</td>\n",
              "      <td>84</td>\n",
              "      <td>86</td>\n",
              "      <td>68</td>\n",
              "      <td>8</td>\n",
              "      <td>2723</td>\n",
              "      <td>750</td>\n",
              "      <td>126</td>\n",
              "      <td>433</td>\n",
              "      <td>420</td>\n",
              "      <td>309</td>\n",
              "      <td>A</td>\n",
              "      <td>E</td>\n",
              "      <td>190</td>\n",
              "      <td>2</td>\n",
              "      <td>2</td>\n",
              "      <td>A</td>\n",
              "    </tr>\n",
              "    <tr>\n",
              "      <th>2</th>\n",
              "      <td>940000</td>\n",
              "      <td>593</td>\n",
              "      <td>152</td>\n",
              "      <td>23</td>\n",
              "      <td>69</td>\n",
              "      <td>75</td>\n",
              "      <td>53</td>\n",
              "      <td>6</td>\n",
              "      <td>2765</td>\n",
              "      <td>686</td>\n",
              "      <td>133</td>\n",
              "      <td>369</td>\n",
              "      <td>384</td>\n",
              "      <td>321</td>\n",
              "      <td>A</td>\n",
              "      <td>W</td>\n",
              "      <td>315</td>\n",
              "      <td>10</td>\n",
              "      <td>6</td>\n",
              "      <td>A</td>\n",
              "    </tr>\n",
              "  </tbody>\n",
              "</table>\n",
              "</div>"
            ],
            "text/plain": [
              "    Salary  count_at_bats  count_hits  ...  Assists  Errors  NewLeague\n",
              "0   875000            457         101  ...       39       4          A\n",
              "1  1300000            441         118  ...        2       2          A\n",
              "2   940000            593         152  ...       10       6          A\n",
              "\n",
              "[3 rows x 20 columns]"
            ]
          },
          "metadata": {
            "tags": []
          },
          "execution_count": 2
        }
      ]
    },
    {
      "cell_type": "markdown",
      "metadata": {
        "id": "hbm_zoeXAcLm",
        "colab_type": "text"
      },
      "source": [
        "### Interpret the data"
      ]
    },
    {
      "cell_type": "code",
      "metadata": {
        "id": "rMethe31WSfP",
        "colab_type": "code",
        "outputId": "cd97891a-0441-4e30-d8e6-1869f564d87e",
        "colab": {
          "base_uri": "https://localhost:8080/",
          "height": 357
        }
      },
      "source": [
        "list(my_df)"
      ],
      "execution_count": 0,
      "outputs": [
        {
          "output_type": "execute_result",
          "data": {
            "text/plain": [
              "['Salary',\n",
              " 'count_at_bats',\n",
              " 'count_hits',\n",
              " 'count_home_runs',\n",
              " 'count_runs',\n",
              " 'RBI',\n",
              " 'count_walks',\n",
              " 'years_experience',\n",
              " 'cumulative_at_bats',\n",
              " 'cumulative_hits',\n",
              " 'cumulative_home_runs',\n",
              " 'cumulative_runs',\n",
              " 'cumulative_RBI',\n",
              " 'cumulative_walks',\n",
              " 'League',\n",
              " 'Division',\n",
              " 'PutOuts',\n",
              " 'Assists',\n",
              " 'Errors',\n",
              " 'NewLeague']"
            ]
          },
          "metadata": {
            "tags": []
          },
          "execution_count": 3
        }
      ]
    },
    {
      "cell_type": "markdown",
      "metadata": {
        "id": "lrlDmQd1BoqP",
        "colab_type": "text"
      },
      "source": [
        "Data interpretion\n",
        "\n",
        "*   Salary: salary of the player\n",
        "*   count_at_bats: the count number of bats\n",
        "*   count_hits: the count number of hits\n",
        "*   count_home_runs: the count number of home runs\n",
        "*   count_runs: the count number of runs\n",
        "*   RBI: credits a batter for making a play that allows a run to be scored\n",
        "*   count_walks: the count number of walks\n",
        "*   years_experience: years spend in the field\n",
        "*   cumulative_at_bats: cumulative number of bats\n",
        "*   cumulative_hits: cumulative number of hits\n",
        "*   cumulative_home_runs: cumulative number of home runs\n",
        "*   cumulative_runs: cumulative number of runs\n",
        "*   cumulative_RBI: cumulative number of RBI\n",
        "*   cumulative_walks: cumulative number of walks\n",
        "*   League: which league is player in\n",
        "*   Division: the division of the league\n",
        "*   PutOuts: the number count of a player tagging a runner with the ball when he is not touching a base\n",
        "*   Assists: the number count of a player who touches the ball before a putout is recorded by another fielder\n",
        "*   Errors: the number count of a player who misplay a ball\n",
        "*   NewLeague: new league of a player"
      ]
    },
    {
      "cell_type": "markdown",
      "metadata": {
        "id": "nof95a_2IcaD",
        "colab_type": "text"
      },
      "source": [
        "### Data Preprocessing\n",
        "\n",
        "Check both the datatypes and if there are missing values"
      ]
    },
    {
      "cell_type": "code",
      "metadata": {
        "id": "aAfJJ4p3AhlT",
        "colab_type": "code",
        "outputId": "f2d8ae65-0fa9-4437-975e-864d42f6a4b5",
        "colab": {
          "base_uri": "https://localhost:8080/",
          "height": 765
        }
      },
      "source": [
        "print('Datatype:\\n', my_df.dtypes)\n",
        "print('Missing values:\\n', my_df.isnull().any())"
      ],
      "execution_count": 0,
      "outputs": [
        {
          "output_type": "stream",
          "text": [
            "Datatype:\n",
            " Salary                   int64\n",
            "count_at_bats            int64\n",
            "count_hits               int64\n",
            "count_home_runs          int64\n",
            "count_runs               int64\n",
            "RBI                      int64\n",
            "count_walks              int64\n",
            "years_experience         int64\n",
            "cumulative_at_bats       int64\n",
            "cumulative_hits          int64\n",
            "cumulative_home_runs     int64\n",
            "cumulative_runs          int64\n",
            "cumulative_RBI           int64\n",
            "cumulative_walks         int64\n",
            "League                  object\n",
            "Division                object\n",
            "PutOuts                  int64\n",
            "Assists                  int64\n",
            "Errors                   int64\n",
            "NewLeague               object\n",
            "dtype: object\n",
            "Missing values:\n",
            " Salary                  False\n",
            "count_at_bats           False\n",
            "count_hits              False\n",
            "count_home_runs         False\n",
            "count_runs              False\n",
            "RBI                     False\n",
            "count_walks             False\n",
            "years_experience        False\n",
            "cumulative_at_bats      False\n",
            "cumulative_hits         False\n",
            "cumulative_home_runs    False\n",
            "cumulative_runs         False\n",
            "cumulative_RBI          False\n",
            "cumulative_walks        False\n",
            "League                  False\n",
            "Division                False\n",
            "PutOuts                 False\n",
            "Assists                 False\n",
            "Errors                  False\n",
            "NewLeague               False\n",
            "dtype: bool\n"
          ],
          "name": "stdout"
        }
      ]
    },
    {
      "cell_type": "markdown",
      "metadata": {
        "id": "Q5npgTgOI6rB",
        "colab_type": "text"
      },
      "source": [
        "### Explore the data set"
      ]
    },
    {
      "cell_type": "code",
      "metadata": {
        "id": "trcib8rfIhOG",
        "colab_type": "code",
        "outputId": "ab7ed71e-e25a-4ac7-a103-a3b099852e2e",
        "colab": {
          "base_uri": "https://localhost:8080/",
          "height": 317
        }
      },
      "source": [
        "my_df.describe().round(3)"
      ],
      "execution_count": 0,
      "outputs": [
        {
          "output_type": "execute_result",
          "data": {
            "text/html": [
              "<div>\n",
              "<style scoped>\n",
              "    .dataframe tbody tr th:only-of-type {\n",
              "        vertical-align: middle;\n",
              "    }\n",
              "\n",
              "    .dataframe tbody tr th {\n",
              "        vertical-align: top;\n",
              "    }\n",
              "\n",
              "    .dataframe thead th {\n",
              "        text-align: right;\n",
              "    }\n",
              "</style>\n",
              "<table border=\"1\" class=\"dataframe\">\n",
              "  <thead>\n",
              "    <tr style=\"text-align: right;\">\n",
              "      <th></th>\n",
              "      <th>Salary</th>\n",
              "      <th>count_at_bats</th>\n",
              "      <th>count_hits</th>\n",
              "      <th>count_home_runs</th>\n",
              "      <th>count_runs</th>\n",
              "      <th>RBI</th>\n",
              "      <th>count_walks</th>\n",
              "      <th>years_experience</th>\n",
              "      <th>cumulative_at_bats</th>\n",
              "      <th>cumulative_hits</th>\n",
              "      <th>cumulative_home_runs</th>\n",
              "      <th>cumulative_runs</th>\n",
              "      <th>cumulative_RBI</th>\n",
              "      <th>cumulative_walks</th>\n",
              "      <th>PutOuts</th>\n",
              "      <th>Assists</th>\n",
              "      <th>Errors</th>\n",
              "    </tr>\n",
              "  </thead>\n",
              "  <tbody>\n",
              "    <tr>\n",
              "      <th>count</th>\n",
              "      <td>243.000</td>\n",
              "      <td>243.000</td>\n",
              "      <td>243.000</td>\n",
              "      <td>243.000</td>\n",
              "      <td>243.000</td>\n",
              "      <td>243.000</td>\n",
              "      <td>243.000</td>\n",
              "      <td>243.000</td>\n",
              "      <td>243.000</td>\n",
              "      <td>243.000</td>\n",
              "      <td>243.000</td>\n",
              "      <td>243.000</td>\n",
              "      <td>243.000</td>\n",
              "      <td>243.000</td>\n",
              "      <td>243.000</td>\n",
              "      <td>243.000</td>\n",
              "      <td>243.000</td>\n",
              "    </tr>\n",
              "    <tr>\n",
              "      <th>mean</th>\n",
              "      <td>396485.597</td>\n",
              "      <td>377.621</td>\n",
              "      <td>99.975</td>\n",
              "      <td>10.667</td>\n",
              "      <td>50.123</td>\n",
              "      <td>47.362</td>\n",
              "      <td>38.115</td>\n",
              "      <td>7.473</td>\n",
              "      <td>2654.498</td>\n",
              "      <td>717.704</td>\n",
              "      <td>71.831</td>\n",
              "      <td>362.062</td>\n",
              "      <td>332.070</td>\n",
              "      <td>263.712</td>\n",
              "      <td>284.263</td>\n",
              "      <td>102.782</td>\n",
              "      <td>7.630</td>\n",
              "    </tr>\n",
              "    <tr>\n",
              "      <th>std</th>\n",
              "      <td>420524.106</td>\n",
              "      <td>151.222</td>\n",
              "      <td>45.997</td>\n",
              "      <td>8.450</td>\n",
              "      <td>25.186</td>\n",
              "      <td>25.643</td>\n",
              "      <td>21.239</td>\n",
              "      <td>5.018</td>\n",
              "      <td>2344.518</td>\n",
              "      <td>657.431</td>\n",
              "      <td>88.616</td>\n",
              "      <td>337.841</td>\n",
              "      <td>333.997</td>\n",
              "      <td>277.955</td>\n",
              "      <td>275.127</td>\n",
              "      <td>134.263</td>\n",
              "      <td>6.245</td>\n",
              "    </tr>\n",
              "    <tr>\n",
              "      <th>min</th>\n",
              "      <td>0.000</td>\n",
              "      <td>16.000</td>\n",
              "      <td>2.000</td>\n",
              "      <td>0.000</td>\n",
              "      <td>1.000</td>\n",
              "      <td>0.000</td>\n",
              "      <td>0.000</td>\n",
              "      <td>1.000</td>\n",
              "      <td>19.000</td>\n",
              "      <td>4.000</td>\n",
              "      <td>0.000</td>\n",
              "      <td>1.000</td>\n",
              "      <td>0.000</td>\n",
              "      <td>0.000</td>\n",
              "      <td>0.000</td>\n",
              "      <td>0.000</td>\n",
              "      <td>0.000</td>\n",
              "    </tr>\n",
              "    <tr>\n",
              "      <th>25%</th>\n",
              "      <td>70000.000</td>\n",
              "      <td>255.500</td>\n",
              "      <td>64.000</td>\n",
              "      <td>4.000</td>\n",
              "      <td>31.000</td>\n",
              "      <td>29.000</td>\n",
              "      <td>22.000</td>\n",
              "      <td>4.000</td>\n",
              "      <td>826.500</td>\n",
              "      <td>209.500</td>\n",
              "      <td>14.000</td>\n",
              "      <td>100.500</td>\n",
              "      <td>91.500</td>\n",
              "      <td>66.500</td>\n",
              "      <td>113.500</td>\n",
              "      <td>6.500</td>\n",
              "      <td>3.000</td>\n",
              "    </tr>\n",
              "    <tr>\n",
              "      <th>50%</th>\n",
              "      <td>250000.000</td>\n",
              "      <td>360.000</td>\n",
              "      <td>95.000</td>\n",
              "      <td>8.000</td>\n",
              "      <td>48.000</td>\n",
              "      <td>44.000</td>\n",
              "      <td>34.000</td>\n",
              "      <td>6.000</td>\n",
              "      <td>1931.000</td>\n",
              "      <td>510.000</td>\n",
              "      <td>39.000</td>\n",
              "      <td>258.000</td>\n",
              "      <td>230.000</td>\n",
              "      <td>174.000</td>\n",
              "      <td>211.000</td>\n",
              "      <td>33.000</td>\n",
              "      <td>6.000</td>\n",
              "    </tr>\n",
              "    <tr>\n",
              "      <th>75%</th>\n",
              "      <td>666500.000</td>\n",
              "      <td>511.000</td>\n",
              "      <td>136.000</td>\n",
              "      <td>16.000</td>\n",
              "      <td>68.500</td>\n",
              "      <td>63.500</td>\n",
              "      <td>52.000</td>\n",
              "      <td>11.000</td>\n",
              "      <td>3890.500</td>\n",
              "      <td>1037.500</td>\n",
              "      <td>93.000</td>\n",
              "      <td>523.500</td>\n",
              "      <td>424.500</td>\n",
              "      <td>329.500</td>\n",
              "      <td>322.500</td>\n",
              "      <td>151.500</td>\n",
              "      <td>10.000</td>\n",
              "    </tr>\n",
              "    <tr>\n",
              "      <th>max</th>\n",
              "      <td>1975000.000</td>\n",
              "      <td>687.000</td>\n",
              "      <td>238.000</td>\n",
              "      <td>40.000</td>\n",
              "      <td>117.000</td>\n",
              "      <td>121.000</td>\n",
              "      <td>105.000</td>\n",
              "      <td>24.000</td>\n",
              "      <td>14053.000</td>\n",
              "      <td>4256.000</td>\n",
              "      <td>548.000</td>\n",
              "      <td>2165.000</td>\n",
              "      <td>1659.000</td>\n",
              "      <td>1566.000</td>\n",
              "      <td>1378.000</td>\n",
              "      <td>492.000</td>\n",
              "      <td>32.000</td>\n",
              "    </tr>\n",
              "  </tbody>\n",
              "</table>\n",
              "</div>"
            ],
            "text/plain": [
              "            Salary  count_at_bats  count_hits  ...   PutOuts  Assists   Errors\n",
              "count      243.000        243.000     243.000  ...   243.000  243.000  243.000\n",
              "mean    396485.597        377.621      99.975  ...   284.263  102.782    7.630\n",
              "std     420524.106        151.222      45.997  ...   275.127  134.263    6.245\n",
              "min          0.000         16.000       2.000  ...     0.000    0.000    0.000\n",
              "25%      70000.000        255.500      64.000  ...   113.500    6.500    3.000\n",
              "50%     250000.000        360.000      95.000  ...   211.000   33.000    6.000\n",
              "75%     666500.000        511.000     136.000  ...   322.500  151.500   10.000\n",
              "max    1975000.000        687.000     238.000  ...  1378.000  492.000   32.000\n",
              "\n",
              "[8 rows x 17 columns]"
            ]
          },
          "metadata": {
            "tags": []
          },
          "execution_count": 5
        }
      ]
    },
    {
      "cell_type": "markdown",
      "metadata": {
        "id": "wydHK8fTKpI5",
        "colab_type": "text"
      },
      "source": [
        "From the table above, we can get some information.\n",
        "\n",
        "* The average salary of the player is 396k.\n",
        "\n",
        "*  The standard deviation of the salary is huge, which means that the salary range is quite huge.\n",
        "\n",
        "*  The min salary is 0, which we need further exploration\n"
      ]
    },
    {
      "cell_type": "markdown",
      "metadata": {
        "id": "a600j7PXVgd-",
        "colab_type": "text"
      },
      "source": [
        "### Explore the data with salary equals to zero"
      ]
    },
    {
      "cell_type": "code",
      "metadata": {
        "id": "ohVWARYAVlov",
        "colab_type": "code",
        "outputId": "49d5ffa3-e10b-4df5-ce3d-da6bb447ddd1",
        "colab": {
          "base_uri": "https://localhost:8080/",
          "height": 317
        }
      },
      "source": [
        "sal_df = my_df[my_df['Salary'] ==0]\n",
        "sal_df.describe().round(3)"
      ],
      "execution_count": 0,
      "outputs": [
        {
          "output_type": "execute_result",
          "data": {
            "text/html": [
              "<div>\n",
              "<style scoped>\n",
              "    .dataframe tbody tr th:only-of-type {\n",
              "        vertical-align: middle;\n",
              "    }\n",
              "\n",
              "    .dataframe tbody tr th {\n",
              "        vertical-align: top;\n",
              "    }\n",
              "\n",
              "    .dataframe thead th {\n",
              "        text-align: right;\n",
              "    }\n",
              "</style>\n",
              "<table border=\"1\" class=\"dataframe\">\n",
              "  <thead>\n",
              "    <tr style=\"text-align: right;\">\n",
              "      <th></th>\n",
              "      <th>Salary</th>\n",
              "      <th>count_at_bats</th>\n",
              "      <th>count_hits</th>\n",
              "      <th>count_home_runs</th>\n",
              "      <th>count_runs</th>\n",
              "      <th>RBI</th>\n",
              "      <th>count_walks</th>\n",
              "      <th>years_experience</th>\n",
              "      <th>cumulative_at_bats</th>\n",
              "      <th>cumulative_hits</th>\n",
              "      <th>cumulative_home_runs</th>\n",
              "      <th>cumulative_runs</th>\n",
              "      <th>cumulative_RBI</th>\n",
              "      <th>cumulative_walks</th>\n",
              "      <th>PutOuts</th>\n",
              "      <th>Assists</th>\n",
              "      <th>Errors</th>\n",
              "    </tr>\n",
              "  </thead>\n",
              "  <tbody>\n",
              "    <tr>\n",
              "      <th>count</th>\n",
              "      <td>59.0</td>\n",
              "      <td>59.000</td>\n",
              "      <td>59.000</td>\n",
              "      <td>59.000</td>\n",
              "      <td>59.000</td>\n",
              "      <td>59.000</td>\n",
              "      <td>59.000</td>\n",
              "      <td>59.000</td>\n",
              "      <td>59.000</td>\n",
              "      <td>59.0</td>\n",
              "      <td>59.00</td>\n",
              "      <td>59.000</td>\n",
              "      <td>59.000</td>\n",
              "      <td>59.000</td>\n",
              "      <td>59.000</td>\n",
              "      <td>59.000</td>\n",
              "      <td>59.000</td>\n",
              "    </tr>\n",
              "    <tr>\n",
              "      <th>mean</th>\n",
              "      <td>0.0</td>\n",
              "      <td>279.678</td>\n",
              "      <td>70.695</td>\n",
              "      <td>6.983</td>\n",
              "      <td>33.814</td>\n",
              "      <td>32.610</td>\n",
              "      <td>28.169</td>\n",
              "      <td>8.034</td>\n",
              "      <td>2609.186</td>\n",
              "      <td>697.0</td>\n",
              "      <td>70.61</td>\n",
              "      <td>347.983</td>\n",
              "      <td>328.780</td>\n",
              "      <td>260.119</td>\n",
              "      <td>281.034</td>\n",
              "      <td>54.102</td>\n",
              "      <td>5.576</td>\n",
              "    </tr>\n",
              "    <tr>\n",
              "      <th>std</th>\n",
              "      <td>0.0</td>\n",
              "      <td>139.478</td>\n",
              "      <td>39.994</td>\n",
              "      <td>7.450</td>\n",
              "      <td>20.921</td>\n",
              "      <td>21.617</td>\n",
              "      <td>17.936</td>\n",
              "      <td>5.483</td>\n",
              "      <td>2505.342</td>\n",
              "      <td>687.1</td>\n",
              "      <td>103.27</td>\n",
              "      <td>349.490</td>\n",
              "      <td>377.052</td>\n",
              "      <td>282.405</td>\n",
              "      <td>286.402</td>\n",
              "      <td>71.432</td>\n",
              "      <td>4.442</td>\n",
              "    </tr>\n",
              "    <tr>\n",
              "      <th>min</th>\n",
              "      <td>0.0</td>\n",
              "      <td>16.000</td>\n",
              "      <td>2.000</td>\n",
              "      <td>0.000</td>\n",
              "      <td>1.000</td>\n",
              "      <td>0.000</td>\n",
              "      <td>0.000</td>\n",
              "      <td>1.000</td>\n",
              "      <td>28.000</td>\n",
              "      <td>4.0</td>\n",
              "      <td>0.00</td>\n",
              "      <td>1.000</td>\n",
              "      <td>0.000</td>\n",
              "      <td>0.000</td>\n",
              "      <td>0.000</td>\n",
              "      <td>0.000</td>\n",
              "      <td>0.000</td>\n",
              "    </tr>\n",
              "    <tr>\n",
              "      <th>25%</th>\n",
              "      <td>0.0</td>\n",
              "      <td>197.500</td>\n",
              "      <td>45.500</td>\n",
              "      <td>1.500</td>\n",
              "      <td>20.000</td>\n",
              "      <td>18.500</td>\n",
              "      <td>16.000</td>\n",
              "      <td>4.000</td>\n",
              "      <td>704.500</td>\n",
              "      <td>171.0</td>\n",
              "      <td>9.50</td>\n",
              "      <td>71.500</td>\n",
              "      <td>61.000</td>\n",
              "      <td>54.000</td>\n",
              "      <td>103.000</td>\n",
              "      <td>4.000</td>\n",
              "      <td>2.000</td>\n",
              "    </tr>\n",
              "    <tr>\n",
              "      <th>50%</th>\n",
              "      <td>0.0</td>\n",
              "      <td>249.000</td>\n",
              "      <td>61.000</td>\n",
              "      <td>5.000</td>\n",
              "      <td>30.000</td>\n",
              "      <td>29.000</td>\n",
              "      <td>25.000</td>\n",
              "      <td>7.000</td>\n",
              "      <td>1407.000</td>\n",
              "      <td>361.0</td>\n",
              "      <td>28.00</td>\n",
              "      <td>167.000</td>\n",
              "      <td>185.000</td>\n",
              "      <td>150.000</td>\n",
              "      <td>205.000</td>\n",
              "      <td>23.000</td>\n",
              "      <td>5.000</td>\n",
              "    </tr>\n",
              "    <tr>\n",
              "      <th>75%</th>\n",
              "      <td>0.0</td>\n",
              "      <td>352.500</td>\n",
              "      <td>94.000</td>\n",
              "      <td>9.000</td>\n",
              "      <td>44.500</td>\n",
              "      <td>42.500</td>\n",
              "      <td>37.500</td>\n",
              "      <td>12.000</td>\n",
              "      <td>4333.500</td>\n",
              "      <td>1060.0</td>\n",
              "      <td>66.50</td>\n",
              "      <td>608.000</td>\n",
              "      <td>447.000</td>\n",
              "      <td>426.500</td>\n",
              "      <td>342.500</td>\n",
              "      <td>84.000</td>\n",
              "      <td>8.000</td>\n",
              "    </tr>\n",
              "    <tr>\n",
              "      <th>max</th>\n",
              "      <td>0.0</td>\n",
              "      <td>580.000</td>\n",
              "      <td>194.000</td>\n",
              "      <td>35.000</td>\n",
              "      <td>91.000</td>\n",
              "      <td>94.000</td>\n",
              "      <td>87.000</td>\n",
              "      <td>23.000</td>\n",
              "      <td>9778.000</td>\n",
              "      <td>2732.0</td>\n",
              "      <td>442.00</td>\n",
              "      <td>1272.000</td>\n",
              "      <td>1652.000</td>\n",
              "      <td>1153.000</td>\n",
              "      <td>1378.000</td>\n",
              "      <td>327.000</td>\n",
              "      <td>20.000</td>\n",
              "    </tr>\n",
              "  </tbody>\n",
              "</table>\n",
              "</div>"
            ],
            "text/plain": [
              "       Salary  count_at_bats  count_hits  ...   PutOuts  Assists  Errors\n",
              "count    59.0         59.000      59.000  ...    59.000   59.000  59.000\n",
              "mean      0.0        279.678      70.695  ...   281.034   54.102   5.576\n",
              "std       0.0        139.478      39.994  ...   286.402   71.432   4.442\n",
              "min       0.0         16.000       2.000  ...     0.000    0.000   0.000\n",
              "25%       0.0        197.500      45.500  ...   103.000    4.000   2.000\n",
              "50%       0.0        249.000      61.000  ...   205.000   23.000   5.000\n",
              "75%       0.0        352.500      94.000  ...   342.500   84.000   8.000\n",
              "max       0.0        580.000     194.000  ...  1378.000  327.000  20.000\n",
              "\n",
              "[8 rows x 17 columns]"
            ]
          },
          "metadata": {
            "tags": []
          },
          "execution_count": 6
        }
      ]
    },
    {
      "cell_type": "markdown",
      "metadata": {
        "id": "K7JWvoyEXswL",
        "colab_type": "text"
      },
      "source": [
        "From the table, we can get below info.\n",
        "\n",
        "*  There are 59 data with zero salary. \n",
        "\n",
        "*  The players with zero salary have higher average years experience, which is quite werid. Here is my guess...\n",
        "\n",
        "    *  The player with zero salary already retirement\n",
        "\n",
        "    *  The player may play baseball just for fun \n",
        "\n",
        "In this analysis, the purpose is to predict the salary for the player. Hence, I will drop the data with zero salary. In case other external factors will influence the result."
      ]
    },
    {
      "cell_type": "markdown",
      "metadata": {
        "id": "ATmeAoZvonZJ",
        "colab_type": "text"
      },
      "source": [
        "### Drop the dataframe with zero salary "
      ]
    },
    {
      "cell_type": "code",
      "metadata": {
        "id": "7POMcCSapFCX",
        "colab_type": "code",
        "outputId": "035465d8-ae19-43e9-b0d9-52bafb348230",
        "colab": {
          "base_uri": "https://localhost:8080/",
          "height": 317
        }
      },
      "source": [
        "my_df_cleaned = my_df[my_df['Salary'] > 0]\n",
        "my_df_cleaned.describe().round(3)"
      ],
      "execution_count": 0,
      "outputs": [
        {
          "output_type": "execute_result",
          "data": {
            "text/html": [
              "<div>\n",
              "<style scoped>\n",
              "    .dataframe tbody tr th:only-of-type {\n",
              "        vertical-align: middle;\n",
              "    }\n",
              "\n",
              "    .dataframe tbody tr th {\n",
              "        vertical-align: top;\n",
              "    }\n",
              "\n",
              "    .dataframe thead th {\n",
              "        text-align: right;\n",
              "    }\n",
              "</style>\n",
              "<table border=\"1\" class=\"dataframe\">\n",
              "  <thead>\n",
              "    <tr style=\"text-align: right;\">\n",
              "      <th></th>\n",
              "      <th>Salary</th>\n",
              "      <th>count_at_bats</th>\n",
              "      <th>count_hits</th>\n",
              "      <th>count_home_runs</th>\n",
              "      <th>count_runs</th>\n",
              "      <th>RBI</th>\n",
              "      <th>count_walks</th>\n",
              "      <th>years_experience</th>\n",
              "      <th>cumulative_at_bats</th>\n",
              "      <th>cumulative_hits</th>\n",
              "      <th>cumulative_home_runs</th>\n",
              "      <th>cumulative_runs</th>\n",
              "      <th>cumulative_RBI</th>\n",
              "      <th>cumulative_walks</th>\n",
              "      <th>PutOuts</th>\n",
              "      <th>Assists</th>\n",
              "      <th>Errors</th>\n",
              "    </tr>\n",
              "  </thead>\n",
              "  <tbody>\n",
              "    <tr>\n",
              "      <th>count</th>\n",
              "      <td>184.000</td>\n",
              "      <td>184.000</td>\n",
              "      <td>184.000</td>\n",
              "      <td>184.000</td>\n",
              "      <td>184.000</td>\n",
              "      <td>184.000</td>\n",
              "      <td>184.000</td>\n",
              "      <td>184.000</td>\n",
              "      <td>184.000</td>\n",
              "      <td>184.000</td>\n",
              "      <td>184.000</td>\n",
              "      <td>184.000</td>\n",
              "      <td>184.000</td>\n",
              "      <td>184.000</td>\n",
              "      <td>184.000</td>\n",
              "      <td>184.000</td>\n",
              "      <td>184.000</td>\n",
              "    </tr>\n",
              "    <tr>\n",
              "      <th>mean</th>\n",
              "      <td>523619.565</td>\n",
              "      <td>409.027</td>\n",
              "      <td>109.364</td>\n",
              "      <td>11.848</td>\n",
              "      <td>55.353</td>\n",
              "      <td>52.092</td>\n",
              "      <td>41.304</td>\n",
              "      <td>7.293</td>\n",
              "      <td>2669.027</td>\n",
              "      <td>724.342</td>\n",
              "      <td>72.223</td>\n",
              "      <td>366.576</td>\n",
              "      <td>333.125</td>\n",
              "      <td>264.864</td>\n",
              "      <td>285.299</td>\n",
              "      <td>118.391</td>\n",
              "      <td>8.288</td>\n",
              "    </tr>\n",
              "    <tr>\n",
              "      <th>std</th>\n",
              "      <td>408559.761</td>\n",
              "      <td>141.387</td>\n",
              "      <td>43.885</td>\n",
              "      <td>8.429</td>\n",
              "      <td>24.225</td>\n",
              "      <td>25.076</td>\n",
              "      <td>21.271</td>\n",
              "      <td>4.862</td>\n",
              "      <td>2297.547</td>\n",
              "      <td>649.425</td>\n",
              "      <td>83.689</td>\n",
              "      <td>334.871</td>\n",
              "      <td>320.088</td>\n",
              "      <td>277.283</td>\n",
              "      <td>272.208</td>\n",
              "      <td>145.644</td>\n",
              "      <td>6.597</td>\n",
              "    </tr>\n",
              "    <tr>\n",
              "      <th>min</th>\n",
              "      <td>68000.000</td>\n",
              "      <td>19.000</td>\n",
              "      <td>4.000</td>\n",
              "      <td>0.000</td>\n",
              "      <td>2.000</td>\n",
              "      <td>3.000</td>\n",
              "      <td>1.000</td>\n",
              "      <td>1.000</td>\n",
              "      <td>19.000</td>\n",
              "      <td>4.000</td>\n",
              "      <td>0.000</td>\n",
              "      <td>2.000</td>\n",
              "      <td>3.000</td>\n",
              "      <td>1.000</td>\n",
              "      <td>0.000</td>\n",
              "      <td>0.000</td>\n",
              "      <td>0.000</td>\n",
              "    </tr>\n",
              "    <tr>\n",
              "      <th>25%</th>\n",
              "      <td>183750.000</td>\n",
              "      <td>288.000</td>\n",
              "      <td>75.500</td>\n",
              "      <td>5.000</td>\n",
              "      <td>35.000</td>\n",
              "      <td>33.000</td>\n",
              "      <td>24.750</td>\n",
              "      <td>4.000</td>\n",
              "      <td>896.750</td>\n",
              "      <td>217.750</td>\n",
              "      <td>16.000</td>\n",
              "      <td>111.250</td>\n",
              "      <td>96.750</td>\n",
              "      <td>76.250</td>\n",
              "      <td>117.500</td>\n",
              "      <td>7.000</td>\n",
              "      <td>3.000</td>\n",
              "    </tr>\n",
              "    <tr>\n",
              "      <th>50%</th>\n",
              "      <td>427500.000</td>\n",
              "      <td>416.000</td>\n",
              "      <td>108.500</td>\n",
              "      <td>10.000</td>\n",
              "      <td>54.000</td>\n",
              "      <td>47.500</td>\n",
              "      <td>37.000</td>\n",
              "      <td>6.000</td>\n",
              "      <td>1953.500</td>\n",
              "      <td>528.500</td>\n",
              "      <td>41.500</td>\n",
              "      <td>272.500</td>\n",
              "      <td>254.500</td>\n",
              "      <td>179.500</td>\n",
              "      <td>223.000</td>\n",
              "      <td>43.500</td>\n",
              "      <td>6.000</td>\n",
              "    </tr>\n",
              "    <tr>\n",
              "      <th>75%</th>\n",
              "      <td>750000.000</td>\n",
              "      <td>528.000</td>\n",
              "      <td>142.500</td>\n",
              "      <td>18.000</td>\n",
              "      <td>73.000</td>\n",
              "      <td>71.250</td>\n",
              "      <td>53.000</td>\n",
              "      <td>10.000</td>\n",
              "      <td>3772.500</td>\n",
              "      <td>984.250</td>\n",
              "      <td>97.000</td>\n",
              "      <td>495.750</td>\n",
              "      <td>422.750</td>\n",
              "      <td>317.500</td>\n",
              "      <td>316.750</td>\n",
              "      <td>205.250</td>\n",
              "      <td>12.250</td>\n",
              "    </tr>\n",
              "    <tr>\n",
              "      <th>max</th>\n",
              "      <td>1975000.000</td>\n",
              "      <td>687.000</td>\n",
              "      <td>238.000</td>\n",
              "      <td>40.000</td>\n",
              "      <td>117.000</td>\n",
              "      <td>121.000</td>\n",
              "      <td>105.000</td>\n",
              "      <td>24.000</td>\n",
              "      <td>14053.000</td>\n",
              "      <td>4256.000</td>\n",
              "      <td>548.000</td>\n",
              "      <td>2165.000</td>\n",
              "      <td>1659.000</td>\n",
              "      <td>1566.000</td>\n",
              "      <td>1377.000</td>\n",
              "      <td>492.000</td>\n",
              "      <td>32.000</td>\n",
              "    </tr>\n",
              "  </tbody>\n",
              "</table>\n",
              "</div>"
            ],
            "text/plain": [
              "            Salary  count_at_bats  count_hits  ...   PutOuts  Assists   Errors\n",
              "count      184.000        184.000     184.000  ...   184.000  184.000  184.000\n",
              "mean    523619.565        409.027     109.364  ...   285.299  118.391    8.288\n",
              "std     408559.761        141.387      43.885  ...   272.208  145.644    6.597\n",
              "min      68000.000         19.000       4.000  ...     0.000    0.000    0.000\n",
              "25%     183750.000        288.000      75.500  ...   117.500    7.000    3.000\n",
              "50%     427500.000        416.000     108.500  ...   223.000   43.500    6.000\n",
              "75%     750000.000        528.000     142.500  ...   316.750  205.250   12.250\n",
              "max    1975000.000        687.000     238.000  ...  1377.000  492.000   32.000\n",
              "\n",
              "[8 rows x 17 columns]"
            ]
          },
          "metadata": {
            "tags": []
          },
          "execution_count": 7
        }
      ]
    },
    {
      "cell_type": "markdown",
      "metadata": {
        "id": "Ue1mgzeXsXPb",
        "colab_type": "text"
      },
      "source": [
        "### Plot and show the correlation of numeric variables"
      ]
    },
    {
      "cell_type": "code",
      "metadata": {
        "id": "VxzYViQXsDNR",
        "colab_type": "code",
        "outputId": "2519c4b1-7db6-490c-c7a3-df589865ba2f",
        "colab": {
          "base_uri": "https://localhost:8080/",
          "height": 1000
        }
      },
      "source": [
        "sns.set_style('darkgrid')\n",
        "sns.pairplot(my_df_cleaned, size = 2.5)\n",
        "plt.show()"
      ],
      "execution_count": 0,
      "outputs": []
    },
    {
      "cell_type": "markdown",
      "metadata": {
        "id": "KgpzBt1fF8cf",
        "colab_type": "text"
      },
      "source": [
        "### From the plot, we can get some information.\n",
        "\n",
        "*   The players who have higher salary seem to have higher performance.\n",
        "\n",
        "*   From the trend between each variable, it seems that the propotion of players who have high performance (ex. cumulative_RBI, cumulative_runs, cumulative_hits...) is less than the average. Hence, the number of players who have higher income is less the the number of players who have average salary.\n",
        "\n",
        "Let's take a deeper look at those who have above average income."
      ]
    },
    {
      "cell_type": "markdown",
      "metadata": {
        "id": "7FFgD_yBPB5I",
        "colab_type": "text"
      },
      "source": [
        "### Explore the data for those who have above average salary"
      ]
    },
    {
      "cell_type": "code",
      "metadata": {
        "id": "cE4wtNd5I_a9",
        "colab_type": "code",
        "outputId": "2eb5982f-69de-4a57-b091-569bd3de70b8",
        "colab": {
          "base_uri": "https://localhost:8080/",
          "height": 317
        }
      },
      "source": [
        "sal_df_cleaned = my_df_cleaned[my_df_cleaned['Salary'] > my_df_cleaned['Salary'].mean()]\n",
        "sal_df_cleaned.describe().round(3)"
      ],
      "execution_count": 0,
      "outputs": [
        {
          "output_type": "execute_result",
          "data": {
            "text/html": [
              "<div>\n",
              "<style scoped>\n",
              "    .dataframe tbody tr th:only-of-type {\n",
              "        vertical-align: middle;\n",
              "    }\n",
              "\n",
              "    .dataframe tbody tr th {\n",
              "        vertical-align: top;\n",
              "    }\n",
              "\n",
              "    .dataframe thead th {\n",
              "        text-align: right;\n",
              "    }\n",
              "</style>\n",
              "<table border=\"1\" class=\"dataframe\">\n",
              "  <thead>\n",
              "    <tr style=\"text-align: right;\">\n",
              "      <th></th>\n",
              "      <th>Salary</th>\n",
              "      <th>count_at_bats</th>\n",
              "      <th>count_hits</th>\n",
              "      <th>count_home_runs</th>\n",
              "      <th>count_runs</th>\n",
              "      <th>RBI</th>\n",
              "      <th>count_walks</th>\n",
              "      <th>years_experience</th>\n",
              "      <th>cumulative_at_bats</th>\n",
              "      <th>cumulative_hits</th>\n",
              "      <th>cumulative_home_runs</th>\n",
              "      <th>cumulative_runs</th>\n",
              "      <th>cumulative_RBI</th>\n",
              "      <th>cumulative_walks</th>\n",
              "      <th>PutOuts</th>\n",
              "      <th>Assists</th>\n",
              "      <th>Errors</th>\n",
              "    </tr>\n",
              "  </thead>\n",
              "  <tbody>\n",
              "    <tr>\n",
              "      <th>count</th>\n",
              "      <td>83.000</td>\n",
              "      <td>83.000</td>\n",
              "      <td>83.000</td>\n",
              "      <td>83.000</td>\n",
              "      <td>83.000</td>\n",
              "      <td>83.000</td>\n",
              "      <td>83.000</td>\n",
              "      <td>83.000</td>\n",
              "      <td>83.000</td>\n",
              "      <td>83.000</td>\n",
              "      <td>83.000</td>\n",
              "      <td>83.000</td>\n",
              "      <td>83.000</td>\n",
              "      <td>83.000</td>\n",
              "      <td>83.000</td>\n",
              "      <td>83.000</td>\n",
              "      <td>83.000</td>\n",
              "    </tr>\n",
              "    <tr>\n",
              "      <th>mean</th>\n",
              "      <td>881795.181</td>\n",
              "      <td>475.398</td>\n",
              "      <td>131.482</td>\n",
              "      <td>14.795</td>\n",
              "      <td>65.916</td>\n",
              "      <td>63.566</td>\n",
              "      <td>50.337</td>\n",
              "      <td>9.253</td>\n",
              "      <td>3856.711</td>\n",
              "      <td>1072.024</td>\n",
              "      <td>105.795</td>\n",
              "      <td>540.566</td>\n",
              "      <td>492.554</td>\n",
              "      <td>385.735</td>\n",
              "      <td>354.783</td>\n",
              "      <td>129.289</td>\n",
              "      <td>8.373</td>\n",
              "    </tr>\n",
              "    <tr>\n",
              "      <th>std</th>\n",
              "      <td>338797.254</td>\n",
              "      <td>121.132</td>\n",
              "      <td>39.769</td>\n",
              "      <td>8.692</td>\n",
              "      <td>21.899</td>\n",
              "      <td>23.936</td>\n",
              "      <td>21.856</td>\n",
              "      <td>4.353</td>\n",
              "      <td>2177.862</td>\n",
              "      <td>633.847</td>\n",
              "      <td>82.609</td>\n",
              "      <td>326.413</td>\n",
              "      <td>306.184</td>\n",
              "      <td>290.095</td>\n",
              "      <td>310.395</td>\n",
              "      <td>155.119</td>\n",
              "      <td>6.310</td>\n",
              "    </tr>\n",
              "    <tr>\n",
              "      <th>min</th>\n",
              "      <td>525000.000</td>\n",
              "      <td>19.000</td>\n",
              "      <td>4.000</td>\n",
              "      <td>0.000</td>\n",
              "      <td>2.000</td>\n",
              "      <td>3.000</td>\n",
              "      <td>1.000</td>\n",
              "      <td>1.000</td>\n",
              "      <td>19.000</td>\n",
              "      <td>4.000</td>\n",
              "      <td>1.000</td>\n",
              "      <td>2.000</td>\n",
              "      <td>3.000</td>\n",
              "      <td>1.000</td>\n",
              "      <td>0.000</td>\n",
              "      <td>0.000</td>\n",
              "      <td>0.000</td>\n",
              "    </tr>\n",
              "    <tr>\n",
              "      <th>25%</th>\n",
              "      <td>660000.000</td>\n",
              "      <td>402.000</td>\n",
              "      <td>111.000</td>\n",
              "      <td>8.000</td>\n",
              "      <td>49.500</td>\n",
              "      <td>47.000</td>\n",
              "      <td>33.500</td>\n",
              "      <td>6.000</td>\n",
              "      <td>2328.000</td>\n",
              "      <td>647.000</td>\n",
              "      <td>40.500</td>\n",
              "      <td>309.500</td>\n",
              "      <td>286.000</td>\n",
              "      <td>193.500</td>\n",
              "      <td>165.500</td>\n",
              "      <td>8.000</td>\n",
              "      <td>4.000</td>\n",
              "    </tr>\n",
              "    <tr>\n",
              "      <th>50%</th>\n",
              "      <td>750000.000</td>\n",
              "      <td>492.000</td>\n",
              "      <td>133.000</td>\n",
              "      <td>14.000</td>\n",
              "      <td>67.000</td>\n",
              "      <td>63.000</td>\n",
              "      <td>47.000</td>\n",
              "      <td>8.000</td>\n",
              "      <td>3146.000</td>\n",
              "      <td>900.000</td>\n",
              "      <td>84.000</td>\n",
              "      <td>445.000</td>\n",
              "      <td>384.000</td>\n",
              "      <td>289.000</td>\n",
              "      <td>276.000</td>\n",
              "      <td>53.000</td>\n",
              "      <td>6.000</td>\n",
              "    </tr>\n",
              "    <tr>\n",
              "      <th>75%</th>\n",
              "      <td>975000.000</td>\n",
              "      <td>574.500</td>\n",
              "      <td>162.000</td>\n",
              "      <td>20.500</td>\n",
              "      <td>82.000</td>\n",
              "      <td>81.000</td>\n",
              "      <td>66.500</td>\n",
              "      <td>12.500</td>\n",
              "      <td>5175.500</td>\n",
              "      <td>1385.000</td>\n",
              "      <td>142.500</td>\n",
              "      <td>726.500</td>\n",
              "      <td>663.000</td>\n",
              "      <td>465.000</td>\n",
              "      <td>367.500</td>\n",
              "      <td>240.000</td>\n",
              "      <td>11.000</td>\n",
              "    </tr>\n",
              "    <tr>\n",
              "      <th>max</th>\n",
              "      <td>1975000.000</td>\n",
              "      <td>677.000</td>\n",
              "      <td>238.000</td>\n",
              "      <td>40.000</td>\n",
              "      <td>117.000</td>\n",
              "      <td>113.000</td>\n",
              "      <td>105.000</td>\n",
              "      <td>24.000</td>\n",
              "      <td>14053.000</td>\n",
              "      <td>4256.000</td>\n",
              "      <td>347.000</td>\n",
              "      <td>2165.000</td>\n",
              "      <td>1314.000</td>\n",
              "      <td>1566.000</td>\n",
              "      <td>1377.000</td>\n",
              "      <td>492.000</td>\n",
              "      <td>25.000</td>\n",
              "    </tr>\n",
              "  </tbody>\n",
              "</table>\n",
              "</div>"
            ],
            "text/plain": [
              "            Salary  count_at_bats  count_hits  ...   PutOuts  Assists  Errors\n",
              "count       83.000         83.000      83.000  ...    83.000   83.000  83.000\n",
              "mean    881795.181        475.398     131.482  ...   354.783  129.289   8.373\n",
              "std     338797.254        121.132      39.769  ...   310.395  155.119   6.310\n",
              "min     525000.000         19.000       4.000  ...     0.000    0.000   0.000\n",
              "25%     660000.000        402.000     111.000  ...   165.500    8.000   4.000\n",
              "50%     750000.000        492.000     133.000  ...   276.000   53.000   6.000\n",
              "75%     975000.000        574.500     162.000  ...   367.500  240.000  11.000\n",
              "max    1975000.000        677.000     238.000  ...  1377.000  492.000  25.000\n",
              "\n",
              "[8 rows x 17 columns]"
            ]
          },
          "metadata": {
            "tags": []
          },
          "execution_count": 9
        }
      ]
    },
    {
      "cell_type": "markdown",
      "metadata": {
        "id": "Mmom_WzuS0Hi",
        "colab_type": "text"
      },
      "source": [
        "*  From the analysis above, we can make sure that the players who have higher salary have better performance and more experiences.\n",
        "\n",
        "*  The number of players who have above average income is less than the number of those whose income is less than the average.\n",
        "\n",
        "\n",
        "   For more details, let's look at the heat map."
      ]
    },
    {
      "cell_type": "markdown",
      "metadata": {
        "id": "QAnfwtlUUQ07",
        "colab_type": "text"
      },
      "source": [
        "### Correlation among all numeric variables\n",
        "\n",
        "Plot the heat map to show correlation between each variable"
      ]
    },
    {
      "cell_type": "code",
      "metadata": {
        "id": "jlQBMgowMj4X",
        "colab_type": "code",
        "outputId": "73a852d1-ee97-4f5e-e9ac-30cd99aca7aa",
        "colab": {
          "base_uri": "https://localhost:8080/",
          "height": 607
        }
      },
      "source": [
        "sns.set(font_scale=1)\n",
        "plt.figure(figsize=(17,8))\n",
        "sns.heatmap(my_df_cleaned.corr(), annot=True, cmap = 'PuBu')\n",
        "plt.xticks(rotation=90)\n",
        "plt.show()"
      ],
      "execution_count": 0,
      "outputs": [
        {
          "output_type": "display_data",
          "data": {
            "image/png": "[encoded data removed]",
            "text/plain": [
              "<Figure size 1224x576 with 2 Axes>"
            ]
          },
          "metadata": {
            "tags": []
          }
        }
      ]
    },
    {
      "cell_type": "markdown",
      "metadata": {
        "id": "srOFgjqkVJAL",
        "colab_type": "text"
      },
      "source": [
        "### From the heat map, we can find the correlation among variables.\n",
        "\n",
        "*   Salary has relatively high correlation (>0.45) with cumulative_RBI, cumulative_runs, cumulative_hits, cumulative_at_bats, RBI, cumulative_home_runs, count_hits, count_runs, count_walks, cumulative_walks\n",
        "\n",
        "*   There are also high correlation among years_experience, cumulative_at_bats, cumulative_hits, cumulative_home_runs, cumulative_runs, cumulative_RBI, cumulative_walks --> these variables may also have high correlation with salary."
      ]
    },
    {
      "cell_type": "markdown",
      "metadata": {
        "id": "5HmJ6lIyYX0B",
        "colab_type": "text"
      },
      "source": [
        "### Explore League, Division, and New League Variables"
      ]
    },
    {
      "cell_type": "markdown",
      "metadata": {
        "id": "Tl7q3aaIZhTW",
        "colab_type": "text"
      },
      "source": [
        "Division and League"
      ]
    },
    {
      "cell_type": "code",
      "metadata": {
        "id": "O5RQpeDvUiXX",
        "colab_type": "code",
        "outputId": "b70383f2-7aee-413d-c819-47544764f306",
        "colab": {
          "base_uri": "https://localhost:8080/",
          "height": 142
        }
      },
      "source": [
        "table = pd.crosstab(my_df_cleaned.Division, my_df_cleaned.League)\n",
        "table"
      ],
      "execution_count": 0,
      "outputs": [
        {
          "output_type": "execute_result",
          "data": {
            "text/html": [
              "<div>\n",
              "<style scoped>\n",
              "    .dataframe tbody tr th:only-of-type {\n",
              "        vertical-align: middle;\n",
              "    }\n",
              "\n",
              "    .dataframe tbody tr th {\n",
              "        vertical-align: top;\n",
              "    }\n",
              "\n",
              "    .dataframe thead th {\n",
              "        text-align: right;\n",
              "    }\n",
              "</style>\n",
              "<table border=\"1\" class=\"dataframe\">\n",
              "  <thead>\n",
              "    <tr style=\"text-align: right;\">\n",
              "      <th>League</th>\n",
              "      <th>A</th>\n",
              "      <th>N</th>\n",
              "    </tr>\n",
              "    <tr>\n",
              "      <th>Division</th>\n",
              "      <th></th>\n",
              "      <th></th>\n",
              "    </tr>\n",
              "  </thead>\n",
              "  <tbody>\n",
              "    <tr>\n",
              "      <th>E</th>\n",
              "      <td>50</td>\n",
              "      <td>43</td>\n",
              "    </tr>\n",
              "    <tr>\n",
              "      <th>W</th>\n",
              "      <td>52</td>\n",
              "      <td>39</td>\n",
              "    </tr>\n",
              "  </tbody>\n",
              "</table>\n",
              "</div>"
            ],
            "text/plain": [
              "League     A   N\n",
              "Division        \n",
              "E         50  43\n",
              "W         52  39"
            ]
          },
          "metadata": {
            "tags": []
          },
          "execution_count": 11
        }
      ]
    },
    {
      "cell_type": "markdown",
      "metadata": {
        "id": "eE03dYGo81gv",
        "colab_type": "text"
      },
      "source": [
        "Find the average salary"
      ]
    },
    {
      "cell_type": "code",
      "metadata": {
        "id": "Y_xdvfMHbOmt",
        "colab_type": "code",
        "outputId": "91fd796c-5f5c-4dac-be62-735407098117",
        "colab": {
          "base_uri": "https://localhost:8080/",
          "height": 85
        }
      },
      "source": [
        "AE_df = my_df_cleaned[[all([a,b]) for a,b in zip(my_df_cleaned['League'] == 'A', my_df_cleaned['Division'] == 'E')]]\n",
        "print('League A Division E average salary: ', AE_df.Salary.mean())\n",
        "\n",
        "AW_df = my_df_cleaned[[all([a,b]) for a,b in zip(my_df_cleaned['League'] == 'A', my_df_cleaned['Division'] == 'W')]]\n",
        "print('League A Division W average salary: ', AW_df.Salary.mean())\n",
        "\n",
        "NE_df = my_df_cleaned[[all([a,b]) for a,b in zip(my_df_cleaned['League'] == 'N', my_df_cleaned['Division'] == 'E')]]\n",
        "print('League N Division E average salary: ', NE_df.Salary.mean())\n",
        "\n",
        "NW_df = my_df_cleaned[[all([a,b]) for a,b in zip(my_df_cleaned['League'] == 'N', my_df_cleaned['Division'] == 'W')]]\n",
        "print('League N Division W average salary: ', NW_df.Salary.mean())"
      ],
      "execution_count": 0,
      "outputs": [
        {
          "output_type": "stream",
          "text": [
            "League A Division E average salary:  573720.0\n",
            "League A Division W average salary:  473769.23076923075\n",
            "League N Division E average salary:  559441.8604651163\n",
            "League N Division W average salary:  486358.9743589744\n"
          ],
          "name": "stdout"
        }
      ]
    },
    {
      "cell_type": "markdown",
      "metadata": {
        "id": "EISkjvxL85pG",
        "colab_type": "text"
      },
      "source": [
        "Division and New League"
      ]
    },
    {
      "cell_type": "code",
      "metadata": {
        "id": "idV2xPIVg-hS",
        "colab_type": "code",
        "outputId": "63ef17c6-4c14-4a81-8635-61c1cc321a98",
        "colab": {
          "base_uri": "https://localhost:8080/",
          "height": 142
        }
      },
      "source": [
        "table2 = pd.crosstab(my_df_cleaned.Division, my_df_cleaned.NewLeague)\n",
        "table2"
      ],
      "execution_count": 0,
      "outputs": [
        {
          "output_type": "execute_result",
          "data": {
            "text/html": [
              "<div>\n",
              "<style scoped>\n",
              "    .dataframe tbody tr th:only-of-type {\n",
              "        vertical-align: middle;\n",
              "    }\n",
              "\n",
              "    .dataframe tbody tr th {\n",
              "        vertical-align: top;\n",
              "    }\n",
              "\n",
              "    .dataframe thead th {\n",
              "        text-align: right;\n",
              "    }\n",
              "</style>\n",
              "<table border=\"1\" class=\"dataframe\">\n",
              "  <thead>\n",
              "    <tr style=\"text-align: right;\">\n",
              "      <th>NewLeague</th>\n",
              "      <th>A</th>\n",
              "      <th>N</th>\n",
              "    </tr>\n",
              "    <tr>\n",
              "      <th>Division</th>\n",
              "      <th></th>\n",
              "      <th></th>\n",
              "    </tr>\n",
              "  </thead>\n",
              "  <tbody>\n",
              "    <tr>\n",
              "      <th>E</th>\n",
              "      <td>52</td>\n",
              "      <td>41</td>\n",
              "    </tr>\n",
              "    <tr>\n",
              "      <th>W</th>\n",
              "      <td>55</td>\n",
              "      <td>36</td>\n",
              "    </tr>\n",
              "  </tbody>\n",
              "</table>\n",
              "</div>"
            ],
            "text/plain": [
              "NewLeague   A   N\n",
              "Division         \n",
              "E          52  41\n",
              "W          55  36"
            ]
          },
          "metadata": {
            "tags": []
          },
          "execution_count": 13
        }
      ]
    },
    {
      "cell_type": "markdown",
      "metadata": {
        "id": "Mnld43tA9AO8",
        "colab_type": "text"
      },
      "source": [
        "Find the average salary"
      ]
    },
    {
      "cell_type": "code",
      "metadata": {
        "id": "nbHVkbP25I-B",
        "colab_type": "code",
        "outputId": "439ab9e6-653b-42e1-b4e6-6b04c389bbfa",
        "colab": {
          "base_uri": "https://localhost:8080/",
          "height": 85
        }
      },
      "source": [
        "AE_df2 = my_df_cleaned[[all([a,b]) for a,b in zip(my_df_cleaned['NewLeague'] == 'A', my_df_cleaned['Division'] == 'E')]]\n",
        "print('New League A Division E average salary: ', AE_df2.Salary.mean())\n",
        "\n",
        "AW_df2 = my_df_cleaned[[all([a,b]) for a,b in zip(my_df_cleaned['NewLeague'] == 'A', my_df_cleaned['Division'] == 'W')]]\n",
        "print('New League A Division W average salary: ', AW_df2.Salary.mean())\n",
        "\n",
        "NE_df2 = my_df_cleaned[[all([a,b]) for a,b in zip(my_df_cleaned['NewLeague'] == 'N', my_df_cleaned['Division'] == 'E')]]\n",
        "print('New League N Division E average salary: ', NE_df2.Salary.mean())\n",
        "\n",
        "NW_df2 = my_df_cleaned[[all([a,b]) for a,b in zip(my_df_cleaned['NewLeague'] == 'N', my_df_cleaned['Division'] == 'W')]]\n",
        "print('New League N Division W average salary: ', NW_df2.Salary.mean())"
      ],
      "execution_count": 0,
      "outputs": [
        {
          "output_type": "stream",
          "text": [
            "New League A Division E average salary:  563576.9230769231\n",
            "New League A Division W average salary:  484290.9090909091\n",
            "New League N Division E average salary:  571609.756097561\n",
            "New League N Division W average salary:  471333.3333333333\n"
          ],
          "name": "stdout"
        }
      ]
    },
    {
      "cell_type": "markdown",
      "metadata": {
        "id": "Knsr06G89ErR",
        "colab_type": "text"
      },
      "source": [
        "### From the analysis above, we get some information\n",
        "\n",
        "*   The number of players in League A are larger but quite similiar to N \n",
        "\n",
        "*   Players in division E have higher salary (above average salary) no matter what league they are in \n",
        "\n",
        "*   There may be some relation between devision and salary"
      ]
    },
    {
      "cell_type": "markdown",
      "metadata": {
        "id": "TqbD9GiMDZVi",
        "colab_type": "text"
      },
      "source": [
        "### Let's take a look on the regression result of these variables"
      ]
    },
    {
      "cell_type": "code",
      "metadata": {
        "id": "8_eWcqZV7_f8",
        "colab_type": "code",
        "outputId": "a60f900e-d810-4763-dd65-d71b6561b32b",
        "colab": {
          "base_uri": "https://localhost:8080/",
          "height": 629
        }
      },
      "source": [
        "le = LabelEncoder()\n",
        "\n",
        "my_df_cleaned['Division']= le.fit_transform(my_df_cleaned['Division'])\n",
        "print(dict(zip(le.classes_, le.transform(le.classes_))))\n",
        "my_df_cleaned['League']= le.fit_transform(my_df_cleaned['League'])\n",
        "print(dict(zip(le.classes_, le.transform(le.classes_))))\n",
        "my_df_cleaned['NewLeague']= le.fit_transform(my_df_cleaned['NewLeague'])\n",
        "print(dict(zip(le.classes_, le.transform(le.classes_))))\n",
        "\n",
        "X_cols = ['cumulative_RBI', 'cumulative_runs', 'cumulative_hits', 'cumulative_at_bats', 'RBI', 'cumulative_home_runs', 'count_hits', 'count_runs', 'count_walks', 'cumulative_walks', 'count_at_bats', 'count_home_runs', 'years_experience', 'Division','League', 'PutOuts', 'Assists', 'Errors', 'NewLeague']\n",
        "X = my_df_cleaned[X_cols].values\n",
        "\n",
        "data_length = len(my_df_cleaned)\n",
        "column_length = len(my_df_cleaned[X_cols].columns)\n",
        "\n",
        "X = X.reshape(data_length,column_length)\n",
        "y = my_df_cleaned['Salary'].values\n",
        "y = y.reshape(data_length,1)\n",
        "\n",
        "X_train, X_test, y_train, y_test = train_test_split(X,y, random_state=0)\n",
        "\n",
        "lin_reg= LinearRegression()\n",
        "lin_reg.fit(X_train, y_train)\n",
        "\n",
        "listing_y_pred = lin_reg.predict(X_test)\n",
        "\n",
        "print((pd.DataFrame(listing_y_pred, columns={'y_prediction'}).head(5)))\n",
        "print()\n",
        "\n",
        "print('Intercept:', float(lin_reg.intercept_))\n",
        "\n",
        "coeff_df = pd.DataFrame(lin_reg.coef_)\n",
        "coeff_df.columns = X_cols\n",
        "print(coeff_df)\n",
        "print()\n",
        "\n",
        "print(\"Mean Squared Error (MSE):%.2f\" % mean_squared_error(y_test, listing_y_pred))\n",
        "\n",
        "print('Variance Score (R^2):%.2f' % r2_score(y_test, listing_y_pred))"
      ],
      "execution_count": 0,
      "outputs": [
        {
          "output_type": "stream",
          "text": [
            "{'E': 0, 'W': 1}\n",
            "{'A': 0, 'N': 1}\n",
            "{'A': 0, 'N': 1}\n",
            "   y_prediction\n",
            "0  1.523554e+05\n",
            "1  7.764776e+04\n",
            "2  4.051666e+05\n",
            "3  5.313655e+05\n",
            "4  1.619754e+06\n",
            "\n",
            "Intercept: 19140.726938218053\n",
            "   cumulative_RBI  cumulative_runs  ...       Errors     NewLeague\n",
            "0      1414.23751      2349.211034  ... -7038.129402 -58778.838998\n",
            "\n",
            "[1 rows x 19 columns]\n",
            "\n",
            "Mean Squared Error (MSE):73121727630.19\n",
            "Variance Score (R^2):0.47\n"
          ],
          "name": "stdout"
        },
        {
          "output_type": "stream",
          "text": [
            "/usr/local/lib/python3.6/dist-packages/ipykernel_launcher.py:3: SettingWithCopyWarning: \n",
            "A value is trying to be set on a copy of a slice from a DataFrame.\n",
            "Try using .loc[row_indexer,col_indexer] = value instead\n",
            "\n",
            "See the caveats in the documentation: https://pandas.pydata.org/pandas-docs/stable/user_guide/indexing.html#returning-a-view-versus-a-copy\n",
            "  This is separate from the ipykernel package so we can avoid doing imports until\n",
            "/usr/local/lib/python3.6/dist-packages/ipykernel_launcher.py:5: SettingWithCopyWarning: \n",
            "A value is trying to be set on a copy of a slice from a DataFrame.\n",
            "Try using .loc[row_indexer,col_indexer] = value instead\n",
            "\n",
            "See the caveats in the documentation: https://pandas.pydata.org/pandas-docs/stable/user_guide/indexing.html#returning-a-view-versus-a-copy\n",
            "  \"\"\"\n",
            "/usr/local/lib/python3.6/dist-packages/ipykernel_launcher.py:7: SettingWithCopyWarning: \n",
            "A value is trying to be set on a copy of a slice from a DataFrame.\n",
            "Try using .loc[row_indexer,col_indexer] = value instead\n",
            "\n",
            "See the caveats in the documentation: https://pandas.pydata.org/pandas-docs/stable/user_guide/indexing.html#returning-a-view-versus-a-copy\n",
            "  import sys\n"
          ],
          "name": "stderr"
        }
      ]
    },
    {
      "cell_type": "markdown",
      "metadata": {
        "id": "EutJOHPgNsgi",
        "colab_type": "text"
      },
      "source": [
        "### Outcome of regression result \n",
        "\n",
        "From the analysis above, mean Squared error is huge, it may seems that the model is too complex and overfitted. There are three ways to solve the problem\n",
        "\n",
        "1. Increase the size of dataset\n",
        "2. Choose a suitable model complexity\n",
        "3. Use regularization to reduce the value of coefficient\n",
        "\n",
        "For the further analysis, I will choose the third way to test the effectiveness."
      ]
    },
    {
      "cell_type": "markdown",
      "metadata": {
        "id": "KSTWqp_1bOa_",
        "colab_type": "text"
      },
      "source": [
        "### Let's take a look on using sklearn's implementation of logistic regression --> Not suitable for this data set"
      ]
    },
    {
      "cell_type": "code",
      "metadata": {
        "id": "KEetYbN0bcGH",
        "colab_type": "code",
        "outputId": "baa64fcf-6fd4-4b8a-eb66-656224c7bbe0",
        "colab": {
          "base_uri": "https://localhost:8080/",
          "height": 170
        }
      },
      "source": [
        "X = my_df_cleaned[['cumulative_RBI', 'cumulative_runs', 'cumulative_hits', 'cumulative_at_bats', 'RBI', 'cumulative_home_runs', 'count_hits', 'count_runs', 'count_walks', 'cumulative_walks', 'count_at_bats', 'count_home_runs', 'years_experience', 'Division','League', 'PutOuts', 'Assists', 'Errors', 'NewLeague']]\n",
        "y = my_df_cleaned['Salary']\n",
        "\n",
        "X_train, X_test, y_train, y_test = train_test_split(X, y, random_state=0)\n",
        "\n",
        "log_model = LogisticRegression()\n",
        "log_model.fit(X_train, y_train.values.ravel())\n",
        "\n",
        "print('Logistic regression score: ', log_model.score(X_test, y_test))"
      ],
      "execution_count": 0,
      "outputs": [
        {
          "output_type": "stream",
          "text": [
            "Logistic regression score:  0.021739130434782608\n"
          ],
          "name": "stdout"
        },
        {
          "output_type": "stream",
          "text": [
            "/usr/local/lib/python3.6/dist-packages/sklearn/linear_model/_logistic.py:940: ConvergenceWarning: lbfgs failed to converge (status=1):\n",
            "STOP: TOTAL NO. of ITERATIONS REACHED LIMIT.\n",
            "\n",
            "Increase the number of iterations (max_iter) or scale the data as shown in:\n",
            "    https://scikit-learn.org/stable/modules/preprocessing.html\n",
            "Please also refer to the documentation for alternative solver options:\n",
            "    https://scikit-learn.org/stable/modules/linear_model.html#logistic-regression\n",
            "  extra_warning_msg=_LOGISTIC_SOLVER_CONVERGENCE_MSG)\n"
          ],
          "name": "stderr"
        }
      ]
    },
    {
      "cell_type": "markdown",
      "metadata": {
        "id": "tzOksJn7jIOJ",
        "colab_type": "text"
      },
      "source": [
        "### Outcome of logistic regression (Not suitable for this data set)\n",
        "\n",
        "*  The score is low, the main reason is that this data set is not suitable of logistic regression model. Logistic regression is suitable for binary problem. The attributes of salary is continuous.\n",
        "\n",
        "\n",
        "Let's use regularized models to find out if we can train the model better."
      ]
    },
    {
      "cell_type": "markdown",
      "metadata": {
        "id": "Y7gmtMWAQVwq",
        "colab_type": "text"
      },
      "source": [
        "# Part2. Regularized Models\n",
        "\n",
        "In this part, I will use different value of alpha on Ridge and Lasso  to conduct my regularization"
      ]
    },
    {
      "cell_type": "markdown",
      "metadata": {
        "id": "hDy3B0b2H7S6",
        "colab_type": "text"
      },
      "source": [
        "### Data preprocessing"
      ]
    },
    {
      "cell_type": "code",
      "metadata": {
        "id": "LeWCTqSDDqeY",
        "colab_type": "code",
        "colab": {}
      },
      "source": [
        "X = my_df_cleaned.drop(['Salary'], axis=1)\n",
        "y = my_df_cleaned['Salary']"
      ],
      "execution_count": 0,
      "outputs": []
    },
    {
      "cell_type": "markdown",
      "metadata": {
        "id": "cdD1TBbAINiT",
        "colab_type": "text"
      },
      "source": [
        "# Model1 - Ridge"
      ]
    },
    {
      "cell_type": "markdown",
      "metadata": {
        "id": "zfo-XjTC2fUa",
        "colab_type": "text"
      },
      "source": [
        "### Split the samples into a training set and a test set "
      ]
    },
    {
      "cell_type": "code",
      "metadata": {
        "id": "Cc8q6V7aSa9g",
        "colab_type": "code",
        "colab": {}
      },
      "source": [
        "X_train, X_test , y_train, y_test = train_test_split(X, y, test_size=0.3, random_state=0)"
      ],
      "execution_count": 0,
      "outputs": []
    },
    {
      "cell_type": "markdown",
      "metadata": {
        "id": "XX93Sext2p3k",
        "colab_type": "text"
      },
      "source": [
        "### Fit a ridge  model on the training set, and evaluate its MSE on the test set, using alpha = 5"
      ]
    },
    {
      "cell_type": "code",
      "metadata": {
        "id": "_elYO88Q05Wy",
        "colab_type": "code",
        "outputId": "7bad969c-85fa-47f6-f5cc-bc46cd4977f0",
        "colab": {
          "base_uri": "https://localhost:8080/",
          "height": 374
        }
      },
      "source": [
        "model = Ridge(alpha = 5, normalize = True)\n",
        "model.fit(X_train, y_train.values.ravel())           \n",
        "pred = model.predict(X_test)          \n",
        "print(pd.Series(model.coef_, index = X.columns)) \n",
        "print(mean_squared_error(y_test, pred))  "
      ],
      "execution_count": 0,
      "outputs": [
        {
          "output_type": "stream",
          "text": [
            "count_at_bats             111.966755\n",
            "count_hits                466.814193\n",
            "count_home_runs          1558.717255\n",
            "count_runs                809.131750\n",
            "RBI                       680.727262\n",
            "count_walks               921.861728\n",
            "years_experience         2470.870019\n",
            "cumulative_at_bats          6.512866\n",
            "cumulative_hits            25.839813\n",
            "cumulative_home_runs      146.086910\n",
            "cumulative_runs            48.489562\n",
            "cumulative_RBI             50.606998\n",
            "cumulative_walks           41.821960\n",
            "League                   8747.127693\n",
            "Division               -17245.580134\n",
            "PutOuts                    64.036007\n",
            "Assists                    12.023278\n",
            "Errors                   -306.833695\n",
            "NewLeague                6792.692589\n",
            "dtype: float64\n",
            "76212029934.2739\n"
          ],
          "name": "stdout"
        }
      ]
    },
    {
      "cell_type": "code",
      "metadata": {
        "id": "AR0Cp81v1Ds6",
        "colab_type": "code",
        "outputId": "dd37270c-1180-4c98-9921-1ace670d9171",
        "colab": {
          "base_uri": "https://localhost:8080/",
          "height": 34
        }
      },
      "source": [
        "model.score(X_test, y_test)"
      ],
      "execution_count": 0,
      "outputs": [
        {
          "output_type": "execute_result",
          "data": {
            "text/plain": [
              "0.43172211299507923"
            ]
          },
          "metadata": {
            "tags": []
          },
          "execution_count": 20
        }
      ]
    },
    {
      "cell_type": "markdown",
      "metadata": {
        "id": "Gp_4N8DDlCno",
        "colab_type": "text"
      },
      "source": [
        "### Ridge outcome when alpha = 5\n",
        "\n",
        "*  The test MSE is 76212029934, which is slightly higher than the analysis we have done before. \n",
        "\n",
        "*  The weights of 'Division' is quite huge, which means that our assumption is correct.\n",
        "\n",
        "*  The test score is 43%, which is quite low.\n",
        "\n",
        "Let's try bigger and smaller alpha to find out the result\n"
      ]
    },
    {
      "cell_type": "markdown",
      "metadata": {
        "id": "_ZC-Doso6rlV",
        "colab_type": "text"
      },
      "source": [
        "### What happens if we use a higher value of alpha. We supposed alpha as 100"
      ]
    },
    {
      "cell_type": "code",
      "metadata": {
        "id": "9dKAJkhJ3kYo",
        "colab_type": "code",
        "outputId": "6c260dab-5641-4112-dc84-8c34e442cd54",
        "colab": {
          "base_uri": "https://localhost:8080/",
          "height": 374
        }
      },
      "source": [
        "model2 = Ridge(alpha = 100, normalize = True)\n",
        "model2.fit(X_train, y_train.values.ravel())          \n",
        "pred2 = model2.predict(X_test)           \n",
        "print(pd.Series(model2.coef_, index = X.columns)) \n",
        "print(mean_squared_error(y_test, pred2))  "
      ],
      "execution_count": 0,
      "outputs": [
        {
          "output_type": "stream",
          "text": [
            "count_at_bats             12.542019\n",
            "count_hits                45.021731\n",
            "count_home_runs          180.303770\n",
            "count_runs                80.345678\n",
            "RBI                       75.648381\n",
            "count_walks               94.549402\n",
            "years_experience         311.626529\n",
            "cumulative_at_bats         0.773946\n",
            "cumulative_hits            2.877284\n",
            "cumulative_home_runs      19.146803\n",
            "cumulative_runs            5.569212\n",
            "cumulative_RBI             5.911125\n",
            "cumulative_walks           5.674125\n",
            "League                    66.624255\n",
            "Division               -1136.752085\n",
            "PutOuts                    5.100559\n",
            "Assists                    1.908007\n",
            "Errors                    -0.786442\n",
            "NewLeague                110.711296\n",
            "dtype: float64\n",
            "126671691584.97165\n"
          ],
          "name": "stdout"
        }
      ]
    },
    {
      "cell_type": "code",
      "metadata": {
        "id": "EbDGRcz63vjZ",
        "colab_type": "code",
        "outputId": "c86421d0-aca0-4fab-a615-ac2f1eaa69a2",
        "colab": {
          "base_uri": "https://localhost:8080/",
          "height": 34
        }
      },
      "source": [
        "model2.score(X_test, y_test)"
      ],
      "execution_count": 0,
      "outputs": [
        {
          "output_type": "execute_result",
          "data": {
            "text/plain": [
              "0.05546773522071091"
            ]
          },
          "metadata": {
            "tags": []
          },
          "execution_count": 22
        }
      ]
    },
    {
      "cell_type": "markdown",
      "metadata": {
        "id": "TJg2cLR030e9",
        "colab_type": "text"
      },
      "source": [
        "### Ridge outcome when alpha = 100\n",
        "\n",
        "*  The big alpha shrinks the coefficients. All weight of variables got shrunk.This over-shrinking makes the model more biased, resulting in a much higher MSE.\n",
        "\n",
        "*  Till now we can find that fitting a ridge regression model with alpha = 5 leads to a much lower test MSE and a much higher test score than fitting a model with a higher alpha(100)."
      ]
    },
    {
      "cell_type": "markdown",
      "metadata": {
        "id": "Yh3COwdq8In1",
        "colab_type": "text"
      },
      "source": [
        "### What happens if we use the smaller value of alpha. We supposed the alpha as 0"
      ]
    },
    {
      "cell_type": "code",
      "metadata": {
        "id": "Ii1NRW8-5vBQ",
        "colab_type": "code",
        "outputId": "40c8b22d-bf96-4895-cf14-d029a87ff965",
        "colab": {
          "base_uri": "https://localhost:8080/",
          "height": 374
        }
      },
      "source": [
        "model3 = Ridge(alpha = 0, normalize = True)\n",
        "model3.fit(X_train, y_train.values.ravel())             \n",
        "pred = model3.predict(X_test)            \n",
        "print(pd.Series(model3.coef_, index = X.columns)) \n",
        "print(mean_squared_error(y_test, pred)) "
      ],
      "execution_count": 0,
      "outputs": [
        {
          "output_type": "stream",
          "text": [
            "count_at_bats            -2275.975471\n",
            "count_hits                9547.496788\n",
            "count_home_runs          19088.006186\n",
            "count_runs               -3141.365098\n",
            "RBI                      -4960.256519\n",
            "count_walks               7987.934859\n",
            "years_experience         10202.821313\n",
            "cumulative_at_bats        -203.544699\n",
            "cumulative_hits           -202.616765\n",
            "cumulative_home_runs     -1421.170241\n",
            "cumulative_runs           2425.433061\n",
            "cumulative_RBI            1271.082210\n",
            "cumulative_walks         -1561.126768\n",
            "League                  160505.636649\n",
            "Division                -79133.567830\n",
            "PutOuts                    271.983467\n",
            "Assists                    478.654532\n",
            "Errors                   -7073.304308\n",
            "NewLeague               -48386.861548\n",
            "dtype: float64\n",
            "67248971502.961876\n"
          ],
          "name": "stdout"
        }
      ]
    },
    {
      "cell_type": "code",
      "metadata": {
        "id": "wRXlOS5q3vTZ",
        "colab_type": "code",
        "outputId": "0c0923a1-ff1c-4adf-c103-8887a646e700",
        "colab": {
          "base_uri": "https://localhost:8080/",
          "height": 34
        }
      },
      "source": [
        "model3.score(X_test, y_test)"
      ],
      "execution_count": 0,
      "outputs": [
        {
          "output_type": "execute_result",
          "data": {
            "text/plain": [
              "0.4985554975780686"
            ]
          },
          "metadata": {
            "tags": []
          },
          "execution_count": 24
        }
      ]
    },
    {
      "cell_type": "markdown",
      "metadata": {
        "id": "9V-nVzqkBsCx",
        "colab_type": "text"
      },
      "source": [
        "### Ridge outcome when alpha = 0\n",
        "\n",
        "*  We can find that when we decrease the value of alpha, we can get better result. The MSE will decrease and the test score will be higher.\n",
        "\n",
        "*  The weights of the variables become larger because we lower the value of alpha\n",
        "\n",
        "*  The weight of 'league' become the largest one\n",
        "\n",
        "*  We can find that when we lower our value of alpha, the MSE will be lower and the test score will get higher."
      ]
    },
    {
      "cell_type": "markdown",
      "metadata": {
        "id": "Qh5vJvpY-248",
        "colab_type": "text"
      },
      "source": [
        "### Use cross-validation to choose the better alpha for the model"
      ]
    },
    {
      "cell_type": "markdown",
      "metadata": {
        "id": "4zbeE1w5EV76",
        "colab_type": "text"
      },
      "source": [
        "From the analysis above, I found that when we lower the value of alpha, the performance will be better.\n",
        "So I generate the range of alpha value from 0.05-0.09 and use cross-validation to find the best fit for the model"
      ]
    },
    {
      "cell_type": "code",
      "metadata": {
        "id": "dywy85hxXVFU",
        "colab_type": "code",
        "outputId": "6ba2d119-1914-4a5f-84e0-2b302bac9af3",
        "colab": {
          "base_uri": "https://localhost:8080/",
          "height": 357
        }
      },
      "source": [
        "alphas = np.linspace(0.05, 0.09, 100)\n",
        "alphas"
      ],
      "execution_count": 0,
      "outputs": [
        {
          "output_type": "execute_result",
          "data": {
            "text/plain": [
              "array([0.05      , 0.05040404, 0.05080808, 0.05121212, 0.05161616,\n",
              "       0.0520202 , 0.05242424, 0.05282828, 0.05323232, 0.05363636,\n",
              "       0.0540404 , 0.05444444, 0.05484848, 0.05525253, 0.05565657,\n",
              "       0.05606061, 0.05646465, 0.05686869, 0.05727273, 0.05767677,\n",
              "       0.05808081, 0.05848485, 0.05888889, 0.05929293, 0.05969697,\n",
              "       0.06010101, 0.06050505, 0.06090909, 0.06131313, 0.06171717,\n",
              "       0.06212121, 0.06252525, 0.06292929, 0.06333333, 0.06373737,\n",
              "       0.06414141, 0.06454545, 0.06494949, 0.06535354, 0.06575758,\n",
              "       0.06616162, 0.06656566, 0.0669697 , 0.06737374, 0.06777778,\n",
              "       0.06818182, 0.06858586, 0.0689899 , 0.06939394, 0.06979798,\n",
              "       0.07020202, 0.07060606, 0.0710101 , 0.07141414, 0.07181818,\n",
              "       0.07222222, 0.07262626, 0.0730303 , 0.07343434, 0.07383838,\n",
              "       0.07424242, 0.07464646, 0.07505051, 0.07545455, 0.07585859,\n",
              "       0.07626263, 0.07666667, 0.07707071, 0.07747475, 0.07787879,\n",
              "       0.07828283, 0.07868687, 0.07909091, 0.07949495, 0.07989899,\n",
              "       0.08030303, 0.08070707, 0.08111111, 0.08151515, 0.08191919,\n",
              "       0.08232323, 0.08272727, 0.08313131, 0.08353535, 0.08393939,\n",
              "       0.08434343, 0.08474747, 0.08515152, 0.08555556, 0.0859596 ,\n",
              "       0.08636364, 0.08676768, 0.08717172, 0.08757576, 0.0879798 ,\n",
              "       0.08838384, 0.08878788, 0.08919192, 0.08959596, 0.09      ])"
            ]
          },
          "metadata": {
            "tags": []
          },
          "execution_count": 25
        }
      ]
    },
    {
      "cell_type": "markdown",
      "metadata": {
        "id": "oyhTAjNpri0_",
        "colab_type": "text"
      },
      "source": [
        "### Find out the better alpha by cross-validation"
      ]
    },
    {
      "cell_type": "markdown",
      "metadata": {
        "id": "Gof_c50crxuF",
        "colab_type": "text"
      },
      "source": [
        "Let's find out the best alpha "
      ]
    },
    {
      "cell_type": "code",
      "metadata": {
        "id": "c2iAsnMUA9Vh",
        "colab_type": "code",
        "outputId": "68d02f70-521c-47f1-cb8b-b4bcf74cef1c",
        "colab": {
          "base_uri": "https://localhost:8080/",
          "height": 34
        }
      },
      "source": [
        "ridgecv = RidgeCV(alphas = alphas, normalize=True)\n",
        "ridgecv.fit(X_train, y_train)\n",
        "ridgecv.alpha_"
      ],
      "execution_count": 0,
      "outputs": [
        {
          "output_type": "execute_result",
          "data": {
            "text/plain": [
              "0.09"
            ]
          },
          "metadata": {
            "tags": []
          },
          "execution_count": 26
        }
      ]
    },
    {
      "cell_type": "markdown",
      "metadata": {
        "id": "xmH4NyJbCBXO",
        "colab_type": "text"
      },
      "source": [
        "MSE score when alpha is best fit"
      ]
    },
    {
      "cell_type": "code",
      "metadata": {
        "id": "2onyooGT6PdH",
        "colab_type": "code",
        "outputId": "bc48f92d-283a-47d7-9ed1-756c7aca9f33",
        "colab": {
          "base_uri": "https://localhost:8080/",
          "height": 374
        }
      },
      "source": [
        "model4 = Ridge(alpha = ridgecv.alpha_, normalize = True)\n",
        "model4.fit(X_train, y_train)          \n",
        "pred4 = model4.predict(X_test)          \n",
        "print(pd.Series(model4.coef_, index = X.columns)) \n",
        "print(mean_squared_error(y_test, pred4))  "
      ],
      "execution_count": 0,
      "outputs": [
        {
          "output_type": "stream",
          "text": [
            "count_at_bats             -456.741649\n",
            "count_hits                2465.002183\n",
            "count_home_runs           3517.556245\n",
            "count_runs                2449.056190\n",
            "RBI                       -162.474118\n",
            "count_walks               3285.725873\n",
            "years_experience           482.403997\n",
            "cumulative_at_bats           7.456639\n",
            "cumulative_hits            121.306835\n",
            "cumulative_home_runs        88.512298\n",
            "cumulative_runs            190.288659\n",
            "cumulative_RBI             194.761302\n",
            "cumulative_walks          -306.494517\n",
            "League                  103741.649095\n",
            "Division                -75408.636677\n",
            "PutOuts                    249.891234\n",
            "Assists                     77.091291\n",
            "Errors                   -5039.573474\n",
            "NewLeague               -20405.698298\n",
            "dtype: float64\n",
            "53616844078.27391\n"
          ],
          "name": "stdout"
        }
      ]
    },
    {
      "cell_type": "markdown",
      "metadata": {
        "id": "2JghkIdCDIBd",
        "colab_type": "text"
      },
      "source": [
        "### Using the best alpha to show the result"
      ]
    },
    {
      "cell_type": "code",
      "metadata": {
        "id": "fZWhskcR6PlG",
        "colab_type": "code",
        "outputId": "b69611b6-6dac-4e03-c4f4-14c94b83e1e5",
        "colab": {
          "base_uri": "https://localhost:8080/",
          "height": 34
        }
      },
      "source": [
        "model4.score(X_test, y_test)"
      ],
      "execution_count": 0,
      "outputs": [
        {
          "output_type": "execute_result",
          "data": {
            "text/plain": [
              "0.6002039719063927"
            ]
          },
          "metadata": {
            "tags": []
          },
          "execution_count": 28
        }
      ]
    },
    {
      "cell_type": "markdown",
      "metadata": {
        "id": "cL5hYRmm3DIn",
        "colab_type": "text"
      },
      "source": [
        "###  Ridge performance  when alpha is the best fit (test score = 0.60)\n",
        "\n",
        "*  From the cross validation, we get the better alpha for the model. The mean square error is smaller and the test score is better\n",
        "\n",
        "*  All coefficient of the variables are non zero.\n",
        "\n",
        "*  When the alpha get larger, the weights of the variable shrunk. When I lower my alpha, the weights all increase\n",
        "\n",
        "*  We can find that the 'League' has the most significant impact on players salary. The second factor is 'Division'.\n",
        "\n",
        "*  'Assists', 'cumulative_at_bats', and 'cumulative_home_runs' have little impact on salary.\n",
        "\n",
        "\n",
        "It's time to take a look on the prediction of players' salary!"
      ]
    },
    {
      "cell_type": "markdown",
      "metadata": {
        "id": "65_pqCpHGJ4q",
        "colab_type": "text"
      },
      "source": [
        "### Use the model to predict salary"
      ]
    },
    {
      "cell_type": "code",
      "metadata": {
        "id": "nTJASPrcGaqP",
        "colab_type": "code",
        "outputId": "1862926c-033c-438c-ce7c-095692745708",
        "colab": {
          "base_uri": "https://localhost:8080/",
          "height": 204
        }
      },
      "source": [
        "prediction_df = pd.DataFrame(model4.predict(X_test).round(), columns = {'Prediction'}).set_index([pd.Index(X_test.index)])\n",
        "all_together_df = X_test.join(y_test).join(prediction_df)\n",
        "all_together_df[['Salary', 'Prediction']].head()"
      ],
      "execution_count": 0,
      "outputs": [
        {
          "output_type": "execute_result",
          "data": {
            "text/html": [
              "<div>\n",
              "<style scoped>\n",
              "    .dataframe tbody tr th:only-of-type {\n",
              "        vertical-align: middle;\n",
              "    }\n",
              "\n",
              "    .dataframe tbody tr th {\n",
              "        vertical-align: top;\n",
              "    }\n",
              "\n",
              "    .dataframe thead th {\n",
              "        text-align: right;\n",
              "    }\n",
              "</style>\n",
              "<table border=\"1\" class=\"dataframe\">\n",
              "  <thead>\n",
              "    <tr style=\"text-align: right;\">\n",
              "      <th></th>\n",
              "      <th>Salary</th>\n",
              "      <th>Prediction</th>\n",
              "    </tr>\n",
              "  </thead>\n",
              "  <tbody>\n",
              "    <tr>\n",
              "      <th>139</th>\n",
              "      <td>90000</td>\n",
              "      <td>91867.0</td>\n",
              "    </tr>\n",
              "    <tr>\n",
              "      <th>106</th>\n",
              "      <td>225000</td>\n",
              "      <td>123066.0</td>\n",
              "    </tr>\n",
              "    <tr>\n",
              "      <th>7</th>\n",
              "      <td>125000</td>\n",
              "      <td>374281.0</td>\n",
              "    </tr>\n",
              "    <tr>\n",
              "      <th>107</th>\n",
              "      <td>613000</td>\n",
              "      <td>542864.0</td>\n",
              "    </tr>\n",
              "    <tr>\n",
              "      <th>60</th>\n",
              "      <td>1450000</td>\n",
              "      <td>1298198.0</td>\n",
              "    </tr>\n",
              "  </tbody>\n",
              "</table>\n",
              "</div>"
            ],
            "text/plain": [
              "      Salary  Prediction\n",
              "139    90000     91867.0\n",
              "106   225000    123066.0\n",
              "7     125000    374281.0\n",
              "107   613000    542864.0\n",
              "60   1450000   1298198.0"
            ]
          },
          "metadata": {
            "tags": []
          },
          "execution_count": 29
        }
      ]
    },
    {
      "cell_type": "markdown",
      "metadata": {
        "id": "YxYmwpcB3Onz",
        "colab_type": "text"
      },
      "source": [
        "##  Performance of using Ridge to predict the salary"
      ]
    },
    {
      "cell_type": "markdown",
      "metadata": {
        "id": "Ph7GQqupLFVc",
        "colab_type": "text"
      },
      "source": [
        "*  The test score is only 60.02%, it's hard to make a accurately prediction. From the result we can find that some predictions close to the real data, some don't. \n",
        "\n",
        "*  From this analysis, we can find that when we increase the value of alpha, the weights of all variables will be shrunk and it will make our model more bias. If we lower the value of alpha, I can generate a better model to predict the salary.\n",
        "\n",
        "Let's take a look at Lasso model. To see if we can get a better result!"
      ]
    },
    {
      "cell_type": "markdown",
      "metadata": {
        "id": "jtdHlffPaxUH",
        "colab_type": "text"
      },
      "source": [
        "# Model2 - Lasso"
      ]
    },
    {
      "cell_type": "markdown",
      "metadata": {
        "id": "4gLX9cr0P50L",
        "colab_type": "text"
      },
      "source": [
        "### Fit a lasso model on the training set, and evaluate its MSE on the test set, using alpha = 5"
      ]
    },
    {
      "cell_type": "code",
      "metadata": {
        "id": "kvYzZfpXSQOk",
        "colab_type": "code",
        "outputId": "714b45c2-3888-4ffa-f971-b02a4182cc9d",
        "colab": {
          "base_uri": "https://localhost:8080/",
          "height": 374
        }
      },
      "source": [
        "las_model = Lasso(alpha = 5, max_iter = 10000, normalize = True)\n",
        "las_model.fit(X_train, y_train.values.ravel())           \n",
        "las_pred = las_model.predict(X_test)          \n",
        "print(pd.Series(las_model.coef_, index = X.columns)) \n",
        "print(mean_squared_error(y_test, las_pred))  "
      ],
      "execution_count": 0,
      "outputs": [
        {
          "output_type": "stream",
          "text": [
            "count_at_bats            -2246.731587\n",
            "count_hits                9321.426117\n",
            "count_home_runs          18474.403436\n",
            "count_runs               -2813.130411\n",
            "RBI                      -4783.214784\n",
            "count_walks               7837.957490\n",
            "years_experience         10298.174695\n",
            "cumulative_at_bats        -212.835865\n",
            "cumulative_hits            -85.509019\n",
            "cumulative_home_runs     -1168.650326\n",
            "cumulative_runs           2271.863621\n",
            "cumulative_RBI            1161.977687\n",
            "cumulative_walks         -1510.638340\n",
            "League                  159910.920492\n",
            "Division                -77846.177413\n",
            "PutOuts                    271.394267\n",
            "Assists                    476.849022\n",
            "Errors                   -7087.088023\n",
            "NewLeague               -49002.345857\n",
            "dtype: float64\n",
            "66560860543.84788\n"
          ],
          "name": "stdout"
        }
      ]
    },
    {
      "cell_type": "code",
      "metadata": {
        "id": "WSDH3-8DSVZY",
        "colab_type": "code",
        "outputId": "0c1631ab-eadd-449f-fde9-4bdd416c8332",
        "colab": {
          "base_uri": "https://localhost:8080/",
          "height": 34
        }
      },
      "source": [
        "las_model.score(X_test, y_test)"
      ],
      "execution_count": 0,
      "outputs": [
        {
          "output_type": "execute_result",
          "data": {
            "text/plain": [
              "0.503686423000308"
            ]
          },
          "metadata": {
            "tags": []
          },
          "execution_count": 31
        }
      ]
    },
    {
      "cell_type": "markdown",
      "metadata": {
        "id": "KagKuYEIQrF0",
        "colab_type": "text"
      },
      "source": [
        "### Lasso outcome when alpha = 5\n",
        "\n",
        "*  When alpha = 5, the test MSE is 66576585511, which is smaller than that of ridge when alpha equals to 5 and the test score is higher. But we still need to take a deeper look inside it, to find out if we can decrease the value of mean square error more.\n",
        "\n",
        "*  The weights of all variables in Lasso are higher than those of Ridge.\n",
        "\n",
        "*  'League' has the most significant compact on salary.\n",
        "\n",
        "Let's try bigger and smaller alpha to find out the result\n"
      ]
    },
    {
      "cell_type": "markdown",
      "metadata": {
        "id": "1b-NzfkcRIaQ",
        "colab_type": "text"
      },
      "source": [
        "### What happens if we use a higher value of alpha. We supposed alpha as 100"
      ]
    },
    {
      "cell_type": "code",
      "metadata": {
        "id": "F6te_ZnPVLQW",
        "colab_type": "code",
        "outputId": "872440f5-d50a-4006-f3b6-daf6a7127e34",
        "colab": {
          "base_uri": "https://localhost:8080/",
          "height": 374
        }
      },
      "source": [
        "las_model2 = Lasso(alpha = 100, max_iter = 10000, normalize = True)\n",
        "las_model2.fit(X_train, y_train.values.ravel())          \n",
        "las_pred2 = las_model2.predict(X_test)           \n",
        "print(pd.Series(las_model2.coef_, index = X.columns)) \n",
        "print(mean_squared_error(y_test, las_pred2)) "
      ],
      "execution_count": 0,
      "outputs": [
        {
          "output_type": "stream",
          "text": [
            "count_at_bats            -2206.539525\n",
            "count_hits                8112.766245\n",
            "count_home_runs          11900.197661\n",
            "count_runs                -309.715228\n",
            "RBI                      -2759.836019\n",
            "count_walks               6900.287456\n",
            "years_experience             0.000000\n",
            "cumulative_at_bats         -66.490311\n",
            "cumulative_hits              0.000000\n",
            "cumulative_home_runs        -0.000000\n",
            "cumulative_runs           1385.125115\n",
            "cumulative_RBI             514.295670\n",
            "cumulative_walks         -1236.217591\n",
            "League                  137733.174584\n",
            "Division                -72461.961766\n",
            "PutOuts                    275.935801\n",
            "Assists                    343.501802\n",
            "Errors                   -6608.751219\n",
            "NewLeague               -40640.564462\n",
            "dtype: float64\n",
            "61183760921.69735\n"
          ],
          "name": "stdout"
        }
      ]
    },
    {
      "cell_type": "code",
      "metadata": {
        "id": "sKcb28qMRYDO",
        "colab_type": "code",
        "outputId": "7943b88f-3006-4ebe-e056-beb5ac440867",
        "colab": {
          "base_uri": "https://localhost:8080/",
          "height": 34
        }
      },
      "source": [
        "las_model2.score(X_test, y_test)"
      ],
      "execution_count": 0,
      "outputs": [
        {
          "output_type": "execute_result",
          "data": {
            "text/plain": [
              "0.5437809699389726"
            ]
          },
          "metadata": {
            "tags": []
          },
          "execution_count": 33
        }
      ]
    },
    {
      "cell_type": "markdown",
      "metadata": {
        "id": "dBIYCDRPW1r-",
        "colab_type": "text"
      },
      "source": [
        "### Lasso outcome when alpha = 100\n",
        "\n",
        "*  When alpha = 100, the test MSE get smaller, and the test score get higher compare to alpha equals to 5. It's an interesting finding! The result is quite different to Ridge.\n",
        "\n",
        "*  The performance of Lasso is much better than Ridge when alpha equals to 100. It seems that Lasso will not be impacted tremendously when the alpha change.\n",
        "\n",
        "*  We can also find an interesting outcome! Some weights of the variables are zero, which means that those variables have small imapct on the model. Lasso will not take these variables into account.\n",
        "\n",
        "*  'League' has the highest weight.\n",
        "\n"
      ]
    },
    {
      "cell_type": "markdown",
      "metadata": {
        "id": "Y1lwI6PkZzFD",
        "colab_type": "text"
      },
      "source": [
        "### What happens if we use the smaller value of alpha. We supposed the alpha as 0"
      ]
    },
    {
      "cell_type": "code",
      "metadata": {
        "id": "F0KqA6SSYqEW",
        "colab_type": "code",
        "outputId": "39004619-293c-403c-d88f-b437cd9d00c7",
        "colab": {
          "base_uri": "https://localhost:8080/",
          "height": 496
        }
      },
      "source": [
        "las_model3 = Lasso(alpha = 0, max_iter = 10000, normalize = True)\n",
        "las_model3.fit(X_train, y_train.values.ravel())          \n",
        "las_pred3 = las_model3.predict(X_test)           \n",
        "print(pd.Series(las_model3.coef_, index = X.columns)) \n",
        "print(mean_squared_error(y_test, las_pred3)) "
      ],
      "execution_count": 0,
      "outputs": [
        {
          "output_type": "stream",
          "text": [
            "count_at_bats            -2275.975436\n",
            "count_hits                9547.496617\n",
            "count_home_runs          19088.005954\n",
            "count_runs               -3141.364937\n",
            "RBI                      -4960.256451\n",
            "count_walks               7987.934748\n",
            "years_experience         10202.822400\n",
            "cumulative_at_bats        -203.544721\n",
            "cumulative_hits           -202.616653\n",
            "cumulative_home_runs     -1421.170072\n",
            "cumulative_runs           2425.432981\n",
            "cumulative_RBI            1271.082149\n",
            "cumulative_walks         -1561.126736\n",
            "League                  160505.637571\n",
            "Division                -79133.566825\n",
            "PutOuts                    271.983466\n",
            "Assists                    478.654539\n",
            "Errors                   -7073.304330\n",
            "NewLeague               -48386.862454\n",
            "dtype: float64\n",
            "67248971243.75951\n"
          ],
          "name": "stdout"
        },
        {
          "output_type": "stream",
          "text": [
            "/usr/local/lib/python3.6/dist-packages/ipykernel_launcher.py:2: UserWarning: With alpha=0, this algorithm does not converge well. You are advised to use the LinearRegression estimator\n",
            "  \n",
            "/usr/local/lib/python3.6/dist-packages/sklearn/linear_model/_coordinate_descent.py:476: UserWarning: Coordinate descent with no regularization may lead to unexpected results and is discouraged.\n",
            "  positive)\n",
            "/usr/local/lib/python3.6/dist-packages/sklearn/linear_model/_coordinate_descent.py:476: ConvergenceWarning: Objective did not converge. You might want to increase the number of iterations. Duality gap: 4532557019574.559, tolerance: 2300145199.21875\n",
            "  positive)\n"
          ],
          "name": "stderr"
        }
      ]
    },
    {
      "cell_type": "code",
      "metadata": {
        "id": "X77fVE8na96o",
        "colab_type": "code",
        "outputId": "52eb22de-643d-429d-eb94-d85f5b27bf07",
        "colab": {
          "base_uri": "https://localhost:8080/",
          "height": 34
        }
      },
      "source": [
        "las_model3.score(X_test, y_test)"
      ],
      "execution_count": 0,
      "outputs": [
        {
          "output_type": "execute_result",
          "data": {
            "text/plain": [
              "0.4985554995108209"
            ]
          },
          "metadata": {
            "tags": []
          },
          "execution_count": 35
        }
      ]
    },
    {
      "cell_type": "markdown",
      "metadata": {
        "id": "Og7wJUnhbKPb",
        "colab_type": "text"
      },
      "source": [
        "### Lasso outcome when alpha = 0\n",
        "\n",
        "*  When we decrease the value of alpha, the mean square error and test score got lower but don't change a lot. \n",
        "\n",
        "*  Lasso has slightly different performance when the alpha is different. From the analysis, it may seem that the lasso model will have a better prediction when alpha get larger.\n",
        "\n",
        "Let's use cross validation to find out the better alpha and to see if our prediction will be better or not."
      ]
    },
    {
      "cell_type": "markdown",
      "metadata": {
        "id": "RzWCrTLEbits",
        "colab_type": "text"
      },
      "source": [
        "### Use cross-validation to choose the better alpha for the model"
      ]
    },
    {
      "cell_type": "markdown",
      "metadata": {
        "id": "v7ptEqVsrE_5",
        "colab_type": "text"
      },
      "source": [
        "From the analysis above, I found that when we increase the value of alpha, the performance will be better.\n",
        "\n",
        "So I generate the range of alpha value from 400-800 and use cross-validation to find the best fit for the model"
      ]
    },
    {
      "cell_type": "code",
      "metadata": {
        "id": "3lsG5m13rTrM",
        "colab_type": "code",
        "outputId": "80a95a86-cfcc-4d05-a49d-72ddf16ac810",
        "colab": {
          "base_uri": "https://localhost:8080/",
          "height": 867
        }
      },
      "source": [
        "lasso_alphas = np.linspace(400, 800, 200)\n",
        "lasso_alphas"
      ],
      "execution_count": 0,
      "outputs": [
        {
          "output_type": "execute_result",
          "data": {
            "text/plain": [
              "array([400.        , 402.01005025, 404.0201005 , 406.03015075,\n",
              "       408.04020101, 410.05025126, 412.06030151, 414.07035176,\n",
              "       416.08040201, 418.09045226, 420.10050251, 422.11055276,\n",
              "       424.12060302, 426.13065327, 428.14070352, 430.15075377,\n",
              "       432.16080402, 434.17085427, 436.18090452, 438.19095477,\n",
              "       440.20100503, 442.21105528, 444.22110553, 446.23115578,\n",
              "       448.24120603, 450.25125628, 452.26130653, 454.27135678,\n",
              "       456.28140704, 458.29145729, 460.30150754, 462.31155779,\n",
              "       464.32160804, 466.33165829, 468.34170854, 470.35175879,\n",
              "       472.36180905, 474.3718593 , 476.38190955, 478.3919598 ,\n",
              "       480.40201005, 482.4120603 , 484.42211055, 486.4321608 ,\n",
              "       488.44221106, 490.45226131, 492.46231156, 494.47236181,\n",
              "       496.48241206, 498.49246231, 500.50251256, 502.51256281,\n",
              "       504.52261307, 506.53266332, 508.54271357, 510.55276382,\n",
              "       512.56281407, 514.57286432, 516.58291457, 518.59296482,\n",
              "       520.60301508, 522.61306533, 524.62311558, 526.63316583,\n",
              "       528.64321608, 530.65326633, 532.66331658, 534.67336683,\n",
              "       536.68341709, 538.69346734, 540.70351759, 542.71356784,\n",
              "       544.72361809, 546.73366834, 548.74371859, 550.75376884,\n",
              "       552.7638191 , 554.77386935, 556.7839196 , 558.79396985,\n",
              "       560.8040201 , 562.81407035, 564.8241206 , 566.83417085,\n",
              "       568.84422111, 570.85427136, 572.86432161, 574.87437186,\n",
              "       576.88442211, 578.89447236, 580.90452261, 582.91457286,\n",
              "       584.92462312, 586.93467337, 588.94472362, 590.95477387,\n",
              "       592.96482412, 594.97487437, 596.98492462, 598.99497487,\n",
              "       601.00502513, 603.01507538, 605.02512563, 607.03517588,\n",
              "       609.04522613, 611.05527638, 613.06532663, 615.07537688,\n",
              "       617.08542714, 619.09547739, 621.10552764, 623.11557789,\n",
              "       625.12562814, 627.13567839, 629.14572864, 631.15577889,\n",
              "       633.16582915, 635.1758794 , 637.18592965, 639.1959799 ,\n",
              "       641.20603015, 643.2160804 , 645.22613065, 647.2361809 ,\n",
              "       649.24623116, 651.25628141, 653.26633166, 655.27638191,\n",
              "       657.28643216, 659.29648241, 661.30653266, 663.31658291,\n",
              "       665.32663317, 667.33668342, 669.34673367, 671.35678392,\n",
              "       673.36683417, 675.37688442, 677.38693467, 679.39698492,\n",
              "       681.40703518, 683.41708543, 685.42713568, 687.43718593,\n",
              "       689.44723618, 691.45728643, 693.46733668, 695.47738693,\n",
              "       697.48743719, 699.49748744, 701.50753769, 703.51758794,\n",
              "       705.52763819, 707.53768844, 709.54773869, 711.55778894,\n",
              "       713.5678392 , 715.57788945, 717.5879397 , 719.59798995,\n",
              "       721.6080402 , 723.61809045, 725.6281407 , 727.63819095,\n",
              "       729.64824121, 731.65829146, 733.66834171, 735.67839196,\n",
              "       737.68844221, 739.69849246, 741.70854271, 743.71859296,\n",
              "       745.72864322, 747.73869347, 749.74874372, 751.75879397,\n",
              "       753.76884422, 755.77889447, 757.78894472, 759.79899497,\n",
              "       761.80904523, 763.81909548, 765.82914573, 767.83919598,\n",
              "       769.84924623, 771.85929648, 773.86934673, 775.87939698,\n",
              "       777.88944724, 779.89949749, 781.90954774, 783.91959799,\n",
              "       785.92964824, 787.93969849, 789.94974874, 791.95979899,\n",
              "       793.96984925, 795.9798995 , 797.98994975, 800.        ])"
            ]
          },
          "metadata": {
            "tags": []
          },
          "execution_count": 36
        }
      ]
    },
    {
      "cell_type": "markdown",
      "metadata": {
        "id": "_wiVPBgPsNkL",
        "colab_type": "text"
      },
      "source": [
        "### Find out the better alpha by cross-validation"
      ]
    },
    {
      "cell_type": "markdown",
      "metadata": {
        "id": "41y3t-HSsPvo",
        "colab_type": "text"
      },
      "source": [
        "Let's find out the best alpha"
      ]
    },
    {
      "cell_type": "code",
      "metadata": {
        "id": "tuAc10LMbDqU",
        "colab_type": "code",
        "outputId": "541c8972-92f9-4885-8e34-5a35a3e8d512",
        "colab": {
          "base_uri": "https://localhost:8080/",
          "height": 34
        }
      },
      "source": [
        "lassocv = LassoCV(alphas=lasso_alphas, cv=20, max_iter=1000, normalize=True)\n",
        "lassocv.fit(X_train, y_train)\n",
        "lassocv.alpha_"
      ],
      "execution_count": 0,
      "outputs": [
        {
          "output_type": "execute_result",
          "data": {
            "text/plain": [
              "400.0"
            ]
          },
          "metadata": {
            "tags": []
          },
          "execution_count": 37
        }
      ]
    },
    {
      "cell_type": "markdown",
      "metadata": {
        "id": "_MHGH3oPkXZa",
        "colab_type": "text"
      },
      "source": [
        "MSE score when alpha is best fit"
      ]
    },
    {
      "cell_type": "code",
      "metadata": {
        "id": "EqNABFjJbw_g",
        "colab_type": "code",
        "outputId": "b0ccc60a-ce02-4728-8f33-c0b65f8d894a",
        "colab": {
          "base_uri": "https://localhost:8080/",
          "height": 374
        }
      },
      "source": [
        "las_model4 = Lasso(alpha = lassocv.alpha_, max_iter = 10000, normalize = True)\n",
        "las_model4.fit(X_train, y_train.values.ravel())          \n",
        "las_pred4 = las_model4.predict(X_test)           \n",
        "print(pd.Series(las_model4.coef_, index = X.columns)) \n",
        "print(mean_squared_error(y_test, las_pred4)) "
      ],
      "execution_count": 0,
      "outputs": [
        {
          "output_type": "stream",
          "text": [
            "count_at_bats           -1298.232352\n",
            "count_hits               5449.350925\n",
            "count_home_runs          4235.134752\n",
            "count_runs                468.522317\n",
            "RBI                        -0.000000\n",
            "count_walks              4865.021046\n",
            "years_experience            0.000000\n",
            "cumulative_at_bats          0.000000\n",
            "cumulative_hits             0.000000\n",
            "cumulative_home_runs        0.000000\n",
            "cumulative_runs           667.602736\n",
            "cumulative_RBI            291.682759\n",
            "cumulative_walks         -645.112383\n",
            "League                  86147.001971\n",
            "Division               -66533.026846\n",
            "PutOuts                   251.395913\n",
            "Assists                    56.678052\n",
            "Errors                  -3946.202389\n",
            "NewLeague                  -0.000000\n",
            "dtype: float64\n",
            "54567271056.35096\n"
          ],
          "name": "stdout"
        }
      ]
    },
    {
      "cell_type": "markdown",
      "metadata": {
        "id": "NJB-QNMWs3kl",
        "colab_type": "text"
      },
      "source": [
        "### Using the best alpha to show the result"
      ]
    },
    {
      "cell_type": "code",
      "metadata": {
        "id": "OcY6x25ckpNL",
        "colab_type": "code",
        "outputId": "fe9210e8-408b-4f0a-ba3c-605aa9217fbd",
        "colab": {
          "base_uri": "https://localhost:8080/",
          "height": 34
        }
      },
      "source": [
        "las_model4.score(X_test, y_test)"
      ],
      "execution_count": 0,
      "outputs": [
        {
          "output_type": "execute_result",
          "data": {
            "text/plain": [
              "0.593117077156051"
            ]
          },
          "metadata": {
            "tags": []
          },
          "execution_count": 39
        }
      ]
    },
    {
      "cell_type": "markdown",
      "metadata": {
        "id": "SRdBhaCMnuZ2",
        "colab_type": "text"
      },
      "source": [
        "###  Lasso outcome when alpha is the best fit (test score = 0.593)\n",
        "\n",
        "*  From the cross validation, we get the better alpha for the model. The mean square error is smaller and the test score is better.\n",
        "\n",
        "*  Actually the outcome does not change a lot from different alpha. But we still get better model when alpha is 400.\n",
        "\n",
        "*  The MSE and test score of Lasso regression perform a little worse than  MSE and test score of ridge regression with alpha chosen by cross-validation.\n",
        "\n",
        "*  Some coefficient of the variables in lasso regression are zero which is quite different from ridge.\n",
        "\n",
        "*  Lasso has advantage over ridge regression in that the resulting coefficient estimates are sparse.\n",
        "\n",
        "*  We can find that when the alpha is best fit for the model, some variables weight become zero. It means that Lasso does not take these variables into account because they only have minor effect on the model.\n",
        "\n",
        "     *  'RBI', 'years_experience', 'cumulative_at_bats', 'cumulative_hits', 'cumulative_home_runs' have little impact on the model, so lasso does not take them into consideration. --> which have similar result to Ridge outcome, these variables in Ridge model also have relatively small impact on the prediction.\n",
        "\n",
        "*  Lasso has the same result as ridge, 'League' and 'Division' has the most significant impact on the prediction.\n",
        "\n",
        "\n",
        "\n"
      ]
    },
    {
      "cell_type": "markdown",
      "metadata": {
        "id": "_UMp-mQlvEgu",
        "colab_type": "text"
      },
      "source": [
        "### Use the model to predict the salary"
      ]
    },
    {
      "cell_type": "code",
      "metadata": {
        "id": "mOy0EFuMkweg",
        "colab_type": "code",
        "outputId": "e6b2401f-1742-40d0-d102-16237d3efcd9",
        "colab": {
          "base_uri": "https://localhost:8080/",
          "height": 204
        }
      },
      "source": [
        "lasso_prediction_df = pd.DataFrame(las_model4.predict(X_test).round(), columns = {'Prediction'}).set_index([pd.Index(X_test.index)])\n",
        "lasso_all_together_df = X_test.join(y_test).join(lasso_prediction_df)\n",
        "lasso_all_together_df[['Salary', 'Prediction']].head()"
      ],
      "execution_count": 0,
      "outputs": [
        {
          "output_type": "execute_result",
          "data": {
            "text/html": [
              "<div>\n",
              "<style scoped>\n",
              "    .dataframe tbody tr th:only-of-type {\n",
              "        vertical-align: middle;\n",
              "    }\n",
              "\n",
              "    .dataframe tbody tr th {\n",
              "        vertical-align: top;\n",
              "    }\n",
              "\n",
              "    .dataframe thead th {\n",
              "        text-align: right;\n",
              "    }\n",
              "</style>\n",
              "<table border=\"1\" class=\"dataframe\">\n",
              "  <thead>\n",
              "    <tr style=\"text-align: right;\">\n",
              "      <th></th>\n",
              "      <th>Salary</th>\n",
              "      <th>Prediction</th>\n",
              "    </tr>\n",
              "  </thead>\n",
              "  <tbody>\n",
              "    <tr>\n",
              "      <th>139</th>\n",
              "      <td>90000</td>\n",
              "      <td>134228.0</td>\n",
              "    </tr>\n",
              "    <tr>\n",
              "      <th>106</th>\n",
              "      <td>225000</td>\n",
              "      <td>118259.0</td>\n",
              "    </tr>\n",
              "    <tr>\n",
              "      <th>7</th>\n",
              "      <td>125000</td>\n",
              "      <td>380838.0</td>\n",
              "    </tr>\n",
              "    <tr>\n",
              "      <th>107</th>\n",
              "      <td>613000</td>\n",
              "      <td>561923.0</td>\n",
              "    </tr>\n",
              "    <tr>\n",
              "      <th>60</th>\n",
              "      <td>1450000</td>\n",
              "      <td>1351116.0</td>\n",
              "    </tr>\n",
              "  </tbody>\n",
              "</table>\n",
              "</div>"
            ],
            "text/plain": [
              "      Salary  Prediction\n",
              "139    90000    134228.0\n",
              "106   225000    118259.0\n",
              "7     125000    380838.0\n",
              "107   613000    561923.0\n",
              "60   1450000   1351116.0"
            ]
          },
          "metadata": {
            "tags": []
          },
          "execution_count": 40
        }
      ]
    },
    {
      "cell_type": "markdown",
      "metadata": {
        "id": "gR8tGTVexTlt",
        "colab_type": "text"
      },
      "source": [
        "###  Performance of using Lasso to predict the salary\n",
        "\n",
        "*  Lasso got the higher prediction price than ridge.\n",
        "\n",
        "*  The test score is only 59.3%, it's hard to make a accurately prediction. From the result we can find that some predictions close to the real data, some don't. \n",
        "\n",
        "*  From this analysis, we can find that when we increase the value of alpha, the weights of some variables will be shrunk to zero but it does not make our model more bias. Lasso will exclude the variables which are useless for the model. It's quite different with Ridge."
      ]
    },
    {
      "cell_type": "markdown",
      "metadata": {
        "id": "y5DZyFCxyjjs",
        "colab_type": "text"
      },
      "source": [
        "# Conclusion"
      ]
    },
    {
      "cell_type": "markdown",
      "metadata": {
        "id": "-Jp6O0L5ymXL",
        "colab_type": "text"
      },
      "source": [
        "From the analysis above, I really have some interesting findings!\n",
        "\n",
        "*   When I have my alpha increased\n",
        "\n",
        "      *  Ridge: The test score will be really low and MSE will become pretty large. Also, the weight of variables got shrunk, the model become more bias.\n",
        "\n",
        "      *  Lasso: The test score get better(but alpha cannot be infinite). Some variables weight become zero, but some remain high. Lasso will not take those variables which only have minor influence of the prediction into account. It will set their weights to zero and make the model not so complex.\n",
        "\n",
        "*   Which variables have biggerst impact of the prediction?\n",
        "\n",
        "      *  'League' and 'Division'. Actually I got surprised from the result. I think other factors can have more impact on the salary. From the outcome, it tells us if we hope to get a higher pay as a baseball player, we need to choose the right League and Division!\n",
        "\n",
        "*   Ridge or Lasso?\n",
        "\n",
        "      *  From my perspective, I think both of them work well! But if I indeed need to choose one, I will choose Lasso. Though Ridge has a slightly better performance in this analysis, Lasso can \n",
        "         1. Exclude not so useful variables which I think is a good advantage. Lasso can decrease the complexity of the model \n",
        "         2. The shrinking and removing of the coefficients can reduce variance without a substantial increase of the bias. This feature is much better than Ridge. I think the prediction of Lasso is more steady."
      ]
    },
    {
      "cell_type": "markdown",
      "metadata": {
        "id": "lZiLJhT9l95g",
        "colab_type": "text"
      },
      "source": [
        "### Reference"
      ]
    },
    {
      "cell_type": "markdown",
      "metadata": {
        "id": "HQmA3F3xl_se",
        "colab_type": "text"
      },
      "source": [
        "I got deeper understanding of Ridge and Lasso regression from the link below:\n",
        "\n",
        "https://www.analyticsvidhya.com/blog/2016/01/ridge-lasso-regression-python-complete-tutorial/\n",
        "\n",
        "I take my regularization analysis reference as the link:\n",
        "\n",
        "http://www.science.smith.edu/~jcrouser/SDS293/labs/2016/lab10/Lab%2010%20-%20Ridge%20Regression%20and%20the%20Lasso%20in%20Python.pdf\n",
        "\n"
      ]
    }
  ]
}